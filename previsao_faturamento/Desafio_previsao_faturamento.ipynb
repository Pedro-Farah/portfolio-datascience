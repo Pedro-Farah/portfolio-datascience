{
 "cells": [
  {
   "attachments": {},
   "cell_type": "markdown",
   "metadata": {},
   "source": [
    "# Previsão de faturamento\n",
    "\n",
    "\n",
    " Desafio consiste em realizar uma análise exploratória dos dados e a construção de um modelo de regressão a partir de um levantamento sobre o público alvo de uma empresa alimentícia fictícia do Rio de Janeiro. Foi disponibilizada uma base de dados no formato .csv com as seguintes colunas:\n",
    "\n",
    "* codigo       - Código do Bairro\n",
    "* nome         - Nome do Bairro\n",
    "* cidade       - Cidade\n",
    "* estado       - Estado\n",
    "* população    - População Total\n",
    "* popAte9      - População até 9 anos\n",
    "* popDe10a14   - População de 10 a 14 anos\n",
    "* popDe15a19   - População de 15 a 19 anos\n",
    "* popDe20a24   - População de 20 a 24 anos\n",
    "* popDe25a34   - População de 25 a 34 anos\n",
    "* popDe35a49   - População de 35 a 49 anos\n",
    "* popDe50a59   - População de 50 a 59 anos\n",
    "* popMaisDe60  - População de 60 anos ou mais\n",
    "* domiciliosA1 - Quantidade de Domicílios de Renda A1\n",
    "* domiciliosA2 - Quantidade de Domicílios de Renda A2\n",
    "* domiciliosB1 - Quantidade de Domicílios de Renda B1\n",
    "* domiciliosB2 - Quantidade de Domicílios de Renda B2\n",
    "* domiciliosC1 - Quantidade de Domicílios de Renda C1\n",
    "* domiciliosC2 - Quantidade de Domicílios de Renda C2\n",
    "* domiciliosD  - Quantidade de Domicílios de Renda D\n",
    "* domiciliosE  - Quantidade de Domicílios de Renda E\n",
    "* rendaMedia   - Renda Média por Domicílio\n",
    "* faturamento  - Faturamento Total no Bairro\n",
    "\n",
    "O desafio foi dividido em duas partes. Na parte 1 está a parte relacionada com a limpeza, transformação e análise exploratória dos dados. Na parte 2 está a parte relacionada com a construção dos modelos regressores.\n",
    "\n",
    "Obrigado!\n",
    "\n"
   ]
  },
  {
   "cell_type": "markdown",
   "metadata": {},
   "source": [
    "## Parte 1\n",
    "\n",
    "Passos abordados:\n",
    "\n",
    "- Importação da Base e Bibliotecas \n",
    "- Informações Gerais\n",
    "- Limpeza\n",
    "- Análise e Visualização"
   ]
  },
  {
   "cell_type": "markdown",
   "metadata": {},
   "source": [
    "### Importação das Bibliotecas base e da Base de Dados"
   ]
  },
  {
   "cell_type": "code",
   "execution_count": 2,
   "metadata": {},
   "outputs": [],
   "source": [
    "import pandas as pd\n",
    "import numpy as np \n",
    "import matplotlib.pyplot as plt\n",
    "import seaborn as sns"
   ]
  },
  {
   "cell_type": "code",
   "execution_count": 8,
   "metadata": {},
   "outputs": [],
   "source": [
    "# Importação da Base de Dados\n",
    "base = pd.read_csv('DesafioEstagioMachineLearning.csv')"
   ]
  },
  {
   "cell_type": "code",
   "execution_count": 547,
   "metadata": {},
   "outputs": [
    {
     "data": {
      "text/plain": [
       "(160, 23)"
      ]
     },
     "execution_count": 547,
     "metadata": {},
     "output_type": "execute_result"
    }
   ],
   "source": [
    "# Formato da Base de Dados\n",
    "base.shape"
   ]
  },
  {
   "cell_type": "code",
   "execution_count": 548,
   "metadata": {},
   "outputs": [
    {
     "data": {
      "text/html": [
       "<div>\n",
       "<style scoped>\n",
       "    .dataframe tbody tr th:only-of-type {\n",
       "        vertical-align: middle;\n",
       "    }\n",
       "\n",
       "    .dataframe tbody tr th {\n",
       "        vertical-align: top;\n",
       "    }\n",
       "\n",
       "    .dataframe thead th {\n",
       "        text-align: right;\n",
       "    }\n",
       "</style>\n",
       "<table border=\"1\" class=\"dataframe\">\n",
       "  <thead>\n",
       "    <tr style=\"text-align: right;\">\n",
       "      <th></th>\n",
       "      <th>codigo</th>\n",
       "      <th>nome</th>\n",
       "      <th>cidade</th>\n",
       "      <th>estado</th>\n",
       "      <th>população</th>\n",
       "      <th>popAte9</th>\n",
       "      <th>popDe10a14</th>\n",
       "      <th>popDe15a19</th>\n",
       "      <th>popDe20a24</th>\n",
       "      <th>popDe25a34</th>\n",
       "      <th>...</th>\n",
       "      <th>domiciliosA1</th>\n",
       "      <th>domiciliosA2</th>\n",
       "      <th>domiciliosB1</th>\n",
       "      <th>domiciliosB2</th>\n",
       "      <th>domiciliosC1</th>\n",
       "      <th>domiciliosC2</th>\n",
       "      <th>domiciliosD</th>\n",
       "      <th>domiciliosE</th>\n",
       "      <th>rendaMedia</th>\n",
       "      <th>faturamento</th>\n",
       "    </tr>\n",
       "  </thead>\n",
       "  <tbody>\n",
       "    <tr>\n",
       "      <th>0</th>\n",
       "      <td>3304557060</td>\n",
       "      <td>Abolição</td>\n",
       "      <td>Rio de Janeiro</td>\n",
       "      <td>RJ</td>\n",
       "      <td>11676</td>\n",
       "      <td>1027</td>\n",
       "      <td>483</td>\n",
       "      <td>688</td>\n",
       "      <td>800</td>\n",
       "      <td>1675</td>\n",
       "      <td>...</td>\n",
       "      <td>0</td>\n",
       "      <td>145</td>\n",
       "      <td>715</td>\n",
       "      <td>1242</td>\n",
       "      <td>1093</td>\n",
       "      <td>758</td>\n",
       "      <td>92</td>\n",
       "      <td>304</td>\n",
       "      <td>2501.0</td>\n",
       "      <td>932515.0</td>\n",
       "    </tr>\n",
       "    <tr>\n",
       "      <th>1</th>\n",
       "      <td>3304557138</td>\n",
       "      <td>Acari</td>\n",
       "      <td>Rio de Janeiro</td>\n",
       "      <td>RJ</td>\n",
       "      <td>27564</td>\n",
       "      <td>5131</td>\n",
       "      <td>2188</td>\n",
       "      <td>2697</td>\n",
       "      <td>2630</td>\n",
       "      <td>4810</td>\n",
       "      <td>...</td>\n",
       "      <td>0</td>\n",
       "      <td>0</td>\n",
       "      <td>82</td>\n",
       "      <td>506</td>\n",
       "      <td>2040</td>\n",
       "      <td>2490</td>\n",
       "      <td>827</td>\n",
       "      <td>2506</td>\n",
       "      <td>931.0</td>\n",
       "      <td>588833.0</td>\n",
       "    </tr>\n",
       "    <tr>\n",
       "      <th>2</th>\n",
       "      <td>3304557057</td>\n",
       "      <td>Água Santa</td>\n",
       "      <td>Rio de Janeiro</td>\n",
       "      <td>RJ</td>\n",
       "      <td>9003</td>\n",
       "      <td>883</td>\n",
       "      <td>399</td>\n",
       "      <td>597</td>\n",
       "      <td>762</td>\n",
       "      <td>1755</td>\n",
       "      <td>...</td>\n",
       "      <td>0</td>\n",
       "      <td>96</td>\n",
       "      <td>404</td>\n",
       "      <td>652</td>\n",
       "      <td>644</td>\n",
       "      <td>522</td>\n",
       "      <td>77</td>\n",
       "      <td>254</td>\n",
       "      <td>2391.0</td>\n",
       "      <td>874200.0</td>\n",
       "    </tr>\n",
       "    <tr>\n",
       "      <th>3</th>\n",
       "      <td>3304557031</td>\n",
       "      <td>Alto Da Boa Vista</td>\n",
       "      <td>Rio de Janeiro</td>\n",
       "      <td>RJ</td>\n",
       "      <td>9606</td>\n",
       "      <td>1072</td>\n",
       "      <td>538</td>\n",
       "      <td>660</td>\n",
       "      <td>685</td>\n",
       "      <td>1317</td>\n",
       "      <td>...</td>\n",
       "      <td>114</td>\n",
       "      <td>178</td>\n",
       "      <td>393</td>\n",
       "      <td>517</td>\n",
       "      <td>945</td>\n",
       "      <td>584</td>\n",
       "      <td>137</td>\n",
       "      <td>286</td>\n",
       "      <td>3727.0</td>\n",
       "      <td>912226.0</td>\n",
       "    </tr>\n",
       "    <tr>\n",
       "      <th>4</th>\n",
       "      <td>3304557125</td>\n",
       "      <td>Anchieta</td>\n",
       "      <td>Rio de Janeiro</td>\n",
       "      <td>RJ</td>\n",
       "      <td>57222</td>\n",
       "      <td>7677</td>\n",
       "      <td>3774</td>\n",
       "      <td>4892</td>\n",
       "      <td>4600</td>\n",
       "      <td>8660</td>\n",
       "      <td>...</td>\n",
       "      <td>0</td>\n",
       "      <td>0</td>\n",
       "      <td>1089</td>\n",
       "      <td>2821</td>\n",
       "      <td>5110</td>\n",
       "      <td>5422</td>\n",
       "      <td>1073</td>\n",
       "      <td>3261</td>\n",
       "      <td>1380.0</td>\n",
       "      <td>553020.0</td>\n",
       "    </tr>\n",
       "  </tbody>\n",
       "</table>\n",
       "<p>5 rows × 23 columns</p>\n",
       "</div>"
      ],
      "text/plain": [
       "       codigo               nome          cidade estado  população  popAte9  \\\n",
       "0  3304557060           Abolição  Rio de Janeiro     RJ      11676     1027   \n",
       "1  3304557138              Acari  Rio de Janeiro     RJ      27564     5131   \n",
       "2  3304557057         Água Santa  Rio de Janeiro     RJ       9003      883   \n",
       "3  3304557031  Alto Da Boa Vista  Rio de Janeiro     RJ       9606     1072   \n",
       "4  3304557125           Anchieta  Rio de Janeiro     RJ      57222     7677   \n",
       "\n",
       "   popDe10a14  popDe15a19  popDe20a24  popDe25a34  ...  domiciliosA1  \\\n",
       "0         483         688         800        1675  ...             0   \n",
       "1        2188        2697        2630        4810  ...             0   \n",
       "2         399         597         762        1755  ...             0   \n",
       "3         538         660         685        1317  ...           114   \n",
       "4        3774        4892        4600        8660  ...             0   \n",
       "\n",
       "   domiciliosA2  domiciliosB1  domiciliosB2  domiciliosC1  domiciliosC2  \\\n",
       "0           145           715          1242          1093           758   \n",
       "1             0            82           506          2040          2490   \n",
       "2            96           404           652           644           522   \n",
       "3           178           393           517           945           584   \n",
       "4             0          1089          2821          5110          5422   \n",
       "\n",
       "   domiciliosD  domiciliosE  rendaMedia  faturamento  \n",
       "0           92          304      2501.0     932515.0  \n",
       "1          827         2506       931.0     588833.0  \n",
       "2           77          254      2391.0     874200.0  \n",
       "3          137          286      3727.0     912226.0  \n",
       "4         1073         3261      1380.0     553020.0  \n",
       "\n",
       "[5 rows x 23 columns]"
      ]
     },
     "execution_count": 548,
     "metadata": {},
     "output_type": "execute_result"
    }
   ],
   "source": [
    "# Visualização das 5 primeiras linhas\n",
    "base.head()"
   ]
  },
  {
   "cell_type": "markdown",
   "metadata": {},
   "source": [
    "### Informações Gerais Sobre os Dados"
   ]
  },
  {
   "cell_type": "code",
   "execution_count": 549,
   "metadata": {},
   "outputs": [
    {
     "name": "stdout",
     "output_type": "stream",
     "text": [
      "<class 'pandas.core.frame.DataFrame'>\n",
      "RangeIndex: 160 entries, 0 to 159\n",
      "Data columns (total 23 columns):\n",
      " #   Column        Non-Null Count  Dtype  \n",
      "---  ------        --------------  -----  \n",
      " 0   codigo        160 non-null    int64  \n",
      " 1   nome          160 non-null    object \n",
      " 2   cidade        160 non-null    object \n",
      " 3   estado        160 non-null    object \n",
      " 4   população     160 non-null    int64  \n",
      " 5   popAte9       160 non-null    int64  \n",
      " 6   popDe10a14    160 non-null    int64  \n",
      " 7   popDe15a19    160 non-null    int64  \n",
      " 8   popDe20a24    160 non-null    int64  \n",
      " 9   popDe25a34    160 non-null    int64  \n",
      " 10  popDe35a49    160 non-null    int64  \n",
      " 11  popDe50a59    160 non-null    int64  \n",
      " 12  popMaisDe60   160 non-null    int64  \n",
      " 13  domiciliosA1  160 non-null    int64  \n",
      " 14  domiciliosA2  160 non-null    int64  \n",
      " 15  domiciliosB1  160 non-null    int64  \n",
      " 16  domiciliosB2  160 non-null    int64  \n",
      " 17  domiciliosC1  160 non-null    int64  \n",
      " 18  domiciliosC2  160 non-null    int64  \n",
      " 19  domiciliosD   160 non-null    int64  \n",
      " 20  domiciliosE   160 non-null    int64  \n",
      " 21  rendaMedia    154 non-null    float64\n",
      " 22  faturamento   160 non-null    float64\n",
      "dtypes: float64(2), int64(18), object(3)\n",
      "memory usage: 28.9+ KB\n"
     ]
    }
   ],
   "source": [
    "# Formato dos dos dados de cada coluna\n",
    "base.info()"
   ]
  },
  {
   "cell_type": "code",
   "execution_count": 9,
   "metadata": {},
   "outputs": [],
   "source": [
    "# Retirando atributos desnecessários\n",
    "base.drop(['codigo', 'cidade', 'estado'], axis = 1, inplace=True)"
   ]
  },
  {
   "cell_type": "code",
   "execution_count": 551,
   "metadata": {},
   "outputs": [
    {
     "data": {
      "text/html": [
       "<div>\n",
       "<style scoped>\n",
       "    .dataframe tbody tr th:only-of-type {\n",
       "        vertical-align: middle;\n",
       "    }\n",
       "\n",
       "    .dataframe tbody tr th {\n",
       "        vertical-align: top;\n",
       "    }\n",
       "\n",
       "    .dataframe thead th {\n",
       "        text-align: right;\n",
       "    }\n",
       "</style>\n",
       "<table border=\"1\" class=\"dataframe\">\n",
       "  <thead>\n",
       "    <tr style=\"text-align: right;\">\n",
       "      <th></th>\n",
       "      <th>população</th>\n",
       "      <th>popAte9</th>\n",
       "      <th>popDe10a14</th>\n",
       "      <th>popDe15a19</th>\n",
       "      <th>popDe20a24</th>\n",
       "      <th>popDe25a34</th>\n",
       "      <th>popDe35a49</th>\n",
       "      <th>popDe50a59</th>\n",
       "      <th>popMaisDe60</th>\n",
       "      <th>domiciliosA1</th>\n",
       "      <th>domiciliosA2</th>\n",
       "      <th>domiciliosB1</th>\n",
       "      <th>domiciliosB2</th>\n",
       "      <th>domiciliosC1</th>\n",
       "      <th>domiciliosC2</th>\n",
       "      <th>domiciliosD</th>\n",
       "      <th>domiciliosE</th>\n",
       "      <th>rendaMedia</th>\n",
       "      <th>faturamento</th>\n",
       "    </tr>\n",
       "  </thead>\n",
       "  <tbody>\n",
       "    <tr>\n",
       "      <th>count</th>\n",
       "      <td>160.000000</td>\n",
       "      <td>160.00000</td>\n",
       "      <td>160.000000</td>\n",
       "      <td>160.000000</td>\n",
       "      <td>160.000000</td>\n",
       "      <td>160.000000</td>\n",
       "      <td>160.000000</td>\n",
       "      <td>160.000000</td>\n",
       "      <td>160.000000</td>\n",
       "      <td>160.000000</td>\n",
       "      <td>160.000000</td>\n",
       "      <td>160.000000</td>\n",
       "      <td>160.000000</td>\n",
       "      <td>160.000000</td>\n",
       "      <td>160.000000</td>\n",
       "      <td>160.00000</td>\n",
       "      <td>160.000000</td>\n",
       "      <td>154.000000</td>\n",
       "      <td>1.600000e+02</td>\n",
       "    </tr>\n",
       "    <tr>\n",
       "      <th>mean</th>\n",
       "      <td>42654.350000</td>\n",
       "      <td>5329.06250</td>\n",
       "      <td>2484.443750</td>\n",
       "      <td>3272.156250</td>\n",
       "      <td>3349.381250</td>\n",
       "      <td>6584.475000</td>\n",
       "      <td>8826.862500</td>\n",
       "      <td>5332.262500</td>\n",
       "      <td>7475.706250</td>\n",
       "      <td>388.475000</td>\n",
       "      <td>608.268750</td>\n",
       "      <td>1871.562500</td>\n",
       "      <td>2385.075000</td>\n",
       "      <td>3539.850000</td>\n",
       "      <td>3030.806250</td>\n",
       "      <td>568.37500</td>\n",
       "      <td>1821.612500</td>\n",
       "      <td>3608.071429</td>\n",
       "      <td>8.761600e+05</td>\n",
       "    </tr>\n",
       "    <tr>\n",
       "      <th>std</th>\n",
       "      <td>64262.949072</td>\n",
       "      <td>10816.19977</td>\n",
       "      <td>4948.827166</td>\n",
       "      <td>5752.156303</td>\n",
       "      <td>5601.893201</td>\n",
       "      <td>9049.895783</td>\n",
       "      <td>11536.276416</td>\n",
       "      <td>7986.261929</td>\n",
       "      <td>10258.307743</td>\n",
       "      <td>1403.605232</td>\n",
       "      <td>1535.237669</td>\n",
       "      <td>2973.530791</td>\n",
       "      <td>2779.071565</td>\n",
       "      <td>4324.539462</td>\n",
       "      <td>4003.047836</td>\n",
       "      <td>823.92034</td>\n",
       "      <td>2292.079295</td>\n",
       "      <td>6091.865305</td>\n",
       "      <td>4.382106e+05</td>\n",
       "    </tr>\n",
       "    <tr>\n",
       "      <th>min</th>\n",
       "      <td>173.000000</td>\n",
       "      <td>33.00000</td>\n",
       "      <td>13.000000</td>\n",
       "      <td>22.000000</td>\n",
       "      <td>17.000000</td>\n",
       "      <td>28.000000</td>\n",
       "      <td>38.000000</td>\n",
       "      <td>10.000000</td>\n",
       "      <td>12.000000</td>\n",
       "      <td>0.000000</td>\n",
       "      <td>0.000000</td>\n",
       "      <td>0.000000</td>\n",
       "      <td>0.000000</td>\n",
       "      <td>5.000000</td>\n",
       "      <td>3.000000</td>\n",
       "      <td>0.00000</td>\n",
       "      <td>2.000000</td>\n",
       "      <td>654.000000</td>\n",
       "      <td>2.465100e+04</td>\n",
       "    </tr>\n",
       "    <tr>\n",
       "      <th>25%</th>\n",
       "      <td>13362.750000</td>\n",
       "      <td>1512.75000</td>\n",
       "      <td>690.750000</td>\n",
       "      <td>945.000000</td>\n",
       "      <td>994.750000</td>\n",
       "      <td>2131.250000</td>\n",
       "      <td>2900.750000</td>\n",
       "      <td>1598.750000</td>\n",
       "      <td>2118.250000</td>\n",
       "      <td>0.000000</td>\n",
       "      <td>0.000000</td>\n",
       "      <td>391.500000</td>\n",
       "      <td>716.000000</td>\n",
       "      <td>1088.750000</td>\n",
       "      <td>789.750000</td>\n",
       "      <td>117.75000</td>\n",
       "      <td>431.500000</td>\n",
       "      <td>1486.000000</td>\n",
       "      <td>7.112785e+05</td>\n",
       "    </tr>\n",
       "    <tr>\n",
       "      <th>50%</th>\n",
       "      <td>26076.000000</td>\n",
       "      <td>3111.50000</td>\n",
       "      <td>1434.000000</td>\n",
       "      <td>2015.000000</td>\n",
       "      <td>2142.500000</td>\n",
       "      <td>4170.500000</td>\n",
       "      <td>5657.000000</td>\n",
       "      <td>3371.500000</td>\n",
       "      <td>4575.500000</td>\n",
       "      <td>0.000000</td>\n",
       "      <td>107.500000</td>\n",
       "      <td>848.000000</td>\n",
       "      <td>1536.000000</td>\n",
       "      <td>2394.500000</td>\n",
       "      <td>1861.500000</td>\n",
       "      <td>327.50000</td>\n",
       "      <td>1042.500000</td>\n",
       "      <td>1915.500000</td>\n",
       "      <td>8.242285e+05</td>\n",
       "    </tr>\n",
       "    <tr>\n",
       "      <th>75%</th>\n",
       "      <td>46504.500000</td>\n",
       "      <td>5622.25000</td>\n",
       "      <td>2621.500000</td>\n",
       "      <td>3448.750000</td>\n",
       "      <td>3451.750000</td>\n",
       "      <td>7145.250000</td>\n",
       "      <td>9586.750000</td>\n",
       "      <td>6333.250000</td>\n",
       "      <td>9196.000000</td>\n",
       "      <td>1.000000</td>\n",
       "      <td>430.500000</td>\n",
       "      <td>1962.500000</td>\n",
       "      <td>3065.750000</td>\n",
       "      <td>4203.000000</td>\n",
       "      <td>3652.500000</td>\n",
       "      <td>694.00000</td>\n",
       "      <td>2138.250000</td>\n",
       "      <td>2954.500000</td>\n",
       "      <td>9.343208e+05</td>\n",
       "    </tr>\n",
       "    <tr>\n",
       "      <th>max</th>\n",
       "      <td>667603.000000</td>\n",
       "      <td>122578.00000</td>\n",
       "      <td>55935.000000</td>\n",
       "      <td>62342.000000</td>\n",
       "      <td>60567.000000</td>\n",
       "      <td>86116.000000</td>\n",
       "      <td>105316.000000</td>\n",
       "      <td>83341.000000</td>\n",
       "      <td>91408.000000</td>\n",
       "      <td>13408.000000</td>\n",
       "      <td>11668.000000</td>\n",
       "      <td>19350.000000</td>\n",
       "      <td>21237.000000</td>\n",
       "      <td>33111.000000</td>\n",
       "      <td>25779.000000</td>\n",
       "      <td>4956.00000</td>\n",
       "      <td>14833.000000</td>\n",
       "      <td>63887.000000</td>\n",
       "      <td>2.915612e+06</td>\n",
       "    </tr>\n",
       "  </tbody>\n",
       "</table>\n",
       "</div>"
      ],
      "text/plain": [
       "           população       popAte9    popDe10a14    popDe15a19    popDe20a24  \\\n",
       "count     160.000000     160.00000    160.000000    160.000000    160.000000   \n",
       "mean    42654.350000    5329.06250   2484.443750   3272.156250   3349.381250   \n",
       "std     64262.949072   10816.19977   4948.827166   5752.156303   5601.893201   \n",
       "min       173.000000      33.00000     13.000000     22.000000     17.000000   \n",
       "25%     13362.750000    1512.75000    690.750000    945.000000    994.750000   \n",
       "50%     26076.000000    3111.50000   1434.000000   2015.000000   2142.500000   \n",
       "75%     46504.500000    5622.25000   2621.500000   3448.750000   3451.750000   \n",
       "max    667603.000000  122578.00000  55935.000000  62342.000000  60567.000000   \n",
       "\n",
       "         popDe25a34     popDe35a49    popDe50a59   popMaisDe60  domiciliosA1  \\\n",
       "count    160.000000     160.000000    160.000000    160.000000    160.000000   \n",
       "mean    6584.475000    8826.862500   5332.262500   7475.706250    388.475000   \n",
       "std     9049.895783   11536.276416   7986.261929  10258.307743   1403.605232   \n",
       "min       28.000000      38.000000     10.000000     12.000000      0.000000   \n",
       "25%     2131.250000    2900.750000   1598.750000   2118.250000      0.000000   \n",
       "50%     4170.500000    5657.000000   3371.500000   4575.500000      0.000000   \n",
       "75%     7145.250000    9586.750000   6333.250000   9196.000000      1.000000   \n",
       "max    86116.000000  105316.000000  83341.000000  91408.000000  13408.000000   \n",
       "\n",
       "       domiciliosA2  domiciliosB1  domiciliosB2  domiciliosC1  domiciliosC2  \\\n",
       "count    160.000000    160.000000    160.000000    160.000000    160.000000   \n",
       "mean     608.268750   1871.562500   2385.075000   3539.850000   3030.806250   \n",
       "std     1535.237669   2973.530791   2779.071565   4324.539462   4003.047836   \n",
       "min        0.000000      0.000000      0.000000      5.000000      3.000000   \n",
       "25%        0.000000    391.500000    716.000000   1088.750000    789.750000   \n",
       "50%      107.500000    848.000000   1536.000000   2394.500000   1861.500000   \n",
       "75%      430.500000   1962.500000   3065.750000   4203.000000   3652.500000   \n",
       "max    11668.000000  19350.000000  21237.000000  33111.000000  25779.000000   \n",
       "\n",
       "       domiciliosD   domiciliosE    rendaMedia   faturamento  \n",
       "count    160.00000    160.000000    154.000000  1.600000e+02  \n",
       "mean     568.37500   1821.612500   3608.071429  8.761600e+05  \n",
       "std      823.92034   2292.079295   6091.865305  4.382106e+05  \n",
       "min        0.00000      2.000000    654.000000  2.465100e+04  \n",
       "25%      117.75000    431.500000   1486.000000  7.112785e+05  \n",
       "50%      327.50000   1042.500000   1915.500000  8.242285e+05  \n",
       "75%      694.00000   2138.250000   2954.500000  9.343208e+05  \n",
       "max     4956.00000  14833.000000  63887.000000  2.915612e+06  "
      ]
     },
     "execution_count": 551,
     "metadata": {},
     "output_type": "execute_result"
    }
   ],
   "source": [
    "# Estatísticas básicas para cada coluna\n",
    "base.describe()"
   ]
  },
  {
   "cell_type": "markdown",
   "metadata": {},
   "source": [
    "### Limpeza dos dados"
   ]
  },
  {
   "cell_type": "code",
   "execution_count": 552,
   "metadata": {},
   "outputs": [
    {
     "data": {
      "text/plain": [
       "nome            0\n",
       "população       0\n",
       "popAte9         0\n",
       "popDe10a14      0\n",
       "popDe15a19      0\n",
       "popDe20a24      0\n",
       "popDe25a34      0\n",
       "popDe35a49      0\n",
       "popDe50a59      0\n",
       "popMaisDe60     0\n",
       "domiciliosA1    0\n",
       "domiciliosA2    0\n",
       "domiciliosB1    0\n",
       "domiciliosB2    0\n",
       "domiciliosC1    0\n",
       "domiciliosC2    0\n",
       "domiciliosD     0\n",
       "domiciliosE     0\n",
       "rendaMedia      6\n",
       "faturamento     0\n",
       "dtype: int64"
      ]
     },
     "execution_count": 552,
     "metadata": {},
     "output_type": "execute_result"
    }
   ],
   "source": [
    "# Procurando por valores faltantes \n",
    "base.isnull().sum()"
   ]
  },
  {
   "cell_type": "markdown",
   "metadata": {},
   "source": [
    "#### Tratamento dos valores nulos\n",
    "\n",
    "Existem várias abordagens do que fazer quando existem valores nulos na Base de Dados. Cada uma delas é usada de acordo com um caso específico e não existe uma \"verdade universal\" em relação ao que fazer para contornar esses problemas. Neste caso, optei por substituir os valores nulos da coluna \"rendaMedia\" pela média dos valores dessa coluna. Outras opções seriam excluir os registros correspondentes, substituir pela mediana, ou imputar os valores através de algum algoritmo de Machine Learning. "
   ]
  },
  {
   "cell_type": "code",
   "execution_count": 10,
   "metadata": {},
   "outputs": [],
   "source": [
    "# Preenchendo os valores nulos com a média da coluna\n",
    "base.loc[(base['rendaMedia'].isnull() == True), 'rendaMedia'] = base['rendaMedia'].mean()"
   ]
  },
  {
   "cell_type": "code",
   "execution_count": 554,
   "metadata": {},
   "outputs": [
    {
     "data": {
      "text/plain": [
       "nome            0\n",
       "população       0\n",
       "popAte9         0\n",
       "popDe10a14      0\n",
       "popDe15a19      0\n",
       "popDe20a24      0\n",
       "popDe25a34      0\n",
       "popDe35a49      0\n",
       "popDe50a59      0\n",
       "popMaisDe60     0\n",
       "domiciliosA1    0\n",
       "domiciliosA2    0\n",
       "domiciliosB1    0\n",
       "domiciliosB2    0\n",
       "domiciliosC1    0\n",
       "domiciliosC2    0\n",
       "domiciliosD     0\n",
       "domiciliosE     0\n",
       "rendaMedia      0\n",
       "faturamento     0\n",
       "dtype: int64"
      ]
     },
     "execution_count": 554,
     "metadata": {},
     "output_type": "execute_result"
    }
   ],
   "source": [
    "# Verificando os valores nulos novamente\n",
    "base.isnull().sum()"
   ]
  },
  {
   "cell_type": "markdown",
   "metadata": {},
   "source": [
    "#### Outliers\n",
    "\n",
    "É sempre importante buscar por  pontos que se econtrem muito distantes dos demais e que possam se enquadrar como outliers. Esses valores podem ser informações reais ou podem ser erros de preenchimento. Assim como no caso dos valores nulos, cabe que a decisão seja tomada de acordo com cada situação, sendo que os valores podem ser retirados ou corrigidos. Neste caso, os dados considerados como outliers serão desconsiderados pois podem atrapalhar na construção do futuro modelo regressor. \n",
    "\n",
    "Existem inúmeros modos estatísticos para encontrar outliers. Aqui, o utilizado foi o método com o cálculo do  Z-score onde são levados em conta o desvio padrão e a média dos dados. Os dados são reescalonados e é encontrada a distribuição com média 0 e desvio padrão 1. Os dados que se encontrarem muito longe do 0, são considerados outliers."
   ]
  },
  {
   "cell_type": "code",
   "execution_count": 11,
   "metadata": {
    "scrolled": true
   },
   "outputs": [
    {
     "name": "stdout",
     "output_type": "stream",
     "text": [
      "[[0.48356968 0.39899132 0.40569769 ... 0.66419054 0.18584018 0.1290064 ]\n",
      " [0.23555921 0.01836915 0.06008989 ... 0.29952554 0.44939056 0.65774105]\n",
      " [0.525295   0.41234648 0.4227247  ... 0.68607329 0.2043055  0.00448671]\n",
      " ...\n",
      " [0.14773778 0.20061149 0.17542763 ... 0.45936805 0.07034805 0.57431229]\n",
      " [0.52741795 0.42709281 0.42515713 ... 0.70357948 0.1997731  0.1046496 ]\n",
      " [0.63348738 0.47800937 0.48860302 ... 0.77666785 0.03070758 0.09910065]]\n"
     ]
    },
    {
     "data": {
      "text/plain": [
       "(160, 19)"
      ]
     },
     "execution_count": 11,
     "metadata": {},
     "output_type": "execute_result"
    }
   ],
   "source": [
    "# Nome retirado para o cálculo\n",
    "base.drop(['nome'], axis = 1, inplace=True)\n",
    "# Cálculo do Z-Score\n",
    "from scipy import stats\n",
    "z = np.abs(stats.zscore(base))\n",
    "print(z)\n",
    "z.shape"
   ]
  },
  {
   "cell_type": "code",
   "execution_count": 12,
   "metadata": {},
   "outputs": [],
   "source": [
    "# Mantendo somente os valores com z menor que 3\n",
    "base = base[(z < 3).all(axis=1)]"
   ]
  },
  {
   "cell_type": "code",
   "execution_count": 557,
   "metadata": {},
   "outputs": [
    {
     "data": {
      "text/plain": [
       "(148, 19)"
      ]
     },
     "execution_count": 557,
     "metadata": {},
     "output_type": "execute_result"
    }
   ],
   "source": [
    "# Novo tamanho da base\n",
    "base.shape"
   ]
  },
  {
   "cell_type": "code",
   "execution_count": 558,
   "metadata": {},
   "outputs": [
    {
     "data": {
      "text/html": [
       "<div>\n",
       "<style scoped>\n",
       "    .dataframe tbody tr th:only-of-type {\n",
       "        vertical-align: middle;\n",
       "    }\n",
       "\n",
       "    .dataframe tbody tr th {\n",
       "        vertical-align: top;\n",
       "    }\n",
       "\n",
       "    .dataframe thead th {\n",
       "        text-align: right;\n",
       "    }\n",
       "</style>\n",
       "<table border=\"1\" class=\"dataframe\">\n",
       "  <thead>\n",
       "    <tr style=\"text-align: right;\">\n",
       "      <th></th>\n",
       "      <th>população</th>\n",
       "      <th>popAte9</th>\n",
       "      <th>popDe10a14</th>\n",
       "      <th>popDe15a19</th>\n",
       "      <th>popDe20a24</th>\n",
       "      <th>popDe25a34</th>\n",
       "      <th>popDe35a49</th>\n",
       "      <th>popDe50a59</th>\n",
       "      <th>popMaisDe60</th>\n",
       "      <th>domiciliosA1</th>\n",
       "      <th>domiciliosA2</th>\n",
       "      <th>domiciliosB1</th>\n",
       "      <th>domiciliosB2</th>\n",
       "      <th>domiciliosC1</th>\n",
       "      <th>domiciliosC2</th>\n",
       "      <th>domiciliosD</th>\n",
       "      <th>domiciliosE</th>\n",
       "      <th>rendaMedia</th>\n",
       "      <th>faturamento</th>\n",
       "    </tr>\n",
       "  </thead>\n",
       "  <tbody>\n",
       "    <tr>\n",
       "      <th>count</th>\n",
       "      <td>148.000000</td>\n",
       "      <td>148.000000</td>\n",
       "      <td>148.000000</td>\n",
       "      <td>148.000000</td>\n",
       "      <td>148.000000</td>\n",
       "      <td>148.000000</td>\n",
       "      <td>148.000000</td>\n",
       "      <td>148.000000</td>\n",
       "      <td>148.000000</td>\n",
       "      <td>148.000000</td>\n",
       "      <td>148.000000</td>\n",
       "      <td>148.000000</td>\n",
       "      <td>148.000000</td>\n",
       "      <td>148.000000</td>\n",
       "      <td>148.000000</td>\n",
       "      <td>148.000000</td>\n",
       "      <td>148.000000</td>\n",
       "      <td>148.000000</td>\n",
       "      <td>1.480000e+02</td>\n",
       "    </tr>\n",
       "    <tr>\n",
       "      <th>mean</th>\n",
       "      <td>31015.959459</td>\n",
       "      <td>3685.912162</td>\n",
       "      <td>1742.716216</td>\n",
       "      <td>2345.736486</td>\n",
       "      <td>2402.641892</td>\n",
       "      <td>4857.459459</td>\n",
       "      <td>6603.250000</td>\n",
       "      <td>3885.256757</td>\n",
       "      <td>5492.986486</td>\n",
       "      <td>177.209459</td>\n",
       "      <td>364.344595</td>\n",
       "      <td>1348.756757</td>\n",
       "      <td>1869.385135</td>\n",
       "      <td>2768.439189</td>\n",
       "      <td>2357.324324</td>\n",
       "      <td>433.554054</td>\n",
       "      <td>1435.391892</td>\n",
       "      <td>3024.354247</td>\n",
       "      <td>8.531321e+05</td>\n",
       "    </tr>\n",
       "    <tr>\n",
       "      <th>std</th>\n",
       "      <td>24535.117537</td>\n",
       "      <td>3351.590882</td>\n",
       "      <td>1568.092663</td>\n",
       "      <td>2046.227398</td>\n",
       "      <td>1984.665077</td>\n",
       "      <td>3878.328533</td>\n",
       "      <td>5249.929755</td>\n",
       "      <td>3030.509432</td>\n",
       "      <td>4449.552348</td>\n",
       "      <td>580.526389</td>\n",
       "      <td>722.293745</td>\n",
       "      <td>1582.701499</td>\n",
       "      <td>1521.370773</td>\n",
       "      <td>2258.904455</td>\n",
       "      <td>2174.022292</td>\n",
       "      <td>454.197510</td>\n",
       "      <td>1437.362620</td>\n",
       "      <td>3279.046060</td>\n",
       "      <td>3.111745e+05</td>\n",
       "    </tr>\n",
       "    <tr>\n",
       "      <th>min</th>\n",
       "      <td>173.000000</td>\n",
       "      <td>33.000000</td>\n",
       "      <td>13.000000</td>\n",
       "      <td>22.000000</td>\n",
       "      <td>17.000000</td>\n",
       "      <td>28.000000</td>\n",
       "      <td>38.000000</td>\n",
       "      <td>10.000000</td>\n",
       "      <td>12.000000</td>\n",
       "      <td>0.000000</td>\n",
       "      <td>0.000000</td>\n",
       "      <td>0.000000</td>\n",
       "      <td>0.000000</td>\n",
       "      <td>5.000000</td>\n",
       "      <td>3.000000</td>\n",
       "      <td>0.000000</td>\n",
       "      <td>2.000000</td>\n",
       "      <td>654.000000</td>\n",
       "      <td>5.927300e+04</td>\n",
       "    </tr>\n",
       "    <tr>\n",
       "      <th>25%</th>\n",
       "      <td>12898.500000</td>\n",
       "      <td>1365.750000</td>\n",
       "      <td>666.250000</td>\n",
       "      <td>903.250000</td>\n",
       "      <td>945.750000</td>\n",
       "      <td>2029.250000</td>\n",
       "      <td>2738.500000</td>\n",
       "      <td>1547.500000</td>\n",
       "      <td>2084.750000</td>\n",
       "      <td>0.000000</td>\n",
       "      <td>0.000000</td>\n",
       "      <td>364.250000</td>\n",
       "      <td>680.000000</td>\n",
       "      <td>1043.750000</td>\n",
       "      <td>768.500000</td>\n",
       "      <td>116.750000</td>\n",
       "      <td>415.500000</td>\n",
       "      <td>1492.000000</td>\n",
       "      <td>7.220752e+05</td>\n",
       "    </tr>\n",
       "    <tr>\n",
       "      <th>50%</th>\n",
       "      <td>25460.000000</td>\n",
       "      <td>2961.500000</td>\n",
       "      <td>1350.500000</td>\n",
       "      <td>1850.000000</td>\n",
       "      <td>1939.000000</td>\n",
       "      <td>3966.500000</td>\n",
       "      <td>5466.000000</td>\n",
       "      <td>3230.000000</td>\n",
       "      <td>4359.000000</td>\n",
       "      <td>0.000000</td>\n",
       "      <td>94.000000</td>\n",
       "      <td>770.500000</td>\n",
       "      <td>1431.500000</td>\n",
       "      <td>2231.000000</td>\n",
       "      <td>1775.500000</td>\n",
       "      <td>304.500000</td>\n",
       "      <td>982.500000</td>\n",
       "      <td>1943.500000</td>\n",
       "      <td>8.242285e+05</td>\n",
       "    </tr>\n",
       "    <tr>\n",
       "      <th>75%</th>\n",
       "      <td>43090.500000</td>\n",
       "      <td>4794.000000</td>\n",
       "      <td>2260.750000</td>\n",
       "      <td>3110.500000</td>\n",
       "      <td>3246.000000</td>\n",
       "      <td>6698.500000</td>\n",
       "      <td>9363.750000</td>\n",
       "      <td>5728.750000</td>\n",
       "      <td>7994.500000</td>\n",
       "      <td>0.000000</td>\n",
       "      <td>336.000000</td>\n",
       "      <td>1767.250000</td>\n",
       "      <td>2563.500000</td>\n",
       "      <td>3863.750000</td>\n",
       "      <td>3435.250000</td>\n",
       "      <td>611.250000</td>\n",
       "      <td>1905.750000</td>\n",
       "      <td>2986.750000</td>\n",
       "      <td>9.321340e+05</td>\n",
       "    </tr>\n",
       "    <tr>\n",
       "      <th>max</th>\n",
       "      <td>112994.000000</td>\n",
       "      <td>18088.000000</td>\n",
       "      <td>8474.000000</td>\n",
       "      <td>10307.000000</td>\n",
       "      <td>9069.000000</td>\n",
       "      <td>18732.000000</td>\n",
       "      <td>25269.000000</td>\n",
       "      <td>14384.000000</td>\n",
       "      <td>22046.000000</td>\n",
       "      <td>4213.000000</td>\n",
       "      <td>4307.000000</td>\n",
       "      <td>7949.000000</td>\n",
       "      <td>8325.000000</td>\n",
       "      <td>10129.000000</td>\n",
       "      <td>11066.000000</td>\n",
       "      <td>2289.000000</td>\n",
       "      <td>7987.000000</td>\n",
       "      <td>17984.000000</td>\n",
       "      <td>1.981817e+06</td>\n",
       "    </tr>\n",
       "  </tbody>\n",
       "</table>\n",
       "</div>"
      ],
      "text/plain": [
       "           população       popAte9   popDe10a14    popDe15a19   popDe20a24  \\\n",
       "count     148.000000    148.000000   148.000000    148.000000   148.000000   \n",
       "mean    31015.959459   3685.912162  1742.716216   2345.736486  2402.641892   \n",
       "std     24535.117537   3351.590882  1568.092663   2046.227398  1984.665077   \n",
       "min       173.000000     33.000000    13.000000     22.000000    17.000000   \n",
       "25%     12898.500000   1365.750000   666.250000    903.250000   945.750000   \n",
       "50%     25460.000000   2961.500000  1350.500000   1850.000000  1939.000000   \n",
       "75%     43090.500000   4794.000000  2260.750000   3110.500000  3246.000000   \n",
       "max    112994.000000  18088.000000  8474.000000  10307.000000  9069.000000   \n",
       "\n",
       "         popDe25a34    popDe35a49    popDe50a59   popMaisDe60  domiciliosA1  \\\n",
       "count    148.000000    148.000000    148.000000    148.000000    148.000000   \n",
       "mean    4857.459459   6603.250000   3885.256757   5492.986486    177.209459   \n",
       "std     3878.328533   5249.929755   3030.509432   4449.552348    580.526389   \n",
       "min       28.000000     38.000000     10.000000     12.000000      0.000000   \n",
       "25%     2029.250000   2738.500000   1547.500000   2084.750000      0.000000   \n",
       "50%     3966.500000   5466.000000   3230.000000   4359.000000      0.000000   \n",
       "75%     6698.500000   9363.750000   5728.750000   7994.500000      0.000000   \n",
       "max    18732.000000  25269.000000  14384.000000  22046.000000   4213.000000   \n",
       "\n",
       "       domiciliosA2  domiciliosB1  domiciliosB2  domiciliosC1  domiciliosC2  \\\n",
       "count    148.000000    148.000000    148.000000    148.000000    148.000000   \n",
       "mean     364.344595   1348.756757   1869.385135   2768.439189   2357.324324   \n",
       "std      722.293745   1582.701499   1521.370773   2258.904455   2174.022292   \n",
       "min        0.000000      0.000000      0.000000      5.000000      3.000000   \n",
       "25%        0.000000    364.250000    680.000000   1043.750000    768.500000   \n",
       "50%       94.000000    770.500000   1431.500000   2231.000000   1775.500000   \n",
       "75%      336.000000   1767.250000   2563.500000   3863.750000   3435.250000   \n",
       "max     4307.000000   7949.000000   8325.000000  10129.000000  11066.000000   \n",
       "\n",
       "       domiciliosD  domiciliosE    rendaMedia   faturamento  \n",
       "count   148.000000   148.000000    148.000000  1.480000e+02  \n",
       "mean    433.554054  1435.391892   3024.354247  8.531321e+05  \n",
       "std     454.197510  1437.362620   3279.046060  3.111745e+05  \n",
       "min       0.000000     2.000000    654.000000  5.927300e+04  \n",
       "25%     116.750000   415.500000   1492.000000  7.220752e+05  \n",
       "50%     304.500000   982.500000   1943.500000  8.242285e+05  \n",
       "75%     611.250000  1905.750000   2986.750000  9.321340e+05  \n",
       "max    2289.000000  7987.000000  17984.000000  1.981817e+06  "
      ]
     },
     "execution_count": 558,
     "metadata": {},
     "output_type": "execute_result"
    }
   ],
   "source": [
    "# Nova descrição da base\n",
    "base.describe()"
   ]
  },
  {
   "cell_type": "markdown",
   "metadata": {},
   "source": [
    "### Análise e Visualização dos Dados"
   ]
  },
  {
   "cell_type": "markdown",
   "metadata": {},
   "source": [
    "#### Visualização de histogramas para os atributos\n",
    "\n",
    "A fim de ter uma idea da distribuição de frequência dos atributos, os histogramas abaixo foram gerados"
   ]
  },
  {
   "cell_type": "code",
   "execution_count": 559,
   "metadata": {},
   "outputs": [
    {
     "data": {
      "image/png": "[encoded data removed]",
      "text/plain": [
       "<Figure size 1440x1440 with 20 Axes>"
      ]
     },
     "metadata": {
      "needs_background": "light"
     },
     "output_type": "display_data"
    }
   ],
   "source": [
    "# Histograma para os atributos\n",
    "base.hist(bins = 30, figsize=(20,20), color = 'g');"
   ]
  },
  {
   "cell_type": "markdown",
   "metadata": {},
   "source": [
    "#### Divisão em sub-grupos de acordo com o faturamento\n",
    "\n",
    "Para visualizar melhor o comportamento dos atributos em locais onde o faturamento da empresa foi alto, preferi dividir a Base de Dados em dois grupos:\n",
    "\n",
    "* Grupo1: Sub-Grupo onde os valores de faturamento são maiores que o terceiro quartil do faturamento\n",
    "* Grupo2: Sub-Grupo onde os valores de faturamento são menores que o terceiro quartil do faturamento\n",
    "\n",
    "Assim, o grupo1 possui faturamento alto e o grupo2 possui faturamento mais baixo. "
   ]
  },
  {
   "cell_type": "code",
   "execution_count": 560,
   "metadata": {},
   "outputs": [
    {
     "data": {
      "text/plain": [
       "932134.0"
      ]
     },
     "execution_count": 560,
     "metadata": {},
     "output_type": "execute_result"
    }
   ],
   "source": [
    "# Terceiro Quartil\n",
    "q3 = np.quantile(base['faturamento'], .75)\n",
    "q3"
   ]
  },
  {
   "cell_type": "code",
   "execution_count": 561,
   "metadata": {},
   "outputs": [],
   "source": [
    "# Divisão dos subgrupos\n",
    "grupo1 = base[base['faturamento']>=q3]\n",
    "grupo2 = base[base['faturamento']<q3]"
   ]
  },
  {
   "cell_type": "code",
   "execution_count": 562,
   "metadata": {},
   "outputs": [
    {
     "name": "stdout",
     "output_type": "stream",
     "text": [
      "Total:  148\n",
      "Bairros com alto faturamento:  37\n",
      "Bairros com baixo faturamento:  111\n"
     ]
    }
   ],
   "source": [
    "# Quantidade por grupo\n",
    "print(\"Total: \", len(base))\n",
    "print(\"Bairros com alto faturamento: \", len(grupo1))\n",
    "print(\"Bairros com baixo faturamento: \", len(grupo2))"
   ]
  },
  {
   "cell_type": "markdown",
   "metadata": {},
   "source": [
    "#### Estatísticas de cada sub - grupo\n",
    "\n",
    "Fazendo essa divisão entre os subgrupos baseados no faturamento, logo de cara já possível obter algumas informações interessantes.\n",
    "\n",
    "O número médio de domicílios de renda A1, A2, B1 e B2 é bem maior no grupo 1, onde o faturamento da empresa é maior. Isso também é observável na Renda Média, com o grupo 1 tendo um valor médio muito maior.\n",
    "\n",
    "Além disso, a população do grupo 1 possui uma média de idade maior que a do grupo 2, um possível indicativo de que a empresa tem um melhor faturamento onde existem mais moradores com idade acima de 35 anos (público alvo da empresa se econtra em pessoas com idades mais avançadas). Essa diferença da média de idade estava ainda mais gritante nos dados originais, porém os valores altos foram considerados como outliers para a modelagem do algoritmo de previsão. "
   ]
  },
  {
   "cell_type": "code",
   "execution_count": 563,
   "metadata": {},
   "outputs": [
    {
     "data": {
      "text/html": [
       "<div>\n",
       "<style scoped>\n",
       "    .dataframe tbody tr th:only-of-type {\n",
       "        vertical-align: middle;\n",
       "    }\n",
       "\n",
       "    .dataframe tbody tr th {\n",
       "        vertical-align: top;\n",
       "    }\n",
       "\n",
       "    .dataframe thead th {\n",
       "        text-align: right;\n",
       "    }\n",
       "</style>\n",
       "<table border=\"1\" class=\"dataframe\">\n",
       "  <thead>\n",
       "    <tr style=\"text-align: right;\">\n",
       "      <th></th>\n",
       "      <th>população</th>\n",
       "      <th>popAte9</th>\n",
       "      <th>popDe10a14</th>\n",
       "      <th>popDe15a19</th>\n",
       "      <th>popDe20a24</th>\n",
       "      <th>popDe25a34</th>\n",
       "      <th>popDe35a49</th>\n",
       "      <th>popDe50a59</th>\n",
       "      <th>popMaisDe60</th>\n",
       "      <th>domiciliosA1</th>\n",
       "      <th>domiciliosA2</th>\n",
       "      <th>domiciliosB1</th>\n",
       "      <th>domiciliosB2</th>\n",
       "      <th>domiciliosC1</th>\n",
       "      <th>domiciliosC2</th>\n",
       "      <th>domiciliosD</th>\n",
       "      <th>domiciliosE</th>\n",
       "      <th>rendaMedia</th>\n",
       "      <th>faturamento</th>\n",
       "    </tr>\n",
       "  </thead>\n",
       "  <tbody>\n",
       "    <tr>\n",
       "      <th>count</th>\n",
       "      <td>37.000000</td>\n",
       "      <td>37.000000</td>\n",
       "      <td>37.000000</td>\n",
       "      <td>37.000000</td>\n",
       "      <td>37.000000</td>\n",
       "      <td>37.000000</td>\n",
       "      <td>37.000000</td>\n",
       "      <td>37.000000</td>\n",
       "      <td>37.000000</td>\n",
       "      <td>37.000000</td>\n",
       "      <td>37.000000</td>\n",
       "      <td>37.000000</td>\n",
       "      <td>37.000000</td>\n",
       "      <td>37.000000</td>\n",
       "      <td>37.000000</td>\n",
       "      <td>37.000000</td>\n",
       "      <td>37.000000</td>\n",
       "      <td>37.000000</td>\n",
       "      <td>3.700000e+01</td>\n",
       "    </tr>\n",
       "    <tr>\n",
       "      <th>mean</th>\n",
       "      <td>32821.810811</td>\n",
       "      <td>2953.027027</td>\n",
       "      <td>1406.675676</td>\n",
       "      <td>2015.351351</td>\n",
       "      <td>2226.837838</td>\n",
       "      <td>4965.621622</td>\n",
       "      <td>7028.756757</td>\n",
       "      <td>4673.189189</td>\n",
       "      <td>7552.351351</td>\n",
       "      <td>687.432432</td>\n",
       "      <td>1179.027027</td>\n",
       "      <td>2989.216216</td>\n",
       "      <td>2460.486486</td>\n",
       "      <td>2453.783784</td>\n",
       "      <td>1520.702703</td>\n",
       "      <td>242.432432</td>\n",
       "      <td>880.513514</td>\n",
       "      <td>6654.005792</td>\n",
       "      <td>1.238805e+06</td>\n",
       "    </tr>\n",
       "    <tr>\n",
       "      <th>std</th>\n",
       "      <td>27128.419812</td>\n",
       "      <td>2851.722087</td>\n",
       "      <td>1348.461326</td>\n",
       "      <td>1908.104618</td>\n",
       "      <td>1965.552078</td>\n",
       "      <td>4204.229486</td>\n",
       "      <td>5922.548384</td>\n",
       "      <td>3719.166079</td>\n",
       "      <td>5833.342120</td>\n",
       "      <td>1006.663508</td>\n",
       "      <td>1080.009246</td>\n",
       "      <td>2228.187182</td>\n",
       "      <td>1995.024333</td>\n",
       "      <td>2348.760786</td>\n",
       "      <td>1707.493580</td>\n",
       "      <td>315.611711</td>\n",
       "      <td>894.176518</td>\n",
       "      <td>4943.844513</td>\n",
       "      <td>2.831793e+05</td>\n",
       "    </tr>\n",
       "    <tr>\n",
       "      <th>min</th>\n",
       "      <td>842.000000</td>\n",
       "      <td>61.000000</td>\n",
       "      <td>29.000000</td>\n",
       "      <td>35.000000</td>\n",
       "      <td>46.000000</td>\n",
       "      <td>125.000000</td>\n",
       "      <td>192.000000</td>\n",
       "      <td>72.000000</td>\n",
       "      <td>34.000000</td>\n",
       "      <td>0.000000</td>\n",
       "      <td>59.000000</td>\n",
       "      <td>57.000000</td>\n",
       "      <td>33.000000</td>\n",
       "      <td>7.000000</td>\n",
       "      <td>3.000000</td>\n",
       "      <td>0.000000</td>\n",
       "      <td>2.000000</td>\n",
       "      <td>2038.000000</td>\n",
       "      <td>9.325150e+05</td>\n",
       "    </tr>\n",
       "    <tr>\n",
       "      <th>25%</th>\n",
       "      <td>13009.000000</td>\n",
       "      <td>1027.000000</td>\n",
       "      <td>500.000000</td>\n",
       "      <td>688.000000</td>\n",
       "      <td>800.000000</td>\n",
       "      <td>1900.000000</td>\n",
       "      <td>2707.000000</td>\n",
       "      <td>1837.000000</td>\n",
       "      <td>2919.000000</td>\n",
       "      <td>0.000000</td>\n",
       "      <td>330.000000</td>\n",
       "      <td>1278.000000</td>\n",
       "      <td>1009.000000</td>\n",
       "      <td>815.000000</td>\n",
       "      <td>457.000000</td>\n",
       "      <td>39.000000</td>\n",
       "      <td>212.000000</td>\n",
       "      <td>3089.000000</td>\n",
       "      <td>1.014058e+06</td>\n",
       "    </tr>\n",
       "    <tr>\n",
       "      <th>50%</th>\n",
       "      <td>25341.000000</td>\n",
       "      <td>2152.000000</td>\n",
       "      <td>1039.000000</td>\n",
       "      <td>1456.000000</td>\n",
       "      <td>1804.000000</td>\n",
       "      <td>3883.000000</td>\n",
       "      <td>5542.000000</td>\n",
       "      <td>3910.000000</td>\n",
       "      <td>6360.000000</td>\n",
       "      <td>291.000000</td>\n",
       "      <td>899.000000</td>\n",
       "      <td>2449.000000</td>\n",
       "      <td>2202.000000</td>\n",
       "      <td>1956.000000</td>\n",
       "      <td>1155.000000</td>\n",
       "      <td>118.000000</td>\n",
       "      <td>557.000000</td>\n",
       "      <td>4283.000000</td>\n",
       "      <td>1.162364e+06</td>\n",
       "    </tr>\n",
       "    <tr>\n",
       "      <th>75%</th>\n",
       "      <td>43591.000000</td>\n",
       "      <td>3528.000000</td>\n",
       "      <td>1675.000000</td>\n",
       "      <td>2340.000000</td>\n",
       "      <td>2753.000000</td>\n",
       "      <td>5993.000000</td>\n",
       "      <td>8665.000000</td>\n",
       "      <td>6261.000000</td>\n",
       "      <td>9966.000000</td>\n",
       "      <td>809.000000</td>\n",
       "      <td>1516.000000</td>\n",
       "      <td>4478.000000</td>\n",
       "      <td>3321.000000</td>\n",
       "      <td>3029.000000</td>\n",
       "      <td>1570.000000</td>\n",
       "      <td>287.000000</td>\n",
       "      <td>1249.000000</td>\n",
       "      <td>8861.000000</td>\n",
       "      <td>1.409134e+06</td>\n",
       "    </tr>\n",
       "    <tr>\n",
       "      <th>max</th>\n",
       "      <td>105009.000000</td>\n",
       "      <td>11084.000000</td>\n",
       "      <td>5474.000000</td>\n",
       "      <td>7981.000000</td>\n",
       "      <td>8028.000000</td>\n",
       "      <td>16085.000000</td>\n",
       "      <td>23292.000000</td>\n",
       "      <td>14384.000000</td>\n",
       "      <td>22046.000000</td>\n",
       "      <td>4213.000000</td>\n",
       "      <td>4307.000000</td>\n",
       "      <td>7949.000000</td>\n",
       "      <td>8325.000000</td>\n",
       "      <td>10129.000000</td>\n",
       "      <td>6948.000000</td>\n",
       "      <td>1222.000000</td>\n",
       "      <td>3111.000000</td>\n",
       "      <td>17984.000000</td>\n",
       "      <td>1.981817e+06</td>\n",
       "    </tr>\n",
       "  </tbody>\n",
       "</table>\n",
       "</div>"
      ],
      "text/plain": [
       "           população       popAte9   popDe10a14   popDe15a19   popDe20a24  \\\n",
       "count      37.000000     37.000000    37.000000    37.000000    37.000000   \n",
       "mean    32821.810811   2953.027027  1406.675676  2015.351351  2226.837838   \n",
       "std     27128.419812   2851.722087  1348.461326  1908.104618  1965.552078   \n",
       "min       842.000000     61.000000    29.000000    35.000000    46.000000   \n",
       "25%     13009.000000   1027.000000   500.000000   688.000000   800.000000   \n",
       "50%     25341.000000   2152.000000  1039.000000  1456.000000  1804.000000   \n",
       "75%     43591.000000   3528.000000  1675.000000  2340.000000  2753.000000   \n",
       "max    105009.000000  11084.000000  5474.000000  7981.000000  8028.000000   \n",
       "\n",
       "         popDe25a34    popDe35a49    popDe50a59   popMaisDe60  domiciliosA1  \\\n",
       "count     37.000000     37.000000     37.000000     37.000000     37.000000   \n",
       "mean    4965.621622   7028.756757   4673.189189   7552.351351    687.432432   \n",
       "std     4204.229486   5922.548384   3719.166079   5833.342120   1006.663508   \n",
       "min      125.000000    192.000000     72.000000     34.000000      0.000000   \n",
       "25%     1900.000000   2707.000000   1837.000000   2919.000000      0.000000   \n",
       "50%     3883.000000   5542.000000   3910.000000   6360.000000    291.000000   \n",
       "75%     5993.000000   8665.000000   6261.000000   9966.000000    809.000000   \n",
       "max    16085.000000  23292.000000  14384.000000  22046.000000   4213.000000   \n",
       "\n",
       "       domiciliosA2  domiciliosB1  domiciliosB2  domiciliosC1  domiciliosC2  \\\n",
       "count     37.000000     37.000000     37.000000     37.000000     37.000000   \n",
       "mean    1179.027027   2989.216216   2460.486486   2453.783784   1520.702703   \n",
       "std     1080.009246   2228.187182   1995.024333   2348.760786   1707.493580   \n",
       "min       59.000000     57.000000     33.000000      7.000000      3.000000   \n",
       "25%      330.000000   1278.000000   1009.000000    815.000000    457.000000   \n",
       "50%      899.000000   2449.000000   2202.000000   1956.000000   1155.000000   \n",
       "75%     1516.000000   4478.000000   3321.000000   3029.000000   1570.000000   \n",
       "max     4307.000000   7949.000000   8325.000000  10129.000000   6948.000000   \n",
       "\n",
       "       domiciliosD  domiciliosE    rendaMedia   faturamento  \n",
       "count    37.000000    37.000000     37.000000  3.700000e+01  \n",
       "mean    242.432432   880.513514   6654.005792  1.238805e+06  \n",
       "std     315.611711   894.176518   4943.844513  2.831793e+05  \n",
       "min       0.000000     2.000000   2038.000000  9.325150e+05  \n",
       "25%      39.000000   212.000000   3089.000000  1.014058e+06  \n",
       "50%     118.000000   557.000000   4283.000000  1.162364e+06  \n",
       "75%     287.000000  1249.000000   8861.000000  1.409134e+06  \n",
       "max    1222.000000  3111.000000  17984.000000  1.981817e+06  "
      ]
     },
     "execution_count": 563,
     "metadata": {},
     "output_type": "execute_result"
    }
   ],
   "source": [
    "# Estatísticas grupo 1\n",
    "grupo1.describe()"
   ]
  },
  {
   "cell_type": "code",
   "execution_count": 564,
   "metadata": {},
   "outputs": [
    {
     "data": {
      "text/html": [
       "<div>\n",
       "<style scoped>\n",
       "    .dataframe tbody tr th:only-of-type {\n",
       "        vertical-align: middle;\n",
       "    }\n",
       "\n",
       "    .dataframe tbody tr th {\n",
       "        vertical-align: top;\n",
       "    }\n",
       "\n",
       "    .dataframe thead th {\n",
       "        text-align: right;\n",
       "    }\n",
       "</style>\n",
       "<table border=\"1\" class=\"dataframe\">\n",
       "  <thead>\n",
       "    <tr style=\"text-align: right;\">\n",
       "      <th></th>\n",
       "      <th>população</th>\n",
       "      <th>popAte9</th>\n",
       "      <th>popDe10a14</th>\n",
       "      <th>popDe15a19</th>\n",
       "      <th>popDe20a24</th>\n",
       "      <th>popDe25a34</th>\n",
       "      <th>popDe35a49</th>\n",
       "      <th>popDe50a59</th>\n",
       "      <th>popMaisDe60</th>\n",
       "      <th>domiciliosA1</th>\n",
       "      <th>domiciliosA2</th>\n",
       "      <th>domiciliosB1</th>\n",
       "      <th>domiciliosB2</th>\n",
       "      <th>domiciliosC1</th>\n",
       "      <th>domiciliosC2</th>\n",
       "      <th>domiciliosD</th>\n",
       "      <th>domiciliosE</th>\n",
       "      <th>rendaMedia</th>\n",
       "      <th>faturamento</th>\n",
       "    </tr>\n",
       "  </thead>\n",
       "  <tbody>\n",
       "    <tr>\n",
       "      <th>count</th>\n",
       "      <td>111.000000</td>\n",
       "      <td>111.000000</td>\n",
       "      <td>111.000000</td>\n",
       "      <td>111.000000</td>\n",
       "      <td>111.000000</td>\n",
       "      <td>111.000000</td>\n",
       "      <td>111.000000</td>\n",
       "      <td>111.000000</td>\n",
       "      <td>111.000000</td>\n",
       "      <td>111.000000</td>\n",
       "      <td>111.000000</td>\n",
       "      <td>111.000000</td>\n",
       "      <td>111.000000</td>\n",
       "      <td>111.000000</td>\n",
       "      <td>111.000000</td>\n",
       "      <td>111.000000</td>\n",
       "      <td>111.000000</td>\n",
       "      <td>111.000000</td>\n",
       "      <td>111.000000</td>\n",
       "    </tr>\n",
       "    <tr>\n",
       "      <th>mean</th>\n",
       "      <td>30414.009009</td>\n",
       "      <td>3930.207207</td>\n",
       "      <td>1854.729730</td>\n",
       "      <td>2455.864865</td>\n",
       "      <td>2461.243243</td>\n",
       "      <td>4821.405405</td>\n",
       "      <td>6461.414414</td>\n",
       "      <td>3622.612613</td>\n",
       "      <td>4806.531532</td>\n",
       "      <td>7.135135</td>\n",
       "      <td>92.783784</td>\n",
       "      <td>801.936937</td>\n",
       "      <td>1672.351351</td>\n",
       "      <td>2873.324324</td>\n",
       "      <td>2636.198198</td>\n",
       "      <td>497.261261</td>\n",
       "      <td>1620.351351</td>\n",
       "      <td>1814.470399</td>\n",
       "      <td>724574.441441</td>\n",
       "    </tr>\n",
       "    <tr>\n",
       "      <th>std</th>\n",
       "      <td>23709.369111</td>\n",
       "      <td>3479.829283</td>\n",
       "      <td>1624.888919</td>\n",
       "      <td>2086.841504</td>\n",
       "      <td>1996.384610</td>\n",
       "      <td>3782.968700</td>\n",
       "      <td>5027.099403</td>\n",
       "      <td>2732.729402</td>\n",
       "      <td>3663.277613</td>\n",
       "      <td>44.354663</td>\n",
       "      <td>133.385729</td>\n",
       "      <td>718.154393</td>\n",
       "      <td>1278.209491</td>\n",
       "      <td>2229.155316</td>\n",
       "      <td>2246.790482</td>\n",
       "      <td>476.134162</td>\n",
       "      <td>1536.615411</td>\n",
       "      <td>679.116259</td>\n",
       "      <td>190908.419463</td>\n",
       "    </tr>\n",
       "    <tr>\n",
       "      <th>min</th>\n",
       "      <td>173.000000</td>\n",
       "      <td>33.000000</td>\n",
       "      <td>13.000000</td>\n",
       "      <td>22.000000</td>\n",
       "      <td>17.000000</td>\n",
       "      <td>28.000000</td>\n",
       "      <td>38.000000</td>\n",
       "      <td>10.000000</td>\n",
       "      <td>12.000000</td>\n",
       "      <td>0.000000</td>\n",
       "      <td>0.000000</td>\n",
       "      <td>0.000000</td>\n",
       "      <td>0.000000</td>\n",
       "      <td>5.000000</td>\n",
       "      <td>17.000000</td>\n",
       "      <td>8.000000</td>\n",
       "      <td>16.000000</td>\n",
       "      <td>654.000000</td>\n",
       "      <td>59273.000000</td>\n",
       "    </tr>\n",
       "    <tr>\n",
       "      <th>25%</th>\n",
       "      <td>12887.000000</td>\n",
       "      <td>1517.500000</td>\n",
       "      <td>738.000000</td>\n",
       "      <td>962.500000</td>\n",
       "      <td>1019.000000</td>\n",
       "      <td>2098.500000</td>\n",
       "      <td>2789.000000</td>\n",
       "      <td>1503.500000</td>\n",
       "      <td>1986.000000</td>\n",
       "      <td>0.000000</td>\n",
       "      <td>0.000000</td>\n",
       "      <td>255.500000</td>\n",
       "      <td>639.500000</td>\n",
       "      <td>1202.000000</td>\n",
       "      <td>1022.000000</td>\n",
       "      <td>169.500000</td>\n",
       "      <td>545.000000</td>\n",
       "      <td>1377.000000</td>\n",
       "      <td>686343.500000</td>\n",
       "    </tr>\n",
       "    <tr>\n",
       "      <th>50%</th>\n",
       "      <td>25549.000000</td>\n",
       "      <td>3177.000000</td>\n",
       "      <td>1460.000000</td>\n",
       "      <td>1999.000000</td>\n",
       "      <td>1993.000000</td>\n",
       "      <td>4000.000000</td>\n",
       "      <td>5406.000000</td>\n",
       "      <td>2920.000000</td>\n",
       "      <td>3777.000000</td>\n",
       "      <td>0.000000</td>\n",
       "      <td>49.000000</td>\n",
       "      <td>588.000000</td>\n",
       "      <td>1379.000000</td>\n",
       "      <td>2456.000000</td>\n",
       "      <td>2199.000000</td>\n",
       "      <td>380.000000</td>\n",
       "      <td>1154.000000</td>\n",
       "      <td>1679.000000</td>\n",
       "      <td>779768.000000</td>\n",
       "    </tr>\n",
       "    <tr>\n",
       "      <th>75%</th>\n",
       "      <td>42814.500000</td>\n",
       "      <td>5340.000000</td>\n",
       "      <td>2423.500000</td>\n",
       "      <td>3294.000000</td>\n",
       "      <td>3354.500000</td>\n",
       "      <td>6743.500000</td>\n",
       "      <td>9365.500000</td>\n",
       "      <td>5511.000000</td>\n",
       "      <td>7278.000000</td>\n",
       "      <td>0.000000</td>\n",
       "      <td>116.000000</td>\n",
       "      <td>1064.000000</td>\n",
       "      <td>2413.000000</td>\n",
       "      <td>4120.000000</td>\n",
       "      <td>3677.000000</td>\n",
       "      <td>665.000000</td>\n",
       "      <td>2059.000000</td>\n",
       "      <td>2050.500000</td>\n",
       "      <td>846338.500000</td>\n",
       "    </tr>\n",
       "    <tr>\n",
       "      <th>max</th>\n",
       "      <td>112994.000000</td>\n",
       "      <td>18088.000000</td>\n",
       "      <td>8474.000000</td>\n",
       "      <td>10307.000000</td>\n",
       "      <td>9069.000000</td>\n",
       "      <td>18732.000000</td>\n",
       "      <td>25269.000000</td>\n",
       "      <td>12713.000000</td>\n",
       "      <td>15323.000000</td>\n",
       "      <td>429.000000</td>\n",
       "      <td>572.000000</td>\n",
       "      <td>3359.000000</td>\n",
       "      <td>5061.000000</td>\n",
       "      <td>10037.000000</td>\n",
       "      <td>11066.000000</td>\n",
       "      <td>2289.000000</td>\n",
       "      <td>7987.000000</td>\n",
       "      <td>4313.000000</td>\n",
       "      <td>932007.000000</td>\n",
       "    </tr>\n",
       "  </tbody>\n",
       "</table>\n",
       "</div>"
      ],
      "text/plain": [
       "           população       popAte9   popDe10a14    popDe15a19   popDe20a24  \\\n",
       "count     111.000000    111.000000   111.000000    111.000000   111.000000   \n",
       "mean    30414.009009   3930.207207  1854.729730   2455.864865  2461.243243   \n",
       "std     23709.369111   3479.829283  1624.888919   2086.841504  1996.384610   \n",
       "min       173.000000     33.000000    13.000000     22.000000    17.000000   \n",
       "25%     12887.000000   1517.500000   738.000000    962.500000  1019.000000   \n",
       "50%     25549.000000   3177.000000  1460.000000   1999.000000  1993.000000   \n",
       "75%     42814.500000   5340.000000  2423.500000   3294.000000  3354.500000   \n",
       "max    112994.000000  18088.000000  8474.000000  10307.000000  9069.000000   \n",
       "\n",
       "         popDe25a34    popDe35a49    popDe50a59   popMaisDe60  domiciliosA1  \\\n",
       "count    111.000000    111.000000    111.000000    111.000000    111.000000   \n",
       "mean    4821.405405   6461.414414   3622.612613   4806.531532      7.135135   \n",
       "std     3782.968700   5027.099403   2732.729402   3663.277613     44.354663   \n",
       "min       28.000000     38.000000     10.000000     12.000000      0.000000   \n",
       "25%     2098.500000   2789.000000   1503.500000   1986.000000      0.000000   \n",
       "50%     4000.000000   5406.000000   2920.000000   3777.000000      0.000000   \n",
       "75%     6743.500000   9365.500000   5511.000000   7278.000000      0.000000   \n",
       "max    18732.000000  25269.000000  12713.000000  15323.000000    429.000000   \n",
       "\n",
       "       domiciliosA2  domiciliosB1  domiciliosB2  domiciliosC1  domiciliosC2  \\\n",
       "count    111.000000    111.000000    111.000000    111.000000    111.000000   \n",
       "mean      92.783784    801.936937   1672.351351   2873.324324   2636.198198   \n",
       "std      133.385729    718.154393   1278.209491   2229.155316   2246.790482   \n",
       "min        0.000000      0.000000      0.000000      5.000000     17.000000   \n",
       "25%        0.000000    255.500000    639.500000   1202.000000   1022.000000   \n",
       "50%       49.000000    588.000000   1379.000000   2456.000000   2199.000000   \n",
       "75%      116.000000   1064.000000   2413.000000   4120.000000   3677.000000   \n",
       "max      572.000000   3359.000000   5061.000000  10037.000000  11066.000000   \n",
       "\n",
       "       domiciliosD  domiciliosE   rendaMedia    faturamento  \n",
       "count   111.000000   111.000000   111.000000     111.000000  \n",
       "mean    497.261261  1620.351351  1814.470399  724574.441441  \n",
       "std     476.134162  1536.615411   679.116259  190908.419463  \n",
       "min       8.000000    16.000000   654.000000   59273.000000  \n",
       "25%     169.500000   545.000000  1377.000000  686343.500000  \n",
       "50%     380.000000  1154.000000  1679.000000  779768.000000  \n",
       "75%     665.000000  2059.000000  2050.500000  846338.500000  \n",
       "max    2289.000000  7987.000000  4313.000000  932007.000000  "
      ]
     },
     "execution_count": 564,
     "metadata": {},
     "output_type": "execute_result"
    }
   ],
   "source": [
    "# Estatísticas grupo 2\n",
    "grupo2.describe()"
   ]
  },
  {
   "cell_type": "markdown",
   "metadata": {},
   "source": [
    "#### Análise gráfica entre dois atributos simultâneos\n",
    "\n",
    "Essa análise é interessante pois pode mostrar se existe alguma relação linear entre os atributos . Posteriormente, outra informação útil que será calculada é a correlação entre os atributos.\n",
    "\n",
    "O gráfico mostra os pontos com a interseção entre os atributos x e y (com um gráfico do tipo dispersão ou \"scatter plot\") e também estima uma reta de regressão a partir dos dados. Fica fácil observar se existe alguma relação linear nos dados a partir dessa reta. A reta crescente mostra que os atributos podem ser estimados como grandezas diretamente proporcionais (quando um cresce, o outro também cresce). \n"
   ]
  },
  {
   "cell_type": "code",
   "execution_count": 565,
   "metadata": {},
   "outputs": [
    {
     "data": {
      "image/png": "[encoded data removed]",
      "text/plain": [
       "<Figure size 360x360 with 1 Axes>"
      ]
     },
     "metadata": {
      "needs_background": "light"
     },
     "output_type": "display_data"
    }
   ],
   "source": [
    "# Seleção dos atributos para plotar (faturamento e domicilios A1)\n",
    "sns.lmplot(x='faturamento', y='domiciliosA1', data=base) \n",
    "plt.show()"
   ]
  },
  {
   "cell_type": "code",
   "execution_count": 566,
   "metadata": {},
   "outputs": [
    {
     "data": {
      "image/png": "[encoded data removed]",
      "text/plain": [
       "<Figure size 360x360 with 1 Axes>"
      ]
     },
     "metadata": {
      "needs_background": "light"
     },
     "output_type": "display_data"
    }
   ],
   "source": [
    "# Seleção dos atributos para plotar (faturamento e domicilios A2)\n",
    "sns.lmplot(x='faturamento', y='domiciliosA2', data=base) \n",
    "plt.show()"
   ]
  },
  {
   "cell_type": "code",
   "execution_count": 567,
   "metadata": {},
   "outputs": [
    {
     "data": {
      "image/png": "[encoded data removed]",
      "text/plain": [
       "<Figure size 360x360 with 1 Axes>"
      ]
     },
     "metadata": {
      "needs_background": "light"
     },
     "output_type": "display_data"
    }
   ],
   "source": [
    "# Seleção dos atributos para plotar (faturamento e domicilios B1)\n",
    "sns.lmplot(x='faturamento', y='domiciliosB1', data=base) \n",
    "plt.show()"
   ]
  },
  {
   "cell_type": "code",
   "execution_count": 568,
   "metadata": {},
   "outputs": [
    {
     "data": {
      "image/png": "[encoded data removed]",
      "text/plain": [
       "<Figure size 360x360 with 1 Axes>"
      ]
     },
     "metadata": {
      "needs_background": "light"
     },
     "output_type": "display_data"
    }
   ],
   "source": [
    "# Seleção dos atributos para plotar (faturamento e domicilios B2)\n",
    "sns.lmplot(x='faturamento', y='domiciliosB2', data=base) \n",
    "plt.show()"
   ]
  },
  {
   "cell_type": "code",
   "execution_count": 569,
   "metadata": {},
   "outputs": [
    {
     "data": {
      "image/png": "[encoded data removed]",
      "text/plain": [
       "<Figure size 360x360 with 1 Axes>"
      ]
     },
     "metadata": {
      "needs_background": "light"
     },
     "output_type": "display_data"
    }
   ],
   "source": [
    "# Seleção dos atributos para plotar (faturamento e rendamedia)\n",
    "sns.lmplot(x='faturamento', y='rendaMedia', data=base) \n",
    "plt.show()"
   ]
  },
  {
   "cell_type": "code",
   "execution_count": 570,
   "metadata": {},
   "outputs": [
    {
     "data": {
      "image/png": "[encoded data removed]",
      "text/plain": [
       "<Figure size 360x360 with 1 Axes>"
      ]
     },
     "metadata": {
      "needs_background": "light"
     },
     "output_type": "display_data"
    }
   ],
   "source": [
    "# Seleção dos atributos para plotar (faturamento e População até 9 anos)\n",
    "sns.lmplot(x='faturamento', y='popAte9', data=base) \n",
    "plt.show()"
   ]
  },
  {
   "cell_type": "code",
   "execution_count": 571,
   "metadata": {},
   "outputs": [
    {
     "data": {
      "image/png": "[encoded data removed]",
      "text/plain": [
       "<Figure size 360x360 with 1 Axes>"
      ]
     },
     "metadata": {
      "needs_background": "light"
     },
     "output_type": "display_data"
    }
   ],
   "source": [
    "# Seleção dos atributos para plotar (faturamento e População de 25 a 34 anos)\n",
    "sns.lmplot(x='faturamento', y='popDe25a34', data=base) \n",
    "plt.show()"
   ]
  },
  {
   "cell_type": "code",
   "execution_count": 572,
   "metadata": {},
   "outputs": [
    {
     "data": {
      "image/png": "[encoded data removed]",
      "text/plain": [
       "<Figure size 360x360 with 1 Axes>"
      ]
     },
     "metadata": {
      "needs_background": "light"
     },
     "output_type": "display_data"
    }
   ],
   "source": [
    "# Seleção dos atributos para plotar (faturamento e População de 35 a 49 anos)\n",
    "sns.lmplot(x='faturamento', y='popDe35a49', data=base) \n",
    "plt.show()"
   ]
  },
  {
   "cell_type": "code",
   "execution_count": 573,
   "metadata": {},
   "outputs": [
    {
     "data": {
      "image/png": "[encoded data removed]",
      "text/plain": [
       "<Figure size 360x360 with 1 Axes>"
      ]
     },
     "metadata": {
      "needs_background": "light"
     },
     "output_type": "display_data"
    }
   ],
   "source": [
    "# Seleção dos atributos para plotar (faturamento e População )\n",
    "sns.lmplot(x='faturamento', y='população', data=base) \n",
    "plt.show()"
   ]
  },
  {
   "cell_type": "markdown",
   "metadata": {},
   "source": [
    "#### Correlação entre os atributos\n",
    "\n",
    "Um outro teste estatístico que deve ser levado em conta é a correlação. De forma parecida com os gráficos acima, seu valor mostra a relação estatística entre duas variáveis. Aqui, será calculada a correlação de Pearson, onde o intervalo possível vai de -1 a +1. Quanto mais positiva a correlação mais diretamente proporcional a relação entre as duas variáveis. Quanto mais negativa, mais inversamente proporcional. Uma correlação de 0 mostra inexistência de relação entre as duas. \n",
    "\n",
    "Os resultados abaixo, tanto do heatmap quanto dos valores rankeados mostram informações interessante, mas que de certo modo já eram esperadas, pois já haviam sido deduzidas após a análise estatística dos sub-grupos. As 5 maiores correlações existentes com o faturamento são:\n",
    "\n",
    "* Domicilios de Renda A2     - positivo\n",
    "* Domicilios de Renda A1     - positivo\n",
    "* Renda Média                - positivo\n",
    "* Domicilios de Renda B1     - positivo\n",
    "* População acima de 60 anos - positivo"
   ]
  },
  {
   "cell_type": "code",
   "execution_count": 574,
   "metadata": {},
   "outputs": [
    {
     "data": {
      "image/png": "[encoded data removed]",
      "text/plain": [
       "<Figure size 1440x1440 with 2 Axes>"
      ]
     },
     "metadata": {
      "needs_background": "light"
     },
     "output_type": "display_data"
    }
   ],
   "source": [
    "# Correlações\n",
    "cor = base.corr()\n",
    "f, ax = plt.subplots(figsize = (20,20))\n",
    "sns.heatmap(cor, annot = True);"
   ]
  },
  {
   "cell_type": "code",
   "execution_count": 575,
   "metadata": {},
   "outputs": [
    {
     "data": {
      "text/plain": [
       "domiciliosD    -0.595379\n",
       "domiciliosC2   -0.554283\n",
       "domiciliosE    -0.541966\n",
       "popAte9        -0.464217\n",
       "popDe10a14     -0.455378\n",
       "popDe15a19     -0.408107\n",
       "popDe20a24     -0.346553\n",
       "domiciliosC1   -0.333266\n",
       "popDe25a34     -0.260565\n",
       "popDe35a49     -0.219110\n",
       "população      -0.213563\n",
       "popDe50a59     -0.039914\n",
       "domiciliosB2    0.093030\n",
       "popMaisDe60     0.187625\n",
       "domiciliosB1    0.641160\n",
       "rendaMedia      0.684846\n",
       "domiciliosA1    0.709759\n",
       "domiciliosA2    0.793132\n",
       "faturamento     1.000000\n",
       "Name: faturamento, dtype: float64"
      ]
     },
     "execution_count": 575,
     "metadata": {},
     "output_type": "execute_result"
    }
   ],
   "source": [
    "# Correlação rankeada\n",
    "cor = base.corr()['faturamento'].sort_values()\n",
    "cor"
   ]
  },
  {
   "cell_type": "markdown",
   "metadata": {},
   "source": [
    "#### Pandas Profiling\n",
    "\n",
    "Uma outra alternativa que poderia ter sido usada era a ferramenta Pandas Profiling que gera um relatório estatístico em HTML que pode fornecer algumas informações úteis. Preferi fazer manualmente pois achei que a apresentação dos resultados ficaria melhor. Além disso, o carregamento do relatório no notebook pode deixá-lo lento. Abaixo um exemplo de como usá-lo:\n",
    "\n",
    "* from pandas_profiling import ProfileReport\n",
    "* profile = ProfileReport(base, title='Relatório Estatístico',html={'style':{'full_width':True}})\n",
    "\n"
   ]
  },
  {
   "cell_type": "markdown",
   "metadata": {},
   "source": [
    "****"
   ]
  },
  {
   "cell_type": "markdown",
   "metadata": {},
   "source": [
    "## Parte 2\n",
    "\n",
    "Nessa parte do desafio, preferi utilizar diferentes algoritmos de regressão e comparar os melhores resultados. Serão utilizados:\n",
    " \n",
    "* Random Forest\n",
    "* Gradient Boosting Regressor\n",
    "* Adaboost Regressor\n",
    "* XGBoost\n",
    "\n",
    "\n",
    "\n",
    "Os algoritmos serão comparados pelo valor do RMSE (Root Mean Squared Error) e da acurácia com a qual o modelo se ajustou aos dados de teste, que foi calculado pelo parâmetros r2 (r-squared). É importante levar em conta que quanto mais próxima de 1 estiver a acurácia (no caso, o r2), melhor o modelo. Ao contrátio, o erro deve ser minimizado. \n",
    "\n",
    "Para todos os algoritmos, duas abordagens serão realizadas. Na primeira parte, a base será dividida em treino e teste. Na segunda, o método utilizado será o Cross - Validation, onde serão realizadas várias divisões de treino e teste diferentes na base de dados. Desse modo, o algoritmo usa como treino e teste, toda a base de dados, sendo que em cada iteração K, uma divisão é feita.\n",
    "\n",
    "Porém para cada uma das abordagens, existem algumas versões diferentes. Chamei de Modelo 1 o modelo que utiliza todas as variáveis e de Modelo 2, o modelo que usa a redução de dimensionalidade com  o PCA (De 18 atributos para 9).\n",
    "\n",
    "Ao final dessa primeira análise inicial, o melhor modelo será escolhido para que se possa fazer uma análise mais profunda de seus parâmetros para que se melhore ainda mais o resultado. "
   ]
  },
  {
   "cell_type": "markdown",
   "metadata": {},
   "source": [
    "### Random Forest \n",
    "\n"
   ]
  },
  {
   "cell_type": "markdown",
   "metadata": {},
   "source": [
    "#### Divisão em treino e teste"
   ]
  },
  {
   "cell_type": "markdown",
   "metadata": {},
   "source": [
    "##### Modelo 1"
   ]
  },
  {
   "cell_type": "code",
   "execution_count": 576,
   "metadata": {},
   "outputs": [
    {
     "name": "stdout",
     "output_type": "stream",
     "text": [
      "Formato da base preditora:  (148, 18)\n",
      "Formato da base com o alvo:  (148,)\n"
     ]
    }
   ],
   "source": [
    "# Divisão entre variáveis preditoras e varíavel alvo\n",
    "X = base.drop('faturamento', axis = 1)\n",
    "y = base['faturamento']\n",
    "print(\"Formato da base preditora: \", X.shape)\n",
    "print(\"Formato da base com o alvo: \", y.shape)"
   ]
  },
  {
   "cell_type": "code",
   "execution_count": 577,
   "metadata": {},
   "outputs": [],
   "source": [
    "# Divisão entre treino (80% da base) e teste (20% da base)\n",
    "from sklearn.model_selection import train_test_split\n",
    "X_treino, X_teste, y_treino, y_teste = train_test_split(X, y, test_size = 0.2)"
   ]
  },
  {
   "cell_type": "code",
   "execution_count": 578,
   "metadata": {},
   "outputs": [
    {
     "name": "stdout",
     "output_type": "stream",
     "text": [
      "Formato da base preditora(treino):  (118, 18)\n",
      "Formato da base com o alvo(treino):  (118,)\n",
      "Formato da base preditora(teste):  (30, 18)\n",
      "Formato da base com o alvo(teste):  (30,)\n"
     ]
    }
   ],
   "source": [
    "# Visualização da quantidade de cada um\n",
    "print(\"Formato da base preditora(treino): \", X_treino.shape)\n",
    "print(\"Formato da base com o alvo(treino): \", y_treino.shape)\n",
    "print(\"Formato da base preditora(teste): \", X_teste.shape)\n",
    "print(\"Formato da base com o alvo(teste): \", y_teste.shape)"
   ]
  },
  {
   "cell_type": "code",
   "execution_count": 579,
   "metadata": {},
   "outputs": [],
   "source": [
    "# Criação do modelo\n",
    "from sklearn.ensemble import RandomForestRegressor\n",
    "modelo1 = RandomForestRegressor(n_estimators = 50)"
   ]
  },
  {
   "cell_type": "code",
   "execution_count": 580,
   "metadata": {},
   "outputs": [
    {
     "data": {
      "text/plain": [
       "RandomForestRegressor(bootstrap=True, ccp_alpha=0.0, criterion='mse',\n",
       "                      max_depth=None, max_features='auto', max_leaf_nodes=None,\n",
       "                      max_samples=None, min_impurity_decrease=0.0,\n",
       "                      min_impurity_split=None, min_samples_leaf=1,\n",
       "                      min_samples_split=2, min_weight_fraction_leaf=0.0,\n",
       "                      n_estimators=50, n_jobs=None, oob_score=False,\n",
       "                      random_state=None, verbose=0, warm_start=False)"
      ]
     },
     "execution_count": 580,
     "metadata": {},
     "output_type": "execute_result"
    }
   ],
   "source": [
    "# Ajuste aos dados de treino (parâmetros padrões -> 100 árvores)\n",
    "modelo1.fit(X_treino, y_treino)"
   ]
  },
  {
   "cell_type": "code",
   "execution_count": 581,
   "metadata": {},
   "outputs": [
    {
     "data": {
      "text/plain": [
       "array([ 900727.5 ,  784554.02,  883617.24,  918564.72,  939101.02,\n",
       "        180088.64,  629358.2 , 1097530.9 ,  749226.88,  752742.84,\n",
       "        890093.76,  762723.46,  768537.58,  540794.08,  778238.24,\n",
       "        755002.76,  995701.02,  798437.1 ,  774676.6 ,  832599.3 ,\n",
       "        784820.56,  911053.36,  787128.22,  656765.7 ,  915742.08,\n",
       "        864691.68,  911197.4 , 1199630.8 , 1362701.52,  825706.04])"
      ]
     },
     "execution_count": 581,
     "metadata": {},
     "output_type": "execute_result"
    }
   ],
   "source": [
    "# Previsão com os dados de teste\n",
    "y_pred = modelo1.predict(X_teste)\n",
    "y_pred"
   ]
  },
  {
   "cell_type": "code",
   "execution_count": 582,
   "metadata": {},
   "outputs": [],
   "source": [
    "# Criação de um dataframe para comparação dos valores\n",
    "comp = pd.DataFrame({\"Real\":y_teste, \"Previsto\":y_pred})"
   ]
  },
  {
   "cell_type": "code",
   "execution_count": 583,
   "metadata": {},
   "outputs": [
    {
     "data": {
      "text/html": [
       "<div>\n",
       "<style scoped>\n",
       "    .dataframe tbody tr th:only-of-type {\n",
       "        vertical-align: middle;\n",
       "    }\n",
       "\n",
       "    .dataframe tbody tr th {\n",
       "        vertical-align: top;\n",
       "    }\n",
       "\n",
       "    .dataframe thead th {\n",
       "        text-align: right;\n",
       "    }\n",
       "</style>\n",
       "<table border=\"1\" class=\"dataframe\">\n",
       "  <thead>\n",
       "    <tr style=\"text-align: right;\">\n",
       "      <th></th>\n",
       "      <th>Real</th>\n",
       "      <th>Previsto</th>\n",
       "    </tr>\n",
       "  </thead>\n",
       "  <tbody>\n",
       "    <tr>\n",
       "      <th>92</th>\n",
       "      <td>905395.0</td>\n",
       "      <td>900727.50</td>\n",
       "    </tr>\n",
       "    <tr>\n",
       "      <th>130</th>\n",
       "      <td>752007.0</td>\n",
       "      <td>784554.02</td>\n",
       "    </tr>\n",
       "    <tr>\n",
       "      <th>158</th>\n",
       "      <td>921875.0</td>\n",
       "      <td>883617.24</td>\n",
       "    </tr>\n",
       "    <tr>\n",
       "      <th>38</th>\n",
       "      <td>1041359.0</td>\n",
       "      <td>918564.72</td>\n",
       "    </tr>\n",
       "    <tr>\n",
       "      <th>48</th>\n",
       "      <td>932007.0</td>\n",
       "      <td>939101.02</td>\n",
       "    </tr>\n",
       "    <tr>\n",
       "      <th>103</th>\n",
       "      <td>258464.0</td>\n",
       "      <td>180088.64</td>\n",
       "    </tr>\n",
       "    <tr>\n",
       "      <th>4</th>\n",
       "      <td>553020.0</td>\n",
       "      <td>629358.20</td>\n",
       "    </tr>\n",
       "    <tr>\n",
       "      <th>6</th>\n",
       "      <td>1092081.0</td>\n",
       "      <td>1097530.90</td>\n",
       "    </tr>\n",
       "    <tr>\n",
       "      <th>85</th>\n",
       "      <td>835847.0</td>\n",
       "      <td>749226.88</td>\n",
       "    </tr>\n",
       "    <tr>\n",
       "      <th>41</th>\n",
       "      <td>748387.0</td>\n",
       "      <td>752742.84</td>\n",
       "    </tr>\n",
       "    <tr>\n",
       "      <th>69</th>\n",
       "      <td>1030856.0</td>\n",
       "      <td>890093.76</td>\n",
       "    </tr>\n",
       "    <tr>\n",
       "      <th>86</th>\n",
       "      <td>754735.0</td>\n",
       "      <td>762723.46</td>\n",
       "    </tr>\n",
       "    <tr>\n",
       "      <th>24</th>\n",
       "      <td>796395.0</td>\n",
       "      <td>768537.58</td>\n",
       "    </tr>\n",
       "    <tr>\n",
       "      <th>88</th>\n",
       "      <td>404476.0</td>\n",
       "      <td>540794.08</td>\n",
       "    </tr>\n",
       "    <tr>\n",
       "      <th>16</th>\n",
       "      <td>755073.0</td>\n",
       "      <td>778238.24</td>\n",
       "    </tr>\n",
       "    <tr>\n",
       "      <th>143</th>\n",
       "      <td>722040.0</td>\n",
       "      <td>755002.76</td>\n",
       "    </tr>\n",
       "    <tr>\n",
       "      <th>145</th>\n",
       "      <td>1126244.0</td>\n",
       "      <td>995701.02</td>\n",
       "    </tr>\n",
       "    <tr>\n",
       "      <th>110</th>\n",
       "      <td>810599.0</td>\n",
       "      <td>798437.10</td>\n",
       "    </tr>\n",
       "    <tr>\n",
       "      <th>55</th>\n",
       "      <td>641865.0</td>\n",
       "      <td>774676.60</td>\n",
       "    </tr>\n",
       "    <tr>\n",
       "      <th>45</th>\n",
       "      <td>818442.0</td>\n",
       "      <td>832599.30</td>\n",
       "    </tr>\n",
       "    <tr>\n",
       "      <th>49</th>\n",
       "      <td>764380.0</td>\n",
       "      <td>784820.56</td>\n",
       "    </tr>\n",
       "    <tr>\n",
       "      <th>79</th>\n",
       "      <td>1162364.0</td>\n",
       "      <td>911053.36</td>\n",
       "    </tr>\n",
       "    <tr>\n",
       "      <th>151</th>\n",
       "      <td>700834.0</td>\n",
       "      <td>787128.22</td>\n",
       "    </tr>\n",
       "    <tr>\n",
       "      <th>129</th>\n",
       "      <td>536367.0</td>\n",
       "      <td>656765.70</td>\n",
       "    </tr>\n",
       "    <tr>\n",
       "      <th>119</th>\n",
       "      <td>934074.0</td>\n",
       "      <td>915742.08</td>\n",
       "    </tr>\n",
       "    <tr>\n",
       "      <th>128</th>\n",
       "      <td>703465.0</td>\n",
       "      <td>864691.68</td>\n",
       "    </tr>\n",
       "    <tr>\n",
       "      <th>0</th>\n",
       "      <td>932515.0</td>\n",
       "      <td>911197.40</td>\n",
       "    </tr>\n",
       "    <tr>\n",
       "      <th>131</th>\n",
       "      <td>1330747.0</td>\n",
       "      <td>1199630.80</td>\n",
       "    </tr>\n",
       "    <tr>\n",
       "      <th>93</th>\n",
       "      <td>1626856.0</td>\n",
       "      <td>1362701.52</td>\n",
       "    </tr>\n",
       "    <tr>\n",
       "      <th>115</th>\n",
       "      <td>806166.0</td>\n",
       "      <td>825706.04</td>\n",
       "    </tr>\n",
       "  </tbody>\n",
       "</table>\n",
       "</div>"
      ],
      "text/plain": [
       "          Real    Previsto\n",
       "92    905395.0   900727.50\n",
       "130   752007.0   784554.02\n",
       "158   921875.0   883617.24\n",
       "38   1041359.0   918564.72\n",
       "48    932007.0   939101.02\n",
       "103   258464.0   180088.64\n",
       "4     553020.0   629358.20\n",
       "6    1092081.0  1097530.90\n",
       "85    835847.0   749226.88\n",
       "41    748387.0   752742.84\n",
       "69   1030856.0   890093.76\n",
       "86    754735.0   762723.46\n",
       "24    796395.0   768537.58\n",
       "88    404476.0   540794.08\n",
       "16    755073.0   778238.24\n",
       "143   722040.0   755002.76\n",
       "145  1126244.0   995701.02\n",
       "110   810599.0   798437.10\n",
       "55    641865.0   774676.60\n",
       "45    818442.0   832599.30\n",
       "49    764380.0   784820.56\n",
       "79   1162364.0   911053.36\n",
       "151   700834.0   787128.22\n",
       "129   536367.0   656765.70\n",
       "119   934074.0   915742.08\n",
       "128   703465.0   864691.68\n",
       "0     932515.0   911197.40\n",
       "131  1330747.0  1199630.80\n",
       "93   1626856.0  1362701.52\n",
       "115   806166.0   825706.04"
      ]
     },
     "execution_count": 583,
     "metadata": {},
     "output_type": "execute_result"
    }
   ],
   "source": [
    "# Visualização dos valores\n",
    "comp"
   ]
  },
  {
   "cell_type": "code",
   "execution_count": 584,
   "metadata": {},
   "outputs": [
    {
     "data": {
      "text/plain": [
       "0.9877641250513928"
      ]
     },
     "execution_count": 584,
     "metadata": {},
     "output_type": "execute_result"
    }
   ],
   "source": [
    "# Quão bem o modelo se ajustou às variáveis de treino\n",
    "modelo1.score(X_treino, y_treino)"
   ]
  },
  {
   "cell_type": "code",
   "execution_count": 585,
   "metadata": {},
   "outputs": [
    {
     "data": {
      "text/plain": [
       "0.8479060370898088"
      ]
     },
     "execution_count": 585,
     "metadata": {},
     "output_type": "execute_result"
    }
   ],
   "source": [
    "# Quão bem o modelo se ajustou às variáveis de teste\n",
    "modelo1.score(X_teste,y_teste)"
   ]
  },
  {
   "cell_type": "code",
   "execution_count": 586,
   "metadata": {},
   "outputs": [
    {
     "name": "stdout",
     "output_type": "stream",
     "text": [
      "Root Mean Squared Error:  102100.70618911448\n"
     ]
    }
   ],
   "source": [
    "# RMSE do modelo\n",
    "from sklearn import metrics\n",
    "mse = metrics.mean_squared_error(y_teste, y_pred)\n",
    "rmse = np.sqrt(mse)\n",
    "print(\"Root Mean Squared Error: \", rmse)"
   ]
  },
  {
   "cell_type": "code",
   "execution_count": 587,
   "metadata": {},
   "outputs": [],
   "source": [
    "rf1 = pd.DataFrame({'Algoritmo': 'Random Forest', 'RMSE':rmse, 'Acc': modelo1.score(X_teste, y_teste)}, index = {'1'})"
   ]
  },
  {
   "cell_type": "markdown",
   "metadata": {},
   "source": [
    "##### Modelo 2"
   ]
  },
  {
   "cell_type": "code",
   "execution_count": 588,
   "metadata": {},
   "outputs": [
    {
     "name": "stdout",
     "output_type": "stream",
     "text": [
      "Formato da base preditora:  (148, 18)\n",
      "Formato da base com o alvo:  (148,)\n"
     ]
    }
   ],
   "source": [
    "# Divisão entre variáveis preditoras e varíavel alvo\n",
    "X = base.drop('faturamento', axis = 1)\n",
    "y = base['faturamento']\n",
    "print(\"Formato da base preditora: \", X.shape)\n",
    "print(\"Formato da base com o alvo: \", y.shape)"
   ]
  },
  {
   "cell_type": "code",
   "execution_count": 589,
   "metadata": {},
   "outputs": [],
   "source": [
    "# Redução de dimensionalidade com o PCA\n",
    "from sklearn.decomposition import PCA\n",
    "pca = PCA(n_components = 9)\n",
    "X = pca.fit_transform(X)"
   ]
  },
  {
   "cell_type": "code",
   "execution_count": 590,
   "metadata": {},
   "outputs": [],
   "source": [
    "# Divisão entre treino (80% da base) e teste (20% da base)\n",
    "from sklearn.model_selection import train_test_split\n",
    "X_treino, X_teste, y_treino, y_teste = train_test_split(X, y, test_size = 0.2)"
   ]
  },
  {
   "cell_type": "code",
   "execution_count": 591,
   "metadata": {},
   "outputs": [
    {
     "name": "stdout",
     "output_type": "stream",
     "text": [
      "Formato da base preditora(treino):  (118, 9)\n",
      "Formato da base com o alvo(treino):  (118,)\n",
      "Formato da base preditora(teste):  (30, 9)\n",
      "Formato da base com o alvo(teste):  (30,)\n"
     ]
    }
   ],
   "source": [
    "# Visualização da quantidade de cada um\n",
    "print(\"Formato da base preditora(treino): \", X_treino.shape)\n",
    "print(\"Formato da base com o alvo(treino): \", y_treino.shape)\n",
    "print(\"Formato da base preditora(teste): \", X_teste.shape)\n",
    "print(\"Formato da base com o alvo(teste): \", y_teste.shape)"
   ]
  },
  {
   "cell_type": "code",
   "execution_count": 592,
   "metadata": {},
   "outputs": [
    {
     "data": {
      "text/plain": [
       "RandomForestRegressor(bootstrap=True, ccp_alpha=0.0, criterion='mse',\n",
       "                      max_depth=None, max_features='auto', max_leaf_nodes=None,\n",
       "                      max_samples=None, min_impurity_decrease=0.0,\n",
       "                      min_impurity_split=None, min_samples_leaf=1,\n",
       "                      min_samples_split=2, min_weight_fraction_leaf=0.0,\n",
       "                      n_estimators=50, n_jobs=None, oob_score=False,\n",
       "                      random_state=None, verbose=0, warm_start=False)"
      ]
     },
     "execution_count": 592,
     "metadata": {},
     "output_type": "execute_result"
    }
   ],
   "source": [
    "# Ajuste aos dados de treino (parâmetros padrões -> 100 árvores)\n",
    "modelo2 = RandomForestRegressor(n_estimators = 50)\n",
    "modelo2.fit(X_treino, y_treino)"
   ]
  },
  {
   "cell_type": "code",
   "execution_count": 593,
   "metadata": {},
   "outputs": [
    {
     "data": {
      "text/plain": [
       "array([ 735636.92,  706630.78,  631926.34, 1694451.1 ,  767718.74,\n",
       "       1173145.68,  898859.68,  769581.22,  704592.54,  740195.66,\n",
       "        914881.54, 1440672.08,  685293.58,  759577.68,  744985.76,\n",
       "        688236.28,  915292.42,  846045.62,  260743.7 ,  849906.18,\n",
       "        775173.22,  194044.4 ,  900289.34,  814731.42, 1029803.74,\n",
       "        922248.22,  804540.32,  806213.06,  550487.12,  878439.28])"
      ]
     },
     "execution_count": 593,
     "metadata": {},
     "output_type": "execute_result"
    }
   ],
   "source": [
    "# Previsão com os dados de teste\n",
    "y_pred = modelo2.predict(X_teste)\n",
    "y_pred"
   ]
  },
  {
   "cell_type": "code",
   "execution_count": 594,
   "metadata": {},
   "outputs": [
    {
     "data": {
      "text/html": [
       "<div>\n",
       "<style scoped>\n",
       "    .dataframe tbody tr th:only-of-type {\n",
       "        vertical-align: middle;\n",
       "    }\n",
       "\n",
       "    .dataframe tbody tr th {\n",
       "        vertical-align: top;\n",
       "    }\n",
       "\n",
       "    .dataframe thead th {\n",
       "        text-align: right;\n",
       "    }\n",
       "</style>\n",
       "<table border=\"1\" class=\"dataframe\">\n",
       "  <thead>\n",
       "    <tr style=\"text-align: right;\">\n",
       "      <th></th>\n",
       "      <th>Real</th>\n",
       "      <th>Previsto</th>\n",
       "    </tr>\n",
       "  </thead>\n",
       "  <tbody>\n",
       "    <tr>\n",
       "      <th>37</th>\n",
       "      <td>645088.0</td>\n",
       "      <td>735636.92</td>\n",
       "    </tr>\n",
       "    <tr>\n",
       "      <th>121</th>\n",
       "      <td>720444.0</td>\n",
       "      <td>706630.78</td>\n",
       "    </tr>\n",
       "    <tr>\n",
       "      <th>4</th>\n",
       "      <td>553020.0</td>\n",
       "      <td>631926.34</td>\n",
       "    </tr>\n",
       "    <tr>\n",
       "      <th>50</th>\n",
       "      <td>1981817.0</td>\n",
       "      <td>1694451.10</td>\n",
       "    </tr>\n",
       "    <tr>\n",
       "      <th>124</th>\n",
       "      <td>710341.0</td>\n",
       "      <td>767718.74</td>\n",
       "    </tr>\n",
       "    <tr>\n",
       "      <th>69</th>\n",
       "      <td>1030856.0</td>\n",
       "      <td>1173145.68</td>\n",
       "    </tr>\n",
       "    <tr>\n",
       "      <th>32</th>\n",
       "      <td>912281.0</td>\n",
       "      <td>898859.68</td>\n",
       "    </tr>\n",
       "    <tr>\n",
       "      <th>101</th>\n",
       "      <td>744303.0</td>\n",
       "      <td>769581.22</td>\n",
       "    </tr>\n",
       "    <tr>\n",
       "      <th>12</th>\n",
       "      <td>662520.0</td>\n",
       "      <td>704592.54</td>\n",
       "    </tr>\n",
       "    <tr>\n",
       "      <th>41</th>\n",
       "      <td>748387.0</td>\n",
       "      <td>740195.66</td>\n",
       "    </tr>\n",
       "    <tr>\n",
       "      <th>120</th>\n",
       "      <td>928239.0</td>\n",
       "      <td>914881.54</td>\n",
       "    </tr>\n",
       "    <tr>\n",
       "      <th>93</th>\n",
       "      <td>1626856.0</td>\n",
       "      <td>1440672.08</td>\n",
       "    </tr>\n",
       "    <tr>\n",
       "      <th>34</th>\n",
       "      <td>621314.0</td>\n",
       "      <td>685293.58</td>\n",
       "    </tr>\n",
       "    <tr>\n",
       "      <th>140</th>\n",
       "      <td>752629.0</td>\n",
       "      <td>759577.68</td>\n",
       "    </tr>\n",
       "    <tr>\n",
       "      <th>106</th>\n",
       "      <td>593191.0</td>\n",
       "      <td>744985.76</td>\n",
       "    </tr>\n",
       "    <tr>\n",
       "      <th>100</th>\n",
       "      <td>630075.0</td>\n",
       "      <td>688236.28</td>\n",
       "    </tr>\n",
       "    <tr>\n",
       "      <th>113</th>\n",
       "      <td>848230.0</td>\n",
       "      <td>915292.42</td>\n",
       "    </tr>\n",
       "    <tr>\n",
       "      <th>96</th>\n",
       "      <td>858291.0</td>\n",
       "      <td>846045.62</td>\n",
       "    </tr>\n",
       "    <tr>\n",
       "      <th>135</th>\n",
       "      <td>197681.0</td>\n",
       "      <td>260743.70</td>\n",
       "    </tr>\n",
       "    <tr>\n",
       "      <th>2</th>\n",
       "      <td>874200.0</td>\n",
       "      <td>849906.18</td>\n",
       "    </tr>\n",
       "    <tr>\n",
       "      <th>149</th>\n",
       "      <td>797801.0</td>\n",
       "      <td>775173.22</td>\n",
       "    </tr>\n",
       "    <tr>\n",
       "      <th>125</th>\n",
       "      <td>59273.0</td>\n",
       "      <td>194044.40</td>\n",
       "    </tr>\n",
       "    <tr>\n",
       "      <th>158</th>\n",
       "      <td>921875.0</td>\n",
       "      <td>900289.34</td>\n",
       "    </tr>\n",
       "    <tr>\n",
       "      <th>24</th>\n",
       "      <td>796395.0</td>\n",
       "      <td>814731.42</td>\n",
       "    </tr>\n",
       "    <tr>\n",
       "      <th>112</th>\n",
       "      <td>1005886.0</td>\n",
       "      <td>1029803.74</td>\n",
       "    </tr>\n",
       "    <tr>\n",
       "      <th>84</th>\n",
       "      <td>932622.0</td>\n",
       "      <td>922248.22</td>\n",
       "    </tr>\n",
       "    <tr>\n",
       "      <th>126</th>\n",
       "      <td>806674.0</td>\n",
       "      <td>804540.32</td>\n",
       "    </tr>\n",
       "    <tr>\n",
       "      <th>134</th>\n",
       "      <td>828677.0</td>\n",
       "      <td>806213.06</td>\n",
       "    </tr>\n",
       "    <tr>\n",
       "      <th>152</th>\n",
       "      <td>623144.0</td>\n",
       "      <td>550487.12</td>\n",
       "    </tr>\n",
       "    <tr>\n",
       "      <th>128</th>\n",
       "      <td>703465.0</td>\n",
       "      <td>878439.28</td>\n",
       "    </tr>\n",
       "  </tbody>\n",
       "</table>\n",
       "</div>"
      ],
      "text/plain": [
       "          Real    Previsto\n",
       "37    645088.0   735636.92\n",
       "121   720444.0   706630.78\n",
       "4     553020.0   631926.34\n",
       "50   1981817.0  1694451.10\n",
       "124   710341.0   767718.74\n",
       "69   1030856.0  1173145.68\n",
       "32    912281.0   898859.68\n",
       "101   744303.0   769581.22\n",
       "12    662520.0   704592.54\n",
       "41    748387.0   740195.66\n",
       "120   928239.0   914881.54\n",
       "93   1626856.0  1440672.08\n",
       "34    621314.0   685293.58\n",
       "140   752629.0   759577.68\n",
       "106   593191.0   744985.76\n",
       "100   630075.0   688236.28\n",
       "113   848230.0   915292.42\n",
       "96    858291.0   846045.62\n",
       "135   197681.0   260743.70\n",
       "2     874200.0   849906.18\n",
       "149   797801.0   775173.22\n",
       "125    59273.0   194044.40\n",
       "158   921875.0   900289.34\n",
       "24    796395.0   814731.42\n",
       "112  1005886.0  1029803.74\n",
       "84    932622.0   922248.22\n",
       "126   806674.0   804540.32\n",
       "134   828677.0   806213.06\n",
       "152   623144.0   550487.12\n",
       "128   703465.0   878439.28"
      ]
     },
     "execution_count": 594,
     "metadata": {},
     "output_type": "execute_result"
    }
   ],
   "source": [
    "# Criação de um dataframe para comparação dos valores\n",
    "comp = pd.DataFrame({\"Real\":y_teste, \"Previsto\":y_pred})\n",
    "comp"
   ]
  },
  {
   "cell_type": "code",
   "execution_count": 595,
   "metadata": {},
   "outputs": [
    {
     "name": "stdout",
     "output_type": "stream",
     "text": [
      "Root Mean Squared Error:  92118.56217018724\n"
     ]
    }
   ],
   "source": [
    "# RMSE do modelo\n",
    "from sklearn import metrics\n",
    "mse = metrics.mean_squared_error(y_teste, y_pred)\n",
    "rmse = np.sqrt(mse)\n",
    "print(\"Root Mean Squared Error: \", rmse)"
   ]
  },
  {
   "cell_type": "code",
   "execution_count": 596,
   "metadata": {},
   "outputs": [
    {
     "data": {
      "text/html": [
       "<div>\n",
       "<style scoped>\n",
       "    .dataframe tbody tr th:only-of-type {\n",
       "        vertical-align: middle;\n",
       "    }\n",
       "\n",
       "    .dataframe tbody tr th {\n",
       "        vertical-align: top;\n",
       "    }\n",
       "\n",
       "    .dataframe thead th {\n",
       "        text-align: right;\n",
       "    }\n",
       "</style>\n",
       "<table border=\"1\" class=\"dataframe\">\n",
       "  <thead>\n",
       "    <tr style=\"text-align: right;\">\n",
       "      <th></th>\n",
       "      <th>Algoritmo</th>\n",
       "      <th>RMSE</th>\n",
       "      <th>Acc</th>\n",
       "    </tr>\n",
       "  </thead>\n",
       "  <tbody>\n",
       "    <tr>\n",
       "      <th>1</th>\n",
       "      <td>Random Forest</td>\n",
       "      <td>102100.706189</td>\n",
       "      <td>0.847906</td>\n",
       "    </tr>\n",
       "    <tr>\n",
       "      <th>2</th>\n",
       "      <td>Random Forest (PCA)</td>\n",
       "      <td>92118.562170</td>\n",
       "      <td>0.925805</td>\n",
       "    </tr>\n",
       "  </tbody>\n",
       "</table>\n",
       "</div>"
      ],
      "text/plain": [
       "             Algoritmo           RMSE       Acc\n",
       "1        Random Forest  102100.706189  0.847906\n",
       "2  Random Forest (PCA)   92118.562170  0.925805"
      ]
     },
     "execution_count": 596,
     "metadata": {},
     "output_type": "execute_result"
    }
   ],
   "source": [
    "rf2 = pd.DataFrame({'Algoritmo': 'Random Forest (PCA)', 'RMSE':rmse, 'Acc': modelo2.score(X_teste, y_teste)}, index = {'2'})\n",
    "resultados = pd.concat([rf1, rf2])\n",
    "resultados"
   ]
  },
  {
   "cell_type": "markdown",
   "metadata": {},
   "source": [
    "#### Cross Validation"
   ]
  },
  {
   "cell_type": "markdown",
   "metadata": {},
   "source": [
    "##### Modelo 1"
   ]
  },
  {
   "cell_type": "code",
   "execution_count": 597,
   "metadata": {},
   "outputs": [],
   "source": [
    "from sklearn.model_selection import cross_val_score\n",
    "from sklearn.model_selection import RepeatedKFold"
   ]
  },
  {
   "cell_type": "code",
   "execution_count": 598,
   "metadata": {},
   "outputs": [
    {
     "name": "stdout",
     "output_type": "stream",
     "text": [
      "Formato da base preditora:  (148, 18)\n",
      "Formato da base com o alvo:  (148,)\n"
     ]
    }
   ],
   "source": [
    "# Divisão entre variáveis preditoras e varíavel alvo\n",
    "X = base.drop('faturamento', axis = 1)\n",
    "y = base['faturamento']\n",
    "print(\"Formato da base preditora: \", X.shape)\n",
    "print(\"Formato da base com o alvo: \", y.shape)"
   ]
  },
  {
   "cell_type": "code",
   "execution_count": 599,
   "metadata": {},
   "outputs": [],
   "source": [
    "modelo1 = RandomForestRegressor(n_estimators = 500)"
   ]
  },
  {
   "cell_type": "code",
   "execution_count": 600,
   "metadata": {},
   "outputs": [],
   "source": [
    "# Avaliando o modelo\n",
    "from sklearn.model_selection import cross_validate\n",
    "scoring = {'Error':'neg_root_mean_squared_error' ,'Accuracy':'r2'}\n",
    "cv = RepeatedKFold(n_splits=10, n_repeats=3, random_state=1)\n",
    "#n_scores1 = cross_val_score(modelo1, X, y, scoring='neg_root_mean_squared_error', cv=cv, n_jobs=-1, error_score='raise')\n",
    "n_scores = cross_validate(modelo1, X,y, scoring = scoring, cv = cv)"
   ]
  },
  {
   "cell_type": "code",
   "execution_count": 601,
   "metadata": {},
   "outputs": [
    {
     "data": {
      "text/html": [
       "<div>\n",
       "<style scoped>\n",
       "    .dataframe tbody tr th:only-of-type {\n",
       "        vertical-align: middle;\n",
       "    }\n",
       "\n",
       "    .dataframe tbody tr th {\n",
       "        vertical-align: top;\n",
       "    }\n",
       "\n",
       "    .dataframe thead th {\n",
       "        text-align: right;\n",
       "    }\n",
       "</style>\n",
       "<table border=\"1\" class=\"dataframe\">\n",
       "  <thead>\n",
       "    <tr style=\"text-align: right;\">\n",
       "      <th></th>\n",
       "      <th>Algoritmo</th>\n",
       "      <th>RMSE</th>\n",
       "      <th>Acc</th>\n",
       "    </tr>\n",
       "  </thead>\n",
       "  <tbody>\n",
       "    <tr>\n",
       "      <th>1</th>\n",
       "      <td>Random Forest</td>\n",
       "      <td>102100.706189</td>\n",
       "      <td>0.847906</td>\n",
       "    </tr>\n",
       "    <tr>\n",
       "      <th>2</th>\n",
       "      <td>Random Forest (PCA)</td>\n",
       "      <td>92118.562170</td>\n",
       "      <td>0.925805</td>\n",
       "    </tr>\n",
       "    <tr>\n",
       "      <th>3</th>\n",
       "      <td>Random Forest (K-Fold)</td>\n",
       "      <td>86986.410574</td>\n",
       "      <td>0.894496</td>\n",
       "    </tr>\n",
       "  </tbody>\n",
       "</table>\n",
       "</div>"
      ],
      "text/plain": [
       "                Algoritmo           RMSE       Acc\n",
       "1           Random Forest  102100.706189  0.847906\n",
       "2     Random Forest (PCA)   92118.562170  0.925805\n",
       "3  Random Forest (K-Fold)   86986.410574  0.894496"
      ]
     },
     "execution_count": 601,
     "metadata": {},
     "output_type": "execute_result"
    }
   ],
   "source": [
    "rf1_k = pd.DataFrame({'Algoritmo': 'Random Forest (K-Fold)', 'RMSE':abs(np.mean(n_scores['test_Error'])), 'Acc': np.mean(n_scores['test_Accuracy'])}, index = {'3'})\n",
    "resultados = pd.concat([resultados, rf1_k])\n",
    "resultados"
   ]
  },
  {
   "cell_type": "markdown",
   "metadata": {},
   "source": [
    "##### Modelo 2"
   ]
  },
  {
   "cell_type": "code",
   "execution_count": 602,
   "metadata": {},
   "outputs": [
    {
     "name": "stdout",
     "output_type": "stream",
     "text": [
      "Formato da base preditora:  (148, 18)\n",
      "Formato da base com o alvo:  (148,)\n"
     ]
    }
   ],
   "source": [
    "# Divisão entre variáveis preditoras e varíavel alvo\n",
    "X = base.drop('faturamento', axis = 1)\n",
    "y = base['faturamento']\n",
    "print(\"Formato da base preditora: \", X.shape)\n",
    "print(\"Formato da base com o alvo: \", y.shape)"
   ]
  },
  {
   "cell_type": "code",
   "execution_count": 603,
   "metadata": {},
   "outputs": [],
   "source": [
    "# Redução de dimensionalidade com o PCA\n",
    "from sklearn.decomposition import PCA\n",
    "pca = PCA(n_components = 9)\n",
    "X = pca.fit_transform(X)"
   ]
  },
  {
   "cell_type": "code",
   "execution_count": 604,
   "metadata": {},
   "outputs": [],
   "source": [
    "modelo2 = RandomForestRegressor(n_estimators = 500)"
   ]
  },
  {
   "cell_type": "code",
   "execution_count": 605,
   "metadata": {},
   "outputs": [],
   "source": [
    "# Avaliando o modelo\n",
    "from sklearn.model_selection import cross_validate\n",
    "scoring = {'Error':'neg_root_mean_squared_error' ,'Accuracy':'r2'}\n",
    "cv = RepeatedKFold(n_splits=10, n_repeats=3, random_state=1)\n",
    "#n_scores1 = cross_val_score(modelo1, X, y, scoring='neg_root_mean_squared_error', cv=cv, n_jobs=-1, error_score='raise')\n",
    "n_scores = cross_validate(modelo2, X,y, scoring = scoring, cv = cv)"
   ]
  },
  {
   "cell_type": "code",
   "execution_count": 606,
   "metadata": {},
   "outputs": [
    {
     "data": {
      "text/html": [
       "<div>\n",
       "<style scoped>\n",
       "    .dataframe tbody tr th:only-of-type {\n",
       "        vertical-align: middle;\n",
       "    }\n",
       "\n",
       "    .dataframe tbody tr th {\n",
       "        vertical-align: top;\n",
       "    }\n",
       "\n",
       "    .dataframe thead th {\n",
       "        text-align: right;\n",
       "    }\n",
       "</style>\n",
       "<table border=\"1\" class=\"dataframe\">\n",
       "  <thead>\n",
       "    <tr style=\"text-align: right;\">\n",
       "      <th></th>\n",
       "      <th>Algoritmo</th>\n",
       "      <th>RMSE</th>\n",
       "      <th>Acc</th>\n",
       "    </tr>\n",
       "  </thead>\n",
       "  <tbody>\n",
       "    <tr>\n",
       "      <th>1</th>\n",
       "      <td>Random Forest</td>\n",
       "      <td>102100.706189</td>\n",
       "      <td>0.847906</td>\n",
       "    </tr>\n",
       "    <tr>\n",
       "      <th>2</th>\n",
       "      <td>Random Forest (PCA)</td>\n",
       "      <td>92118.562170</td>\n",
       "      <td>0.925805</td>\n",
       "    </tr>\n",
       "    <tr>\n",
       "      <th>3</th>\n",
       "      <td>Random Forest (K-Fold)</td>\n",
       "      <td>86986.410574</td>\n",
       "      <td>0.894496</td>\n",
       "    </tr>\n",
       "    <tr>\n",
       "      <th>4</th>\n",
       "      <td>Random Forest (K-Fold/PCA)</td>\n",
       "      <td>80818.392238</td>\n",
       "      <td>0.905688</td>\n",
       "    </tr>\n",
       "  </tbody>\n",
       "</table>\n",
       "</div>"
      ],
      "text/plain": [
       "                    Algoritmo           RMSE       Acc\n",
       "1               Random Forest  102100.706189  0.847906\n",
       "2         Random Forest (PCA)   92118.562170  0.925805\n",
       "3      Random Forest (K-Fold)   86986.410574  0.894496\n",
       "4  Random Forest (K-Fold/PCA)   80818.392238  0.905688"
      ]
     },
     "execution_count": 606,
     "metadata": {},
     "output_type": "execute_result"
    }
   ],
   "source": [
    "rf2_k = pd.DataFrame({'Algoritmo': 'Random Forest (K-Fold/PCA)', 'RMSE':abs(np.mean(n_scores['test_Error'])), 'Acc': np.mean(n_scores['test_Accuracy'])}, index = {'4'})\n",
    "resultados = pd.concat([resultados, rf2_k])\n",
    "resultados"
   ]
  },
  {
   "cell_type": "markdown",
   "metadata": {},
   "source": [
    "### Gradient Boosting Regressor"
   ]
  },
  {
   "cell_type": "markdown",
   "metadata": {},
   "source": [
    "#### Divisão em treino e teste"
   ]
  },
  {
   "cell_type": "markdown",
   "metadata": {},
   "source": [
    "##### Modelo 1"
   ]
  },
  {
   "cell_type": "code",
   "execution_count": 607,
   "metadata": {},
   "outputs": [],
   "source": [
    "from sklearn.ensemble import GradientBoostingRegressor"
   ]
  },
  {
   "cell_type": "code",
   "execution_count": 608,
   "metadata": {},
   "outputs": [
    {
     "name": "stdout",
     "output_type": "stream",
     "text": [
      "Formato da base preditora:  (148, 18)\n",
      "Formato da base com o alvo:  (148,)\n"
     ]
    }
   ],
   "source": [
    "# Divisão entre variáveis preditoras e varíavel alvo\n",
    "X = base.drop('faturamento', axis = 1)\n",
    "y = base['faturamento']\n",
    "print(\"Formato da base preditora: \", X.shape)\n",
    "print(\"Formato da base com o alvo: \", y.shape)"
   ]
  },
  {
   "cell_type": "code",
   "execution_count": 609,
   "metadata": {},
   "outputs": [],
   "source": [
    "# Divisão entre treino (80% da base) e teste (20% da base)\n",
    "from sklearn.model_selection import train_test_split\n",
    "X_treino, X_teste, y_treino, y_teste = train_test_split(X, y, test_size = 0.2)"
   ]
  },
  {
   "cell_type": "code",
   "execution_count": 610,
   "metadata": {},
   "outputs": [
    {
     "data": {
      "text/plain": [
       "GradientBoostingRegressor(alpha=0.9, ccp_alpha=0.0, criterion='friedman_mse',\n",
       "                          init=None, learning_rate=0.1, loss='ls', max_depth=3,\n",
       "                          max_features=None, max_leaf_nodes=None,\n",
       "                          min_impurity_decrease=0.0, min_impurity_split=None,\n",
       "                          min_samples_leaf=1, min_samples_split=2,\n",
       "                          min_weight_fraction_leaf=0.0, n_estimators=100,\n",
       "                          n_iter_no_change=None, presort='deprecated',\n",
       "                          random_state=None, subsample=1.0, tol=0.0001,\n",
       "                          validation_fraction=0.1, verbose=0, warm_start=False)"
      ]
     },
     "execution_count": 610,
     "metadata": {},
     "output_type": "execute_result"
    }
   ],
   "source": [
    "# Criação do modelo e ajuste aos dados\n",
    "modelo1 = GradientBoostingRegressor()\n",
    "modelo1.fit(X_treino, y_treino)"
   ]
  },
  {
   "cell_type": "code",
   "execution_count": 611,
   "metadata": {},
   "outputs": [],
   "source": [
    "# Previsão\n",
    "y_pred = modelo1.predict(X_teste)"
   ]
  },
  {
   "cell_type": "code",
   "execution_count": 612,
   "metadata": {},
   "outputs": [
    {
     "data": {
      "text/plain": [
       "0.9993312572035885"
      ]
     },
     "execution_count": 612,
     "metadata": {},
     "output_type": "execute_result"
    }
   ],
   "source": [
    "modelo1.score(X_treino, y_treino)"
   ]
  },
  {
   "cell_type": "code",
   "execution_count": 613,
   "metadata": {},
   "outputs": [
    {
     "data": {
      "text/plain": [
       "0.9724398407598422"
      ]
     },
     "execution_count": 613,
     "metadata": {},
     "output_type": "execute_result"
    }
   ],
   "source": [
    "modelo1.score(X_teste, y_teste)"
   ]
  },
  {
   "cell_type": "code",
   "execution_count": 614,
   "metadata": {},
   "outputs": [
    {
     "data": {
      "text/html": [
       "<div>\n",
       "<style scoped>\n",
       "    .dataframe tbody tr th:only-of-type {\n",
       "        vertical-align: middle;\n",
       "    }\n",
       "\n",
       "    .dataframe tbody tr th {\n",
       "        vertical-align: top;\n",
       "    }\n",
       "\n",
       "    .dataframe thead th {\n",
       "        text-align: right;\n",
       "    }\n",
       "</style>\n",
       "<table border=\"1\" class=\"dataframe\">\n",
       "  <thead>\n",
       "    <tr style=\"text-align: right;\">\n",
       "      <th></th>\n",
       "      <th>Real</th>\n",
       "      <th>Previsto</th>\n",
       "    </tr>\n",
       "  </thead>\n",
       "  <tbody>\n",
       "    <tr>\n",
       "      <th>74</th>\n",
       "      <td>795412.0</td>\n",
       "      <td>7.787396e+05</td>\n",
       "    </tr>\n",
       "    <tr>\n",
       "      <th>100</th>\n",
       "      <td>630075.0</td>\n",
       "      <td>6.654291e+05</td>\n",
       "    </tr>\n",
       "    <tr>\n",
       "      <th>3</th>\n",
       "      <td>912226.0</td>\n",
       "      <td>8.970469e+05</td>\n",
       "    </tr>\n",
       "    <tr>\n",
       "      <th>35</th>\n",
       "      <td>88790.0</td>\n",
       "      <td>1.878103e+05</td>\n",
       "    </tr>\n",
       "    <tr>\n",
       "      <th>37</th>\n",
       "      <td>645088.0</td>\n",
       "      <td>6.122494e+05</td>\n",
       "    </tr>\n",
       "    <tr>\n",
       "      <th>103</th>\n",
       "      <td>258464.0</td>\n",
       "      <td>3.834564e+05</td>\n",
       "    </tr>\n",
       "    <tr>\n",
       "      <th>106</th>\n",
       "      <td>593191.0</td>\n",
       "      <td>6.305561e+05</td>\n",
       "    </tr>\n",
       "    <tr>\n",
       "      <th>19</th>\n",
       "      <td>635348.0</td>\n",
       "      <td>6.856672e+05</td>\n",
       "    </tr>\n",
       "    <tr>\n",
       "      <th>94</th>\n",
       "      <td>978197.0</td>\n",
       "      <td>9.221075e+05</td>\n",
       "    </tr>\n",
       "    <tr>\n",
       "      <th>40</th>\n",
       "      <td>607957.0</td>\n",
       "      <td>6.435542e+05</td>\n",
       "    </tr>\n",
       "    <tr>\n",
       "      <th>118</th>\n",
       "      <td>1596252.0</td>\n",
       "      <td>1.711547e+06</td>\n",
       "    </tr>\n",
       "    <tr>\n",
       "      <th>77</th>\n",
       "      <td>1448872.0</td>\n",
       "      <td>1.421861e+06</td>\n",
       "    </tr>\n",
       "    <tr>\n",
       "      <th>56</th>\n",
       "      <td>1430429.0</td>\n",
       "      <td>1.365824e+06</td>\n",
       "    </tr>\n",
       "    <tr>\n",
       "      <th>155</th>\n",
       "      <td>901446.0</td>\n",
       "      <td>8.769393e+05</td>\n",
       "    </tr>\n",
       "    <tr>\n",
       "      <th>34</th>\n",
       "      <td>621314.0</td>\n",
       "      <td>6.659068e+05</td>\n",
       "    </tr>\n",
       "    <tr>\n",
       "      <th>154</th>\n",
       "      <td>1528242.0</td>\n",
       "      <td>1.559772e+06</td>\n",
       "    </tr>\n",
       "    <tr>\n",
       "      <th>91</th>\n",
       "      <td>726430.0</td>\n",
       "      <td>6.691915e+05</td>\n",
       "    </tr>\n",
       "    <tr>\n",
       "      <th>107</th>\n",
       "      <td>908998.0</td>\n",
       "      <td>8.409084e+05</td>\n",
       "    </tr>\n",
       "    <tr>\n",
       "      <th>144</th>\n",
       "      <td>798206.0</td>\n",
       "      <td>7.797855e+05</td>\n",
       "    </tr>\n",
       "    <tr>\n",
       "      <th>22</th>\n",
       "      <td>935061.0</td>\n",
       "      <td>1.042034e+06</td>\n",
       "    </tr>\n",
       "    <tr>\n",
       "      <th>137</th>\n",
       "      <td>450723.0</td>\n",
       "      <td>4.262299e+05</td>\n",
       "    </tr>\n",
       "    <tr>\n",
       "      <th>131</th>\n",
       "      <td>1330747.0</td>\n",
       "      <td>1.199471e+06</td>\n",
       "    </tr>\n",
       "    <tr>\n",
       "      <th>101</th>\n",
       "      <td>744303.0</td>\n",
       "      <td>7.662378e+05</td>\n",
       "    </tr>\n",
       "    <tr>\n",
       "      <th>108</th>\n",
       "      <td>808082.0</td>\n",
       "      <td>7.882259e+05</td>\n",
       "    </tr>\n",
       "    <tr>\n",
       "      <th>148</th>\n",
       "      <td>767430.0</td>\n",
       "      <td>7.850791e+05</td>\n",
       "    </tr>\n",
       "    <tr>\n",
       "      <th>126</th>\n",
       "      <td>806674.0</td>\n",
       "      <td>7.991176e+05</td>\n",
       "    </tr>\n",
       "    <tr>\n",
       "      <th>31</th>\n",
       "      <td>855182.0</td>\n",
       "      <td>8.651582e+05</td>\n",
       "    </tr>\n",
       "    <tr>\n",
       "      <th>73</th>\n",
       "      <td>527702.0</td>\n",
       "      <td>5.309522e+05</td>\n",
       "    </tr>\n",
       "    <tr>\n",
       "      <th>69</th>\n",
       "      <td>1030856.0</td>\n",
       "      <td>1.001347e+06</td>\n",
       "    </tr>\n",
       "    <tr>\n",
       "      <th>0</th>\n",
       "      <td>932515.0</td>\n",
       "      <td>9.235029e+05</td>\n",
       "    </tr>\n",
       "  </tbody>\n",
       "</table>\n",
       "</div>"
      ],
      "text/plain": [
       "          Real      Previsto\n",
       "74    795412.0  7.787396e+05\n",
       "100   630075.0  6.654291e+05\n",
       "3     912226.0  8.970469e+05\n",
       "35     88790.0  1.878103e+05\n",
       "37    645088.0  6.122494e+05\n",
       "103   258464.0  3.834564e+05\n",
       "106   593191.0  6.305561e+05\n",
       "19    635348.0  6.856672e+05\n",
       "94    978197.0  9.221075e+05\n",
       "40    607957.0  6.435542e+05\n",
       "118  1596252.0  1.711547e+06\n",
       "77   1448872.0  1.421861e+06\n",
       "56   1430429.0  1.365824e+06\n",
       "155   901446.0  8.769393e+05\n",
       "34    621314.0  6.659068e+05\n",
       "154  1528242.0  1.559772e+06\n",
       "91    726430.0  6.691915e+05\n",
       "107   908998.0  8.409084e+05\n",
       "144   798206.0  7.797855e+05\n",
       "22    935061.0  1.042034e+06\n",
       "137   450723.0  4.262299e+05\n",
       "131  1330747.0  1.199471e+06\n",
       "101   744303.0  7.662378e+05\n",
       "108   808082.0  7.882259e+05\n",
       "148   767430.0  7.850791e+05\n",
       "126   806674.0  7.991176e+05\n",
       "31    855182.0  8.651582e+05\n",
       "73    527702.0  5.309522e+05\n",
       "69   1030856.0  1.001347e+06\n",
       "0     932515.0  9.235029e+05"
      ]
     },
     "execution_count": 614,
     "metadata": {},
     "output_type": "execute_result"
    }
   ],
   "source": [
    "# Criação de um dataframe para comparação dos valores\n",
    "comp = pd.DataFrame({\"Real\":y_teste, \"Previsto\":y_pred})\n",
    "comp"
   ]
  },
  {
   "cell_type": "code",
   "execution_count": 615,
   "metadata": {},
   "outputs": [
    {
     "name": "stdout",
     "output_type": "stream",
     "text": [
      "Root Mean Squared Error:  57218.90624433535\n"
     ]
    }
   ],
   "source": [
    "# RMSE do modelo\n",
    "from sklearn import metrics\n",
    "mse = metrics.mean_squared_error(y_teste, y_pred)\n",
    "rmse = np.sqrt(mse)\n",
    "print(\"Root Mean Squared Error: \", rmse)"
   ]
  },
  {
   "cell_type": "code",
   "execution_count": 616,
   "metadata": {},
   "outputs": [
    {
     "data": {
      "text/html": [
       "<div>\n",
       "<style scoped>\n",
       "    .dataframe tbody tr th:only-of-type {\n",
       "        vertical-align: middle;\n",
       "    }\n",
       "\n",
       "    .dataframe tbody tr th {\n",
       "        vertical-align: top;\n",
       "    }\n",
       "\n",
       "    .dataframe thead th {\n",
       "        text-align: right;\n",
       "    }\n",
       "</style>\n",
       "<table border=\"1\" class=\"dataframe\">\n",
       "  <thead>\n",
       "    <tr style=\"text-align: right;\">\n",
       "      <th></th>\n",
       "      <th>Algoritmo</th>\n",
       "      <th>RMSE</th>\n",
       "      <th>Acc</th>\n",
       "    </tr>\n",
       "  </thead>\n",
       "  <tbody>\n",
       "    <tr>\n",
       "      <th>1</th>\n",
       "      <td>Random Forest</td>\n",
       "      <td>102100.706189</td>\n",
       "      <td>0.847906</td>\n",
       "    </tr>\n",
       "    <tr>\n",
       "      <th>2</th>\n",
       "      <td>Random Forest (PCA)</td>\n",
       "      <td>92118.562170</td>\n",
       "      <td>0.925805</td>\n",
       "    </tr>\n",
       "    <tr>\n",
       "      <th>3</th>\n",
       "      <td>Random Forest (K-Fold)</td>\n",
       "      <td>86986.410574</td>\n",
       "      <td>0.894496</td>\n",
       "    </tr>\n",
       "    <tr>\n",
       "      <th>4</th>\n",
       "      <td>Random Forest (K-Fold/PCA)</td>\n",
       "      <td>80818.392238</td>\n",
       "      <td>0.905688</td>\n",
       "    </tr>\n",
       "    <tr>\n",
       "      <th>5</th>\n",
       "      <td>Gradient Boosting</td>\n",
       "      <td>57218.906244</td>\n",
       "      <td>0.972440</td>\n",
       "    </tr>\n",
       "  </tbody>\n",
       "</table>\n",
       "</div>"
      ],
      "text/plain": [
       "                    Algoritmo           RMSE       Acc\n",
       "1               Random Forest  102100.706189  0.847906\n",
       "2         Random Forest (PCA)   92118.562170  0.925805\n",
       "3      Random Forest (K-Fold)   86986.410574  0.894496\n",
       "4  Random Forest (K-Fold/PCA)   80818.392238  0.905688\n",
       "5           Gradient Boosting   57218.906244  0.972440"
      ]
     },
     "execution_count": 616,
     "metadata": {},
     "output_type": "execute_result"
    }
   ],
   "source": [
    "GB = pd.DataFrame({'Algoritmo': 'Gradient Boosting', 'RMSE':rmse, 'Acc': modelo1.score(X_teste, y_teste)}, index = {'5'})\n",
    "resultados = pd.concat([resultados, GB])\n",
    "resultados"
   ]
  },
  {
   "cell_type": "markdown",
   "metadata": {},
   "source": [
    "##### Modelo 2"
   ]
  },
  {
   "cell_type": "code",
   "execution_count": 617,
   "metadata": {},
   "outputs": [
    {
     "name": "stdout",
     "output_type": "stream",
     "text": [
      "Formato da base preditora:  (148, 18)\n",
      "Formato da base com o alvo:  (148,)\n"
     ]
    }
   ],
   "source": [
    "# Divisão entre variáveis preditoras e varíavel alvo\n",
    "X = base.drop('faturamento', axis = 1)\n",
    "y = base['faturamento']\n",
    "print(\"Formato da base preditora: \", X.shape)\n",
    "print(\"Formato da base com o alvo: \", y.shape)"
   ]
  },
  {
   "cell_type": "code",
   "execution_count": 618,
   "metadata": {},
   "outputs": [],
   "source": [
    "# Redução de dimensionalidade com o PCA\n",
    "from sklearn.decomposition import PCA\n",
    "pca = PCA(n_components = 9)\n",
    "X = pca.fit_transform(X)"
   ]
  },
  {
   "cell_type": "code",
   "execution_count": 619,
   "metadata": {},
   "outputs": [],
   "source": [
    "# Divisão entre treino (80% da base) e teste (20% da base)\n",
    "from sklearn.model_selection import train_test_split\n",
    "X_treino, X_teste, y_treino, y_teste = train_test_split(X, y, test_size = 0.2)"
   ]
  },
  {
   "cell_type": "code",
   "execution_count": 620,
   "metadata": {},
   "outputs": [
    {
     "data": {
      "text/plain": [
       "GradientBoostingRegressor(alpha=0.9, ccp_alpha=0.0, criterion='friedman_mse',\n",
       "                          init=None, learning_rate=0.1, loss='ls', max_depth=3,\n",
       "                          max_features=None, max_leaf_nodes=None,\n",
       "                          min_impurity_decrease=0.0, min_impurity_split=None,\n",
       "                          min_samples_leaf=1, min_samples_split=2,\n",
       "                          min_weight_fraction_leaf=0.0, n_estimators=100,\n",
       "                          n_iter_no_change=None, presort='deprecated',\n",
       "                          random_state=None, subsample=1.0, tol=0.0001,\n",
       "                          validation_fraction=0.1, verbose=0, warm_start=False)"
      ]
     },
     "execution_count": 620,
     "metadata": {},
     "output_type": "execute_result"
    }
   ],
   "source": [
    "# Criação do modelo e ajuste aos dados\n",
    "modelo2 = GradientBoostingRegressor()\n",
    "modelo2.fit(X_treino, y_treino)"
   ]
  },
  {
   "cell_type": "code",
   "execution_count": 621,
   "metadata": {},
   "outputs": [],
   "source": [
    "# Previsão\n",
    "y_pred = modelo2.predict(X_teste)"
   ]
  },
  {
   "cell_type": "code",
   "execution_count": 622,
   "metadata": {},
   "outputs": [
    {
     "data": {
      "text/plain": [
       "0.9996320158868359"
      ]
     },
     "execution_count": 622,
     "metadata": {},
     "output_type": "execute_result"
    }
   ],
   "source": [
    "modelo2.score(X_treino, y_treino)"
   ]
  },
  {
   "cell_type": "code",
   "execution_count": 623,
   "metadata": {},
   "outputs": [
    {
     "data": {
      "text/plain": [
       "0.949746204460191"
      ]
     },
     "execution_count": 623,
     "metadata": {},
     "output_type": "execute_result"
    }
   ],
   "source": [
    "modelo2.score(X_teste, y_teste)"
   ]
  },
  {
   "cell_type": "code",
   "execution_count": 624,
   "metadata": {},
   "outputs": [
    {
     "data": {
      "text/html": [
       "<div>\n",
       "<style scoped>\n",
       "    .dataframe tbody tr th:only-of-type {\n",
       "        vertical-align: middle;\n",
       "    }\n",
       "\n",
       "    .dataframe tbody tr th {\n",
       "        vertical-align: top;\n",
       "    }\n",
       "\n",
       "    .dataframe thead th {\n",
       "        text-align: right;\n",
       "    }\n",
       "</style>\n",
       "<table border=\"1\" class=\"dataframe\">\n",
       "  <thead>\n",
       "    <tr style=\"text-align: right;\">\n",
       "      <th></th>\n",
       "      <th>Real</th>\n",
       "      <th>Previsto</th>\n",
       "    </tr>\n",
       "  </thead>\n",
       "  <tbody>\n",
       "    <tr>\n",
       "      <th>124</th>\n",
       "      <td>710341.0</td>\n",
       "      <td>7.070476e+05</td>\n",
       "    </tr>\n",
       "    <tr>\n",
       "      <th>42</th>\n",
       "      <td>846146.0</td>\n",
       "      <td>8.261227e+05</td>\n",
       "    </tr>\n",
       "    <tr>\n",
       "      <th>110</th>\n",
       "      <td>810599.0</td>\n",
       "      <td>8.147736e+05</td>\n",
       "    </tr>\n",
       "    <tr>\n",
       "      <th>91</th>\n",
       "      <td>726430.0</td>\n",
       "      <td>7.476005e+05</td>\n",
       "    </tr>\n",
       "    <tr>\n",
       "      <th>61</th>\n",
       "      <td>779768.0</td>\n",
       "      <td>7.483016e+05</td>\n",
       "    </tr>\n",
       "    <tr>\n",
       "      <th>60</th>\n",
       "      <td>835491.0</td>\n",
       "      <td>7.792925e+05</td>\n",
       "    </tr>\n",
       "    <tr>\n",
       "      <th>118</th>\n",
       "      <td>1596252.0</td>\n",
       "      <td>1.465142e+06</td>\n",
       "    </tr>\n",
       "    <tr>\n",
       "      <th>86</th>\n",
       "      <td>754735.0</td>\n",
       "      <td>7.512559e+05</td>\n",
       "    </tr>\n",
       "    <tr>\n",
       "      <th>140</th>\n",
       "      <td>752629.0</td>\n",
       "      <td>7.357194e+05</td>\n",
       "    </tr>\n",
       "    <tr>\n",
       "      <th>6</th>\n",
       "      <td>1092081.0</td>\n",
       "      <td>9.510199e+05</td>\n",
       "    </tr>\n",
       "    <tr>\n",
       "      <th>71</th>\n",
       "      <td>822849.0</td>\n",
       "      <td>8.583720e+05</td>\n",
       "    </tr>\n",
       "    <tr>\n",
       "      <th>130</th>\n",
       "      <td>752007.0</td>\n",
       "      <td>7.340578e+05</td>\n",
       "    </tr>\n",
       "    <tr>\n",
       "      <th>142</th>\n",
       "      <td>1200769.0</td>\n",
       "      <td>1.125325e+06</td>\n",
       "    </tr>\n",
       "    <tr>\n",
       "      <th>89</th>\n",
       "      <td>1384873.0</td>\n",
       "      <td>1.438577e+06</td>\n",
       "    </tr>\n",
       "    <tr>\n",
       "      <th>10</th>\n",
       "      <td>846531.0</td>\n",
       "      <td>8.318746e+05</td>\n",
       "    </tr>\n",
       "    <tr>\n",
       "      <th>138</th>\n",
       "      <td>778067.0</td>\n",
       "      <td>7.280935e+05</td>\n",
       "    </tr>\n",
       "    <tr>\n",
       "      <th>50</th>\n",
       "      <td>1981817.0</td>\n",
       "      <td>1.806016e+06</td>\n",
       "    </tr>\n",
       "    <tr>\n",
       "      <th>101</th>\n",
       "      <td>744303.0</td>\n",
       "      <td>7.700557e+05</td>\n",
       "    </tr>\n",
       "    <tr>\n",
       "      <th>115</th>\n",
       "      <td>806166.0</td>\n",
       "      <td>8.221630e+05</td>\n",
       "    </tr>\n",
       "    <tr>\n",
       "      <th>31</th>\n",
       "      <td>855182.0</td>\n",
       "      <td>8.494677e+05</td>\n",
       "    </tr>\n",
       "    <tr>\n",
       "      <th>109</th>\n",
       "      <td>826523.0</td>\n",
       "      <td>7.809061e+05</td>\n",
       "    </tr>\n",
       "    <tr>\n",
       "      <th>22</th>\n",
       "      <td>935061.0</td>\n",
       "      <td>9.150727e+05</td>\n",
       "    </tr>\n",
       "    <tr>\n",
       "      <th>87</th>\n",
       "      <td>711591.0</td>\n",
       "      <td>6.856871e+05</td>\n",
       "    </tr>\n",
       "    <tr>\n",
       "      <th>121</th>\n",
       "      <td>720444.0</td>\n",
       "      <td>7.188380e+05</td>\n",
       "    </tr>\n",
       "    <tr>\n",
       "      <th>84</th>\n",
       "      <td>932622.0</td>\n",
       "      <td>9.275455e+05</td>\n",
       "    </tr>\n",
       "    <tr>\n",
       "      <th>69</th>\n",
       "      <td>1030856.0</td>\n",
       "      <td>9.563241e+05</td>\n",
       "    </tr>\n",
       "    <tr>\n",
       "      <th>54</th>\n",
       "      <td>736698.0</td>\n",
       "      <td>7.322621e+05</td>\n",
       "    </tr>\n",
       "    <tr>\n",
       "      <th>78</th>\n",
       "      <td>959473.0</td>\n",
       "      <td>9.682169e+05</td>\n",
       "    </tr>\n",
       "    <tr>\n",
       "      <th>151</th>\n",
       "      <td>700834.0</td>\n",
       "      <td>7.160959e+05</td>\n",
       "    </tr>\n",
       "    <tr>\n",
       "      <th>79</th>\n",
       "      <td>1162364.0</td>\n",
       "      <td>1.325949e+06</td>\n",
       "    </tr>\n",
       "  </tbody>\n",
       "</table>\n",
       "</div>"
      ],
      "text/plain": [
       "          Real      Previsto\n",
       "124   710341.0  7.070476e+05\n",
       "42    846146.0  8.261227e+05\n",
       "110   810599.0  8.147736e+05\n",
       "91    726430.0  7.476005e+05\n",
       "61    779768.0  7.483016e+05\n",
       "60    835491.0  7.792925e+05\n",
       "118  1596252.0  1.465142e+06\n",
       "86    754735.0  7.512559e+05\n",
       "140   752629.0  7.357194e+05\n",
       "6    1092081.0  9.510199e+05\n",
       "71    822849.0  8.583720e+05\n",
       "130   752007.0  7.340578e+05\n",
       "142  1200769.0  1.125325e+06\n",
       "89   1384873.0  1.438577e+06\n",
       "10    846531.0  8.318746e+05\n",
       "138   778067.0  7.280935e+05\n",
       "50   1981817.0  1.806016e+06\n",
       "101   744303.0  7.700557e+05\n",
       "115   806166.0  8.221630e+05\n",
       "31    855182.0  8.494677e+05\n",
       "109   826523.0  7.809061e+05\n",
       "22    935061.0  9.150727e+05\n",
       "87    711591.0  6.856871e+05\n",
       "121   720444.0  7.188380e+05\n",
       "84    932622.0  9.275455e+05\n",
       "69   1030856.0  9.563241e+05\n",
       "54    736698.0  7.322621e+05\n",
       "78    959473.0  9.682169e+05\n",
       "151   700834.0  7.160959e+05\n",
       "79   1162364.0  1.325949e+06"
      ]
     },
     "execution_count": 624,
     "metadata": {},
     "output_type": "execute_result"
    }
   ],
   "source": [
    "# Criação de um dataframe para comparação dos valores\n",
    "comp = pd.DataFrame({\"Real\":y_teste, \"Previsto\":y_pred})\n",
    "comp"
   ]
  },
  {
   "cell_type": "code",
   "execution_count": 625,
   "metadata": {},
   "outputs": [
    {
     "name": "stdout",
     "output_type": "stream",
     "text": [
      "Root Mean Squared Error:  64022.25218681822\n"
     ]
    }
   ],
   "source": [
    "# RMSE do modelo\n",
    "from sklearn import metrics\n",
    "mse = metrics.mean_squared_error(y_teste, y_pred)\n",
    "rmse = np.sqrt(mse)\n",
    "print(\"Root Mean Squared Error: \", rmse)"
   ]
  },
  {
   "cell_type": "code",
   "execution_count": 626,
   "metadata": {},
   "outputs": [
    {
     "data": {
      "text/html": [
       "<div>\n",
       "<style scoped>\n",
       "    .dataframe tbody tr th:only-of-type {\n",
       "        vertical-align: middle;\n",
       "    }\n",
       "\n",
       "    .dataframe tbody tr th {\n",
       "        vertical-align: top;\n",
       "    }\n",
       "\n",
       "    .dataframe thead th {\n",
       "        text-align: right;\n",
       "    }\n",
       "</style>\n",
       "<table border=\"1\" class=\"dataframe\">\n",
       "  <thead>\n",
       "    <tr style=\"text-align: right;\">\n",
       "      <th></th>\n",
       "      <th>Algoritmo</th>\n",
       "      <th>RMSE</th>\n",
       "      <th>Acc</th>\n",
       "    </tr>\n",
       "  </thead>\n",
       "  <tbody>\n",
       "    <tr>\n",
       "      <th>1</th>\n",
       "      <td>Random Forest</td>\n",
       "      <td>102100.706189</td>\n",
       "      <td>0.847906</td>\n",
       "    </tr>\n",
       "    <tr>\n",
       "      <th>2</th>\n",
       "      <td>Random Forest (PCA)</td>\n",
       "      <td>92118.562170</td>\n",
       "      <td>0.925805</td>\n",
       "    </tr>\n",
       "    <tr>\n",
       "      <th>3</th>\n",
       "      <td>Random Forest (K-Fold)</td>\n",
       "      <td>86986.410574</td>\n",
       "      <td>0.894496</td>\n",
       "    </tr>\n",
       "    <tr>\n",
       "      <th>4</th>\n",
       "      <td>Random Forest (K-Fold/PCA)</td>\n",
       "      <td>80818.392238</td>\n",
       "      <td>0.905688</td>\n",
       "    </tr>\n",
       "    <tr>\n",
       "      <th>5</th>\n",
       "      <td>Gradient Boosting</td>\n",
       "      <td>57218.906244</td>\n",
       "      <td>0.972440</td>\n",
       "    </tr>\n",
       "    <tr>\n",
       "      <th>6</th>\n",
       "      <td>Gradient Boosting (PCA)</td>\n",
       "      <td>64022.252187</td>\n",
       "      <td>0.949746</td>\n",
       "    </tr>\n",
       "  </tbody>\n",
       "</table>\n",
       "</div>"
      ],
      "text/plain": [
       "                    Algoritmo           RMSE       Acc\n",
       "1               Random Forest  102100.706189  0.847906\n",
       "2         Random Forest (PCA)   92118.562170  0.925805\n",
       "3      Random Forest (K-Fold)   86986.410574  0.894496\n",
       "4  Random Forest (K-Fold/PCA)   80818.392238  0.905688\n",
       "5           Gradient Boosting   57218.906244  0.972440\n",
       "6     Gradient Boosting (PCA)   64022.252187  0.949746"
      ]
     },
     "execution_count": 626,
     "metadata": {},
     "output_type": "execute_result"
    }
   ],
   "source": [
    "GB_PCA = pd.DataFrame({'Algoritmo': 'Gradient Boosting (PCA)', 'RMSE':rmse, 'Acc':modelo2.score(X_teste, y_teste) }, index = {'6'})\n",
    "resultados = pd.concat([resultados, GB_PCA])\n",
    "resultados"
   ]
  },
  {
   "cell_type": "markdown",
   "metadata": {},
   "source": [
    "#### Cross-Validation"
   ]
  },
  {
   "cell_type": "markdown",
   "metadata": {},
   "source": [
    "##### Modelo 1"
   ]
  },
  {
   "cell_type": "code",
   "execution_count": 627,
   "metadata": {},
   "outputs": [
    {
     "name": "stdout",
     "output_type": "stream",
     "text": [
      "Formato da base preditora:  (148, 18)\n",
      "Formato da base com o alvo:  (148,)\n"
     ]
    }
   ],
   "source": [
    "# Divisão entre variáveis preditoras e varíavel alvo\n",
    "X = base.drop('faturamento', axis = 1)\n",
    "y = base['faturamento']\n",
    "print(\"Formato da base preditora: \", X.shape)\n",
    "print(\"Formato da base com o alvo: \", y.shape)"
   ]
  },
  {
   "cell_type": "code",
   "execution_count": 628,
   "metadata": {},
   "outputs": [],
   "source": [
    "modelo1 = GradientBoostingRegressor()"
   ]
  },
  {
   "cell_type": "code",
   "execution_count": 629,
   "metadata": {},
   "outputs": [],
   "source": [
    "# Avaliando o modelo\n",
    "from sklearn.model_selection import cross_validate\n",
    "scoring = {'Error':'neg_root_mean_squared_error' ,'Accuracy':'r2'}\n",
    "cv = RepeatedKFold(n_splits=10, n_repeats=3, random_state=1)\n",
    "#n_scores1 = cross_val_score(modelo1, X, y, scoring='neg_root_mean_squared_error', cv=cv, n_jobs=-1, error_score='raise')\n",
    "n_scores = cross_validate(modelo1, X,y, scoring = scoring, cv = cv)"
   ]
  },
  {
   "cell_type": "code",
   "execution_count": 630,
   "metadata": {},
   "outputs": [
    {
     "data": {
      "text/html": [
       "<div>\n",
       "<style scoped>\n",
       "    .dataframe tbody tr th:only-of-type {\n",
       "        vertical-align: middle;\n",
       "    }\n",
       "\n",
       "    .dataframe tbody tr th {\n",
       "        vertical-align: top;\n",
       "    }\n",
       "\n",
       "    .dataframe thead th {\n",
       "        text-align: right;\n",
       "    }\n",
       "</style>\n",
       "<table border=\"1\" class=\"dataframe\">\n",
       "  <thead>\n",
       "    <tr style=\"text-align: right;\">\n",
       "      <th></th>\n",
       "      <th>Algoritmo</th>\n",
       "      <th>RMSE</th>\n",
       "      <th>Acc</th>\n",
       "    </tr>\n",
       "  </thead>\n",
       "  <tbody>\n",
       "    <tr>\n",
       "      <th>1</th>\n",
       "      <td>Random Forest</td>\n",
       "      <td>102100.706189</td>\n",
       "      <td>0.847906</td>\n",
       "    </tr>\n",
       "    <tr>\n",
       "      <th>2</th>\n",
       "      <td>Random Forest (PCA)</td>\n",
       "      <td>92118.562170</td>\n",
       "      <td>0.925805</td>\n",
       "    </tr>\n",
       "    <tr>\n",
       "      <th>3</th>\n",
       "      <td>Random Forest (K-Fold)</td>\n",
       "      <td>86986.410574</td>\n",
       "      <td>0.894496</td>\n",
       "    </tr>\n",
       "    <tr>\n",
       "      <th>4</th>\n",
       "      <td>Random Forest (K-Fold/PCA)</td>\n",
       "      <td>80818.392238</td>\n",
       "      <td>0.905688</td>\n",
       "    </tr>\n",
       "    <tr>\n",
       "      <th>5</th>\n",
       "      <td>Gradient Boosting</td>\n",
       "      <td>57218.906244</td>\n",
       "      <td>0.972440</td>\n",
       "    </tr>\n",
       "    <tr>\n",
       "      <th>6</th>\n",
       "      <td>Gradient Boosting (PCA)</td>\n",
       "      <td>64022.252187</td>\n",
       "      <td>0.949746</td>\n",
       "    </tr>\n",
       "    <tr>\n",
       "      <th>7</th>\n",
       "      <td>Gradient Boosting (K-Fold)</td>\n",
       "      <td>73373.646545</td>\n",
       "      <td>0.926522</td>\n",
       "    </tr>\n",
       "  </tbody>\n",
       "</table>\n",
       "</div>"
      ],
      "text/plain": [
       "                    Algoritmo           RMSE       Acc\n",
       "1               Random Forest  102100.706189  0.847906\n",
       "2         Random Forest (PCA)   92118.562170  0.925805\n",
       "3      Random Forest (K-Fold)   86986.410574  0.894496\n",
       "4  Random Forest (K-Fold/PCA)   80818.392238  0.905688\n",
       "5           Gradient Boosting   57218.906244  0.972440\n",
       "6     Gradient Boosting (PCA)   64022.252187  0.949746\n",
       "7  Gradient Boosting (K-Fold)   73373.646545  0.926522"
      ]
     },
     "execution_count": 630,
     "metadata": {},
     "output_type": "execute_result"
    }
   ],
   "source": [
    "GB_KFOLD = pd.DataFrame({'Algoritmo': 'Gradient Boosting (K-Fold)', 'RMSE':abs(np.mean(n_scores['test_Error'])), 'Acc': np.mean(n_scores['test_Accuracy'])}, index = {'7'})\n",
    "resultados = pd.concat([resultados, GB_KFOLD])\n",
    "resultados"
   ]
  },
  {
   "cell_type": "markdown",
   "metadata": {},
   "source": [
    "##### Modelo 2"
   ]
  },
  {
   "cell_type": "code",
   "execution_count": 631,
   "metadata": {},
   "outputs": [
    {
     "name": "stdout",
     "output_type": "stream",
     "text": [
      "Formato da base preditora:  (148, 18)\n",
      "Formato da base com o alvo:  (148,)\n"
     ]
    }
   ],
   "source": [
    "# Divisão entre variáveis preditoras e varíavel alvo\n",
    "X = base.drop('faturamento', axis = 1)\n",
    "y = base['faturamento']\n",
    "print(\"Formato da base preditora: \", X.shape)\n",
    "print(\"Formato da base com o alvo: \", y.shape)"
   ]
  },
  {
   "cell_type": "code",
   "execution_count": 632,
   "metadata": {},
   "outputs": [],
   "source": [
    "# Redução de dimensionalidade com o PCA\n",
    "from sklearn.decomposition import PCA\n",
    "pca = PCA(n_components = 9)\n",
    "X = pca.fit_transform(X)"
   ]
  },
  {
   "cell_type": "code",
   "execution_count": 633,
   "metadata": {},
   "outputs": [],
   "source": [
    "modelo2 = GradientBoostingRegressor()"
   ]
  },
  {
   "cell_type": "code",
   "execution_count": 634,
   "metadata": {},
   "outputs": [],
   "source": [
    "# Avaliando o modelo\n",
    "from sklearn.model_selection import cross_validate\n",
    "scoring = {'Error':'neg_root_mean_squared_error' ,'Accuracy':'r2'}\n",
    "cv = RepeatedKFold(n_splits=10, n_repeats=3, random_state=1)\n",
    "#n_scores1 = cross_val_score(modelo1, X, y, scoring='neg_root_mean_squared_error', cv=cv, n_jobs=-1, error_score='raise')\n",
    "n_scores = cross_validate(modelo2, X,y, scoring = scoring, cv = cv)"
   ]
  },
  {
   "cell_type": "code",
   "execution_count": 635,
   "metadata": {},
   "outputs": [
    {
     "data": {
      "text/html": [
       "<div>\n",
       "<style scoped>\n",
       "    .dataframe tbody tr th:only-of-type {\n",
       "        vertical-align: middle;\n",
       "    }\n",
       "\n",
       "    .dataframe tbody tr th {\n",
       "        vertical-align: top;\n",
       "    }\n",
       "\n",
       "    .dataframe thead th {\n",
       "        text-align: right;\n",
       "    }\n",
       "</style>\n",
       "<table border=\"1\" class=\"dataframe\">\n",
       "  <thead>\n",
       "    <tr style=\"text-align: right;\">\n",
       "      <th></th>\n",
       "      <th>Algoritmo</th>\n",
       "      <th>RMSE</th>\n",
       "      <th>Acc</th>\n",
       "    </tr>\n",
       "  </thead>\n",
       "  <tbody>\n",
       "    <tr>\n",
       "      <th>1</th>\n",
       "      <td>Random Forest</td>\n",
       "      <td>102100.706189</td>\n",
       "      <td>0.847906</td>\n",
       "    </tr>\n",
       "    <tr>\n",
       "      <th>2</th>\n",
       "      <td>Random Forest (PCA)</td>\n",
       "      <td>92118.562170</td>\n",
       "      <td>0.925805</td>\n",
       "    </tr>\n",
       "    <tr>\n",
       "      <th>3</th>\n",
       "      <td>Random Forest (K-Fold)</td>\n",
       "      <td>86986.410574</td>\n",
       "      <td>0.894496</td>\n",
       "    </tr>\n",
       "    <tr>\n",
       "      <th>4</th>\n",
       "      <td>Random Forest (K-Fold/PCA)</td>\n",
       "      <td>80818.392238</td>\n",
       "      <td>0.905688</td>\n",
       "    </tr>\n",
       "    <tr>\n",
       "      <th>5</th>\n",
       "      <td>Gradient Boosting</td>\n",
       "      <td>57218.906244</td>\n",
       "      <td>0.972440</td>\n",
       "    </tr>\n",
       "    <tr>\n",
       "      <th>6</th>\n",
       "      <td>Gradient Boosting (PCA)</td>\n",
       "      <td>64022.252187</td>\n",
       "      <td>0.949746</td>\n",
       "    </tr>\n",
       "    <tr>\n",
       "      <th>7</th>\n",
       "      <td>Gradient Boosting (K-Fold)</td>\n",
       "      <td>73373.646545</td>\n",
       "      <td>0.926522</td>\n",
       "    </tr>\n",
       "    <tr>\n",
       "      <th>8</th>\n",
       "      <td>Gradient Boosting (K-Fold/PCA)</td>\n",
       "      <td>63930.084863</td>\n",
       "      <td>0.940646</td>\n",
       "    </tr>\n",
       "  </tbody>\n",
       "</table>\n",
       "</div>"
      ],
      "text/plain": [
       "                        Algoritmo           RMSE       Acc\n",
       "1                   Random Forest  102100.706189  0.847906\n",
       "2             Random Forest (PCA)   92118.562170  0.925805\n",
       "3          Random Forest (K-Fold)   86986.410574  0.894496\n",
       "4      Random Forest (K-Fold/PCA)   80818.392238  0.905688\n",
       "5               Gradient Boosting   57218.906244  0.972440\n",
       "6         Gradient Boosting (PCA)   64022.252187  0.949746\n",
       "7      Gradient Boosting (K-Fold)   73373.646545  0.926522\n",
       "8  Gradient Boosting (K-Fold/PCA)   63930.084863  0.940646"
      ]
     },
     "execution_count": 635,
     "metadata": {},
     "output_type": "execute_result"
    }
   ],
   "source": [
    "GB_KFOLD_PCA = pd.DataFrame({'Algoritmo': 'Gradient Boosting (K-Fold/PCA)', 'RMSE':abs(np.mean(n_scores['test_Error'])), 'Acc': np.mean(n_scores['test_Accuracy'])}, index = {'8'})\n",
    "resultados = pd.concat([resultados, GB_KFOLD_PCA])\n",
    "resultados"
   ]
  },
  {
   "cell_type": "markdown",
   "metadata": {},
   "source": [
    "### Ada Boosting Regressor"
   ]
  },
  {
   "cell_type": "markdown",
   "metadata": {},
   "source": [
    "#### Divisão em treino e teste"
   ]
  },
  {
   "cell_type": "markdown",
   "metadata": {},
   "source": [
    "##### Modelo 1"
   ]
  },
  {
   "cell_type": "code",
   "execution_count": 636,
   "metadata": {},
   "outputs": [],
   "source": [
    "from sklearn.ensemble import AdaBoostRegressor"
   ]
  },
  {
   "cell_type": "code",
   "execution_count": 637,
   "metadata": {},
   "outputs": [
    {
     "name": "stdout",
     "output_type": "stream",
     "text": [
      "Formato da base preditora:  (148, 18)\n",
      "Formato da base com o alvo:  (148,)\n"
     ]
    }
   ],
   "source": [
    "# Divisão entre variáveis preditoras e varíavel alvo\n",
    "X = base.drop('faturamento', axis = 1)\n",
    "y = base['faturamento']\n",
    "print(\"Formato da base preditora: \", X.shape)\n",
    "print(\"Formato da base com o alvo: \", y.shape)"
   ]
  },
  {
   "cell_type": "code",
   "execution_count": 638,
   "metadata": {},
   "outputs": [],
   "source": [
    "# Divisão entre treino (80% da base) e teste (20% da base)\n",
    "from sklearn.model_selection import train_test_split\n",
    "X_treino, X_teste, y_treino, y_teste = train_test_split(X, y, test_size = 0.2)"
   ]
  },
  {
   "cell_type": "code",
   "execution_count": 639,
   "metadata": {},
   "outputs": [
    {
     "data": {
      "text/plain": [
       "AdaBoostRegressor(base_estimator=None, learning_rate=1.0, loss='linear',\n",
       "                  n_estimators=50, random_state=None)"
      ]
     },
     "execution_count": 639,
     "metadata": {},
     "output_type": "execute_result"
    }
   ],
   "source": [
    "# Criação do modelo e ajuste aos dados\n",
    "modelo1 = AdaBoostRegressor()\n",
    "modelo1.fit(X_treino, y_treino)"
   ]
  },
  {
   "cell_type": "code",
   "execution_count": 640,
   "metadata": {},
   "outputs": [],
   "source": [
    "# Previsão\n",
    "y_pred = modelo1.predict(X_teste)"
   ]
  },
  {
   "cell_type": "code",
   "execution_count": 641,
   "metadata": {},
   "outputs": [
    {
     "data": {
      "text/plain": [
       "0.9651774403553008"
      ]
     },
     "execution_count": 641,
     "metadata": {},
     "output_type": "execute_result"
    }
   ],
   "source": [
    "modelo1.score(X_treino, y_treino)"
   ]
  },
  {
   "cell_type": "code",
   "execution_count": 642,
   "metadata": {},
   "outputs": [
    {
     "data": {
      "text/plain": [
       "0.9061472586858423"
      ]
     },
     "execution_count": 642,
     "metadata": {},
     "output_type": "execute_result"
    }
   ],
   "source": [
    "modelo1.score(X_teste, y_teste)"
   ]
  },
  {
   "cell_type": "code",
   "execution_count": 643,
   "metadata": {},
   "outputs": [
    {
     "data": {
      "text/html": [
       "<div>\n",
       "<style scoped>\n",
       "    .dataframe tbody tr th:only-of-type {\n",
       "        vertical-align: middle;\n",
       "    }\n",
       "\n",
       "    .dataframe tbody tr th {\n",
       "        vertical-align: top;\n",
       "    }\n",
       "\n",
       "    .dataframe thead th {\n",
       "        text-align: right;\n",
       "    }\n",
       "</style>\n",
       "<table border=\"1\" class=\"dataframe\">\n",
       "  <thead>\n",
       "    <tr style=\"text-align: right;\">\n",
       "      <th></th>\n",
       "      <th>Real</th>\n",
       "      <th>Previsto</th>\n",
       "    </tr>\n",
       "  </thead>\n",
       "  <tbody>\n",
       "    <tr>\n",
       "      <th>66</th>\n",
       "      <td>688001.0</td>\n",
       "      <td>5.704730e+05</td>\n",
       "    </tr>\n",
       "    <tr>\n",
       "      <th>102</th>\n",
       "      <td>789315.0</td>\n",
       "      <td>7.734616e+05</td>\n",
       "    </tr>\n",
       "    <tr>\n",
       "      <th>113</th>\n",
       "      <td>848230.0</td>\n",
       "      <td>7.040169e+05</td>\n",
       "    </tr>\n",
       "    <tr>\n",
       "      <th>5</th>\n",
       "      <td>1204467.0</td>\n",
       "      <td>1.281119e+06</td>\n",
       "    </tr>\n",
       "    <tr>\n",
       "      <th>144</th>\n",
       "      <td>798206.0</td>\n",
       "      <td>7.734616e+05</td>\n",
       "    </tr>\n",
       "    <tr>\n",
       "      <th>101</th>\n",
       "      <td>744303.0</td>\n",
       "      <td>7.628622e+05</td>\n",
       "    </tr>\n",
       "    <tr>\n",
       "      <th>111</th>\n",
       "      <td>950834.0</td>\n",
       "      <td>8.595699e+05</td>\n",
       "    </tr>\n",
       "    <tr>\n",
       "      <th>29</th>\n",
       "      <td>488021.0</td>\n",
       "      <td>6.302014e+05</td>\n",
       "    </tr>\n",
       "    <tr>\n",
       "      <th>81</th>\n",
       "      <td>1762798.0</td>\n",
       "      <td>1.515177e+06</td>\n",
       "    </tr>\n",
       "    <tr>\n",
       "      <th>137</th>\n",
       "      <td>450723.0</td>\n",
       "      <td>4.921280e+05</td>\n",
       "    </tr>\n",
       "    <tr>\n",
       "      <th>150</th>\n",
       "      <td>738591.0</td>\n",
       "      <td>6.934371e+05</td>\n",
       "    </tr>\n",
       "    <tr>\n",
       "      <th>2</th>\n",
       "      <td>874200.0</td>\n",
       "      <td>8.886421e+05</td>\n",
       "    </tr>\n",
       "    <tr>\n",
       "      <th>30</th>\n",
       "      <td>837355.0</td>\n",
       "      <td>8.349784e+05</td>\n",
       "    </tr>\n",
       "    <tr>\n",
       "      <th>105</th>\n",
       "      <td>832018.0</td>\n",
       "      <td>7.912081e+05</td>\n",
       "    </tr>\n",
       "    <tr>\n",
       "      <th>149</th>\n",
       "      <td>797801.0</td>\n",
       "      <td>7.734616e+05</td>\n",
       "    </tr>\n",
       "    <tr>\n",
       "      <th>104</th>\n",
       "      <td>1121587.0</td>\n",
       "      <td>1.127655e+06</td>\n",
       "    </tr>\n",
       "    <tr>\n",
       "      <th>57</th>\n",
       "      <td>757466.0</td>\n",
       "      <td>7.912081e+05</td>\n",
       "    </tr>\n",
       "    <tr>\n",
       "      <th>56</th>\n",
       "      <td>1430429.0</td>\n",
       "      <td>1.264061e+06</td>\n",
       "    </tr>\n",
       "    <tr>\n",
       "      <th>33</th>\n",
       "      <td>702967.0</td>\n",
       "      <td>7.006080e+05</td>\n",
       "    </tr>\n",
       "    <tr>\n",
       "      <th>135</th>\n",
       "      <td>197681.0</td>\n",
       "      <td>1.523397e+05</td>\n",
       "    </tr>\n",
       "    <tr>\n",
       "      <th>125</th>\n",
       "      <td>59273.0</td>\n",
       "      <td>3.434034e+05</td>\n",
       "    </tr>\n",
       "    <tr>\n",
       "      <th>40</th>\n",
       "      <td>607957.0</td>\n",
       "      <td>6.671832e+05</td>\n",
       "    </tr>\n",
       "    <tr>\n",
       "      <th>151</th>\n",
       "      <td>700834.0</td>\n",
       "      <td>7.912081e+05</td>\n",
       "    </tr>\n",
       "    <tr>\n",
       "      <th>35</th>\n",
       "      <td>88790.0</td>\n",
       "      <td>3.240301e+05</td>\n",
       "    </tr>\n",
       "    <tr>\n",
       "      <th>48</th>\n",
       "      <td>932007.0</td>\n",
       "      <td>9.479561e+05</td>\n",
       "    </tr>\n",
       "    <tr>\n",
       "      <th>11</th>\n",
       "      <td>746904.0</td>\n",
       "      <td>7.628622e+05</td>\n",
       "    </tr>\n",
       "    <tr>\n",
       "      <th>25</th>\n",
       "      <td>1073403.0</td>\n",
       "      <td>1.158033e+06</td>\n",
       "    </tr>\n",
       "    <tr>\n",
       "      <th>86</th>\n",
       "      <td>754735.0</td>\n",
       "      <td>7.628622e+05</td>\n",
       "    </tr>\n",
       "    <tr>\n",
       "      <th>139</th>\n",
       "      <td>1014058.0</td>\n",
       "      <td>1.100281e+06</td>\n",
       "    </tr>\n",
       "    <tr>\n",
       "      <th>38</th>\n",
       "      <td>1041359.0</td>\n",
       "      <td>1.017028e+06</td>\n",
       "    </tr>\n",
       "  </tbody>\n",
       "</table>\n",
       "</div>"
      ],
      "text/plain": [
       "          Real      Previsto\n",
       "66    688001.0  5.704730e+05\n",
       "102   789315.0  7.734616e+05\n",
       "113   848230.0  7.040169e+05\n",
       "5    1204467.0  1.281119e+06\n",
       "144   798206.0  7.734616e+05\n",
       "101   744303.0  7.628622e+05\n",
       "111   950834.0  8.595699e+05\n",
       "29    488021.0  6.302014e+05\n",
       "81   1762798.0  1.515177e+06\n",
       "137   450723.0  4.921280e+05\n",
       "150   738591.0  6.934371e+05\n",
       "2     874200.0  8.886421e+05\n",
       "30    837355.0  8.349784e+05\n",
       "105   832018.0  7.912081e+05\n",
       "149   797801.0  7.734616e+05\n",
       "104  1121587.0  1.127655e+06\n",
       "57    757466.0  7.912081e+05\n",
       "56   1430429.0  1.264061e+06\n",
       "33    702967.0  7.006080e+05\n",
       "135   197681.0  1.523397e+05\n",
       "125    59273.0  3.434034e+05\n",
       "40    607957.0  6.671832e+05\n",
       "151   700834.0  7.912081e+05\n",
       "35     88790.0  3.240301e+05\n",
       "48    932007.0  9.479561e+05\n",
       "11    746904.0  7.628622e+05\n",
       "25   1073403.0  1.158033e+06\n",
       "86    754735.0  7.628622e+05\n",
       "139  1014058.0  1.100281e+06\n",
       "38   1041359.0  1.017028e+06"
      ]
     },
     "execution_count": 643,
     "metadata": {},
     "output_type": "execute_result"
    }
   ],
   "source": [
    "# Criação de um dataframe para comparação dos valores\n",
    "comp = pd.DataFrame({\"Real\":y_teste, \"Previsto\":y_pred})\n",
    "comp"
   ]
  },
  {
   "cell_type": "code",
   "execution_count": 644,
   "metadata": {},
   "outputs": [
    {
     "name": "stdout",
     "output_type": "stream",
     "text": [
      "Root Mean Squared Error:  105230.12704674795\n"
     ]
    }
   ],
   "source": [
    "# RMSE do modelo\n",
    "from sklearn import metrics\n",
    "mse = metrics.mean_squared_error(y_teste, y_pred)\n",
    "rmse = np.sqrt(mse)\n",
    "print(\"Root Mean Squared Error: \", rmse)"
   ]
  },
  {
   "cell_type": "code",
   "execution_count": 645,
   "metadata": {},
   "outputs": [
    {
     "data": {
      "text/html": [
       "<div>\n",
       "<style scoped>\n",
       "    .dataframe tbody tr th:only-of-type {\n",
       "        vertical-align: middle;\n",
       "    }\n",
       "\n",
       "    .dataframe tbody tr th {\n",
       "        vertical-align: top;\n",
       "    }\n",
       "\n",
       "    .dataframe thead th {\n",
       "        text-align: right;\n",
       "    }\n",
       "</style>\n",
       "<table border=\"1\" class=\"dataframe\">\n",
       "  <thead>\n",
       "    <tr style=\"text-align: right;\">\n",
       "      <th></th>\n",
       "      <th>Algoritmo</th>\n",
       "      <th>RMSE</th>\n",
       "      <th>Acc</th>\n",
       "    </tr>\n",
       "  </thead>\n",
       "  <tbody>\n",
       "    <tr>\n",
       "      <th>1</th>\n",
       "      <td>Random Forest</td>\n",
       "      <td>102100.706189</td>\n",
       "      <td>0.847906</td>\n",
       "    </tr>\n",
       "    <tr>\n",
       "      <th>2</th>\n",
       "      <td>Random Forest (PCA)</td>\n",
       "      <td>92118.562170</td>\n",
       "      <td>0.925805</td>\n",
       "    </tr>\n",
       "    <tr>\n",
       "      <th>3</th>\n",
       "      <td>Random Forest (K-Fold)</td>\n",
       "      <td>86986.410574</td>\n",
       "      <td>0.894496</td>\n",
       "    </tr>\n",
       "    <tr>\n",
       "      <th>4</th>\n",
       "      <td>Random Forest (K-Fold/PCA)</td>\n",
       "      <td>80818.392238</td>\n",
       "      <td>0.905688</td>\n",
       "    </tr>\n",
       "    <tr>\n",
       "      <th>5</th>\n",
       "      <td>Gradient Boosting</td>\n",
       "      <td>57218.906244</td>\n",
       "      <td>0.972440</td>\n",
       "    </tr>\n",
       "    <tr>\n",
       "      <th>6</th>\n",
       "      <td>Gradient Boosting (PCA)</td>\n",
       "      <td>64022.252187</td>\n",
       "      <td>0.949746</td>\n",
       "    </tr>\n",
       "    <tr>\n",
       "      <th>7</th>\n",
       "      <td>Gradient Boosting (K-Fold)</td>\n",
       "      <td>73373.646545</td>\n",
       "      <td>0.926522</td>\n",
       "    </tr>\n",
       "    <tr>\n",
       "      <th>8</th>\n",
       "      <td>Gradient Boosting (K-Fold/PCA)</td>\n",
       "      <td>63930.084863</td>\n",
       "      <td>0.940646</td>\n",
       "    </tr>\n",
       "    <tr>\n",
       "      <th>9</th>\n",
       "      <td>Ada Boosting</td>\n",
       "      <td>105230.127047</td>\n",
       "      <td>0.906147</td>\n",
       "    </tr>\n",
       "  </tbody>\n",
       "</table>\n",
       "</div>"
      ],
      "text/plain": [
       "                        Algoritmo           RMSE       Acc\n",
       "1                   Random Forest  102100.706189  0.847906\n",
       "2             Random Forest (PCA)   92118.562170  0.925805\n",
       "3          Random Forest (K-Fold)   86986.410574  0.894496\n",
       "4      Random Forest (K-Fold/PCA)   80818.392238  0.905688\n",
       "5               Gradient Boosting   57218.906244  0.972440\n",
       "6         Gradient Boosting (PCA)   64022.252187  0.949746\n",
       "7      Gradient Boosting (K-Fold)   73373.646545  0.926522\n",
       "8  Gradient Boosting (K-Fold/PCA)   63930.084863  0.940646\n",
       "9                    Ada Boosting  105230.127047  0.906147"
      ]
     },
     "execution_count": 645,
     "metadata": {},
     "output_type": "execute_result"
    }
   ],
   "source": [
    "AB = pd.DataFrame({'Algoritmo': 'Ada Boosting', 'RMSE':rmse,'Acc':modelo1.score(X_teste, y_teste)}, index = {'9'})\n",
    "resultados = pd.concat([resultados, AB])\n",
    "resultados"
   ]
  },
  {
   "cell_type": "markdown",
   "metadata": {},
   "source": [
    "##### Modelo 2"
   ]
  },
  {
   "cell_type": "code",
   "execution_count": 646,
   "metadata": {},
   "outputs": [
    {
     "name": "stdout",
     "output_type": "stream",
     "text": [
      "Formato da base preditora:  (148, 18)\n",
      "Formato da base com o alvo:  (148,)\n"
     ]
    }
   ],
   "source": [
    "# Divisão entre variáveis preditoras e varíavel alvo\n",
    "X = base.drop('faturamento', axis = 1)\n",
    "y = base['faturamento']\n",
    "print(\"Formato da base preditora: \", X.shape)\n",
    "print(\"Formato da base com o alvo: \", y.shape)"
   ]
  },
  {
   "cell_type": "code",
   "execution_count": 647,
   "metadata": {},
   "outputs": [],
   "source": [
    "# Redução de dimensionalidade com o PCA\n",
    "from sklearn.decomposition import PCA\n",
    "pca = PCA(n_components = 9)\n",
    "X = pca.fit_transform(X)"
   ]
  },
  {
   "cell_type": "code",
   "execution_count": 648,
   "metadata": {},
   "outputs": [],
   "source": [
    "# Divisão entre treino (80% da base) e teste (20% da base)\n",
    "from sklearn.model_selection import train_test_split\n",
    "X_treino, X_teste, y_treino, y_teste = train_test_split(X, y, test_size = 0.2)"
   ]
  },
  {
   "cell_type": "code",
   "execution_count": 649,
   "metadata": {},
   "outputs": [
    {
     "data": {
      "text/plain": [
       "AdaBoostRegressor(base_estimator=None, learning_rate=1.0, loss='linear',\n",
       "                  n_estimators=50, random_state=None)"
      ]
     },
     "execution_count": 649,
     "metadata": {},
     "output_type": "execute_result"
    }
   ],
   "source": [
    "# Criação do modelo e ajuste aos dados\n",
    "modelo2 = AdaBoostRegressor()\n",
    "modelo2.fit(X_treino, y_treino)"
   ]
  },
  {
   "cell_type": "code",
   "execution_count": 650,
   "metadata": {},
   "outputs": [],
   "source": [
    "# Previsão\n",
    "y_pred = modelo2.predict(X_teste)"
   ]
  },
  {
   "cell_type": "code",
   "execution_count": 651,
   "metadata": {},
   "outputs": [
    {
     "data": {
      "text/plain": [
       "0.9663370146123529"
      ]
     },
     "execution_count": 651,
     "metadata": {},
     "output_type": "execute_result"
    }
   ],
   "source": [
    "modelo2.score(X_treino, y_treino)"
   ]
  },
  {
   "cell_type": "code",
   "execution_count": 652,
   "metadata": {},
   "outputs": [
    {
     "data": {
      "text/plain": [
       "0.8989913951679089"
      ]
     },
     "execution_count": 652,
     "metadata": {},
     "output_type": "execute_result"
    }
   ],
   "source": [
    "modelo2.score(X_teste, y_teste)"
   ]
  },
  {
   "cell_type": "code",
   "execution_count": 653,
   "metadata": {},
   "outputs": [
    {
     "data": {
      "text/html": [
       "<div>\n",
       "<style scoped>\n",
       "    .dataframe tbody tr th:only-of-type {\n",
       "        vertical-align: middle;\n",
       "    }\n",
       "\n",
       "    .dataframe tbody tr th {\n",
       "        vertical-align: top;\n",
       "    }\n",
       "\n",
       "    .dataframe thead th {\n",
       "        text-align: right;\n",
       "    }\n",
       "</style>\n",
       "<table border=\"1\" class=\"dataframe\">\n",
       "  <thead>\n",
       "    <tr style=\"text-align: right;\">\n",
       "      <th></th>\n",
       "      <th>Real</th>\n",
       "      <th>Previsto</th>\n",
       "    </tr>\n",
       "  </thead>\n",
       "  <tbody>\n",
       "    <tr>\n",
       "      <th>66</th>\n",
       "      <td>688001.0</td>\n",
       "      <td>7.394389e+05</td>\n",
       "    </tr>\n",
       "    <tr>\n",
       "      <th>130</th>\n",
       "      <td>752007.0</td>\n",
       "      <td>7.645476e+05</td>\n",
       "    </tr>\n",
       "    <tr>\n",
       "      <th>129</th>\n",
       "      <td>536367.0</td>\n",
       "      <td>6.797909e+05</td>\n",
       "    </tr>\n",
       "    <tr>\n",
       "      <th>6</th>\n",
       "      <td>1092081.0</td>\n",
       "      <td>9.018728e+05</td>\n",
       "    </tr>\n",
       "    <tr>\n",
       "      <th>112</th>\n",
       "      <td>1005886.0</td>\n",
       "      <td>9.550386e+05</td>\n",
       "    </tr>\n",
       "    <tr>\n",
       "      <th>134</th>\n",
       "      <td>828677.0</td>\n",
       "      <td>7.645476e+05</td>\n",
       "    </tr>\n",
       "    <tr>\n",
       "      <th>40</th>\n",
       "      <td>607957.0</td>\n",
       "      <td>5.225977e+05</td>\n",
       "    </tr>\n",
       "    <tr>\n",
       "      <th>63</th>\n",
       "      <td>897049.0</td>\n",
       "      <td>8.620361e+05</td>\n",
       "    </tr>\n",
       "    <tr>\n",
       "      <th>100</th>\n",
       "      <td>630075.0</td>\n",
       "      <td>7.138460e+05</td>\n",
       "    </tr>\n",
       "    <tr>\n",
       "      <th>25</th>\n",
       "      <td>1073403.0</td>\n",
       "      <td>1.145776e+06</td>\n",
       "    </tr>\n",
       "    <tr>\n",
       "      <th>102</th>\n",
       "      <td>789315.0</td>\n",
       "      <td>7.645476e+05</td>\n",
       "    </tr>\n",
       "    <tr>\n",
       "      <th>13</th>\n",
       "      <td>856901.0</td>\n",
       "      <td>8.751946e+05</td>\n",
       "    </tr>\n",
       "    <tr>\n",
       "      <th>124</th>\n",
       "      <td>710341.0</td>\n",
       "      <td>7.467423e+05</td>\n",
       "    </tr>\n",
       "    <tr>\n",
       "      <th>143</th>\n",
       "      <td>722040.0</td>\n",
       "      <td>7.645476e+05</td>\n",
       "    </tr>\n",
       "    <tr>\n",
       "      <th>65</th>\n",
       "      <td>1289705.0</td>\n",
       "      <td>1.223368e+06</td>\n",
       "    </tr>\n",
       "    <tr>\n",
       "      <th>154</th>\n",
       "      <td>1528242.0</td>\n",
       "      <td>1.571070e+06</td>\n",
       "    </tr>\n",
       "    <tr>\n",
       "      <th>148</th>\n",
       "      <td>767430.0</td>\n",
       "      <td>7.645476e+05</td>\n",
       "    </tr>\n",
       "    <tr>\n",
       "      <th>28</th>\n",
       "      <td>825608.0</td>\n",
       "      <td>9.547313e+05</td>\n",
       "    </tr>\n",
       "    <tr>\n",
       "      <th>104</th>\n",
       "      <td>1121587.0</td>\n",
       "      <td>9.340650e+05</td>\n",
       "    </tr>\n",
       "    <tr>\n",
       "      <th>149</th>\n",
       "      <td>797801.0</td>\n",
       "      <td>7.714388e+05</td>\n",
       "    </tr>\n",
       "    <tr>\n",
       "      <th>128</th>\n",
       "      <td>703465.0</td>\n",
       "      <td>8.225699e+05</td>\n",
       "    </tr>\n",
       "    <tr>\n",
       "      <th>0</th>\n",
       "      <td>932515.0</td>\n",
       "      <td>8.723206e+05</td>\n",
       "    </tr>\n",
       "    <tr>\n",
       "      <th>39</th>\n",
       "      <td>219983.0</td>\n",
       "      <td>2.564107e+05</td>\n",
       "    </tr>\n",
       "    <tr>\n",
       "      <th>26</th>\n",
       "      <td>791170.0</td>\n",
       "      <td>8.696071e+05</td>\n",
       "    </tr>\n",
       "    <tr>\n",
       "      <th>153</th>\n",
       "      <td>1100481.0</td>\n",
       "      <td>9.550386e+05</td>\n",
       "    </tr>\n",
       "    <tr>\n",
       "      <th>46</th>\n",
       "      <td>805559.0</td>\n",
       "      <td>7.583712e+05</td>\n",
       "    </tr>\n",
       "    <tr>\n",
       "      <th>81</th>\n",
       "      <td>1762798.0</td>\n",
       "      <td>1.626856e+06</td>\n",
       "    </tr>\n",
       "    <tr>\n",
       "      <th>77</th>\n",
       "      <td>1448872.0</td>\n",
       "      <td>1.223368e+06</td>\n",
       "    </tr>\n",
       "    <tr>\n",
       "      <th>89</th>\n",
       "      <td>1384873.0</td>\n",
       "      <td>1.229469e+06</td>\n",
       "    </tr>\n",
       "    <tr>\n",
       "      <th>94</th>\n",
       "      <td>978197.0</td>\n",
       "      <td>8.795646e+05</td>\n",
       "    </tr>\n",
       "  </tbody>\n",
       "</table>\n",
       "</div>"
      ],
      "text/plain": [
       "          Real      Previsto\n",
       "66    688001.0  7.394389e+05\n",
       "130   752007.0  7.645476e+05\n",
       "129   536367.0  6.797909e+05\n",
       "6    1092081.0  9.018728e+05\n",
       "112  1005886.0  9.550386e+05\n",
       "134   828677.0  7.645476e+05\n",
       "40    607957.0  5.225977e+05\n",
       "63    897049.0  8.620361e+05\n",
       "100   630075.0  7.138460e+05\n",
       "25   1073403.0  1.145776e+06\n",
       "102   789315.0  7.645476e+05\n",
       "13    856901.0  8.751946e+05\n",
       "124   710341.0  7.467423e+05\n",
       "143   722040.0  7.645476e+05\n",
       "65   1289705.0  1.223368e+06\n",
       "154  1528242.0  1.571070e+06\n",
       "148   767430.0  7.645476e+05\n",
       "28    825608.0  9.547313e+05\n",
       "104  1121587.0  9.340650e+05\n",
       "149   797801.0  7.714388e+05\n",
       "128   703465.0  8.225699e+05\n",
       "0     932515.0  8.723206e+05\n",
       "39    219983.0  2.564107e+05\n",
       "26    791170.0  8.696071e+05\n",
       "153  1100481.0  9.550386e+05\n",
       "46    805559.0  7.583712e+05\n",
       "81   1762798.0  1.626856e+06\n",
       "77   1448872.0  1.223368e+06\n",
       "89   1384873.0  1.229469e+06\n",
       "94    978197.0  8.795646e+05"
      ]
     },
     "execution_count": 653,
     "metadata": {},
     "output_type": "execute_result"
    }
   ],
   "source": [
    "# Criação de um dataframe para comparação dos valores\n",
    "comp = pd.DataFrame({\"Real\":y_teste, \"Previsto\":y_pred})\n",
    "comp"
   ]
  },
  {
   "cell_type": "code",
   "execution_count": 654,
   "metadata": {},
   "outputs": [
    {
     "name": "stdout",
     "output_type": "stream",
     "text": [
      "Root Mean Squared Error:  100291.788047833\n"
     ]
    }
   ],
   "source": [
    "# RMSE do modelo\n",
    "from sklearn import metrics\n",
    "mse = metrics.mean_squared_error(y_teste, y_pred)\n",
    "rmse = np.sqrt(mse)\n",
    "print(\"Root Mean Squared Error: \", rmse)"
   ]
  },
  {
   "cell_type": "code",
   "execution_count": 655,
   "metadata": {},
   "outputs": [
    {
     "data": {
      "text/html": [
       "<div>\n",
       "<style scoped>\n",
       "    .dataframe tbody tr th:only-of-type {\n",
       "        vertical-align: middle;\n",
       "    }\n",
       "\n",
       "    .dataframe tbody tr th {\n",
       "        vertical-align: top;\n",
       "    }\n",
       "\n",
       "    .dataframe thead th {\n",
       "        text-align: right;\n",
       "    }\n",
       "</style>\n",
       "<table border=\"1\" class=\"dataframe\">\n",
       "  <thead>\n",
       "    <tr style=\"text-align: right;\">\n",
       "      <th></th>\n",
       "      <th>Algoritmo</th>\n",
       "      <th>RMSE</th>\n",
       "      <th>Acc</th>\n",
       "    </tr>\n",
       "  </thead>\n",
       "  <tbody>\n",
       "    <tr>\n",
       "      <th>1</th>\n",
       "      <td>Random Forest</td>\n",
       "      <td>102100.706189</td>\n",
       "      <td>0.847906</td>\n",
       "    </tr>\n",
       "    <tr>\n",
       "      <th>2</th>\n",
       "      <td>Random Forest (PCA)</td>\n",
       "      <td>92118.562170</td>\n",
       "      <td>0.925805</td>\n",
       "    </tr>\n",
       "    <tr>\n",
       "      <th>3</th>\n",
       "      <td>Random Forest (K-Fold)</td>\n",
       "      <td>86986.410574</td>\n",
       "      <td>0.894496</td>\n",
       "    </tr>\n",
       "    <tr>\n",
       "      <th>4</th>\n",
       "      <td>Random Forest (K-Fold/PCA)</td>\n",
       "      <td>80818.392238</td>\n",
       "      <td>0.905688</td>\n",
       "    </tr>\n",
       "    <tr>\n",
       "      <th>5</th>\n",
       "      <td>Gradient Boosting</td>\n",
       "      <td>57218.906244</td>\n",
       "      <td>0.972440</td>\n",
       "    </tr>\n",
       "    <tr>\n",
       "      <th>6</th>\n",
       "      <td>Gradient Boosting (PCA)</td>\n",
       "      <td>64022.252187</td>\n",
       "      <td>0.949746</td>\n",
       "    </tr>\n",
       "    <tr>\n",
       "      <th>7</th>\n",
       "      <td>Gradient Boosting (K-Fold)</td>\n",
       "      <td>73373.646545</td>\n",
       "      <td>0.926522</td>\n",
       "    </tr>\n",
       "    <tr>\n",
       "      <th>8</th>\n",
       "      <td>Gradient Boosting (K-Fold/PCA)</td>\n",
       "      <td>63930.084863</td>\n",
       "      <td>0.940646</td>\n",
       "    </tr>\n",
       "    <tr>\n",
       "      <th>9</th>\n",
       "      <td>Ada Boosting</td>\n",
       "      <td>105230.127047</td>\n",
       "      <td>0.906147</td>\n",
       "    </tr>\n",
       "    <tr>\n",
       "      <th>10</th>\n",
       "      <td>Ada Boosting (PCA)</td>\n",
       "      <td>100291.788048</td>\n",
       "      <td>0.898991</td>\n",
       "    </tr>\n",
       "  </tbody>\n",
       "</table>\n",
       "</div>"
      ],
      "text/plain": [
       "                         Algoritmo           RMSE       Acc\n",
       "1                    Random Forest  102100.706189  0.847906\n",
       "2              Random Forest (PCA)   92118.562170  0.925805\n",
       "3           Random Forest (K-Fold)   86986.410574  0.894496\n",
       "4       Random Forest (K-Fold/PCA)   80818.392238  0.905688\n",
       "5                Gradient Boosting   57218.906244  0.972440\n",
       "6          Gradient Boosting (PCA)   64022.252187  0.949746\n",
       "7       Gradient Boosting (K-Fold)   73373.646545  0.926522\n",
       "8   Gradient Boosting (K-Fold/PCA)   63930.084863  0.940646\n",
       "9                     Ada Boosting  105230.127047  0.906147\n",
       "10              Ada Boosting (PCA)  100291.788048  0.898991"
      ]
     },
     "execution_count": 655,
     "metadata": {},
     "output_type": "execute_result"
    }
   ],
   "source": [
    "AB_PCA = pd.DataFrame({'Algoritmo': 'Ada Boosting (PCA)', 'RMSE':rmse,'Acc':modelo2.score(X_teste, y_teste)}, index = {'10'})\n",
    "resultados = pd.concat([resultados, AB_PCA])\n",
    "resultados"
   ]
  },
  {
   "cell_type": "markdown",
   "metadata": {},
   "source": [
    "#### Cross-Validation"
   ]
  },
  {
   "cell_type": "markdown",
   "metadata": {},
   "source": [
    "##### Modelo 1"
   ]
  },
  {
   "cell_type": "code",
   "execution_count": 656,
   "metadata": {},
   "outputs": [
    {
     "name": "stdout",
     "output_type": "stream",
     "text": [
      "Formato da base preditora:  (148, 18)\n",
      "Formato da base com o alvo:  (148,)\n"
     ]
    }
   ],
   "source": [
    "# Divisão entre variáveis preditoras e varíavel alvo\n",
    "X = base.drop('faturamento', axis = 1)\n",
    "y = base['faturamento']\n",
    "print(\"Formato da base preditora: \", X.shape)\n",
    "print(\"Formato da base com o alvo: \", y.shape)"
   ]
  },
  {
   "cell_type": "code",
   "execution_count": 657,
   "metadata": {},
   "outputs": [],
   "source": [
    "modelo1 = AdaBoostRegressor()"
   ]
  },
  {
   "cell_type": "code",
   "execution_count": 658,
   "metadata": {},
   "outputs": [],
   "source": [
    "# Avaliando o modelo\n",
    "from sklearn.model_selection import cross_validate\n",
    "scoring = {'Error':'neg_root_mean_squared_error' ,'Accuracy':'r2'}\n",
    "cv = RepeatedKFold(n_splits=10, n_repeats=3, random_state=1)\n",
    "#n_scores1 = cross_val_score(modelo1, X, y, scoring='neg_root_mean_squared_error', cv=cv, n_jobs=-1, error_score='raise')\n",
    "n_scores = cross_validate(modelo1, X,y, scoring = scoring, cv = cv)"
   ]
  },
  {
   "cell_type": "code",
   "execution_count": 659,
   "metadata": {},
   "outputs": [
    {
     "data": {
      "text/html": [
       "<div>\n",
       "<style scoped>\n",
       "    .dataframe tbody tr th:only-of-type {\n",
       "        vertical-align: middle;\n",
       "    }\n",
       "\n",
       "    .dataframe tbody tr th {\n",
       "        vertical-align: top;\n",
       "    }\n",
       "\n",
       "    .dataframe thead th {\n",
       "        text-align: right;\n",
       "    }\n",
       "</style>\n",
       "<table border=\"1\" class=\"dataframe\">\n",
       "  <thead>\n",
       "    <tr style=\"text-align: right;\">\n",
       "      <th></th>\n",
       "      <th>Algoritmo</th>\n",
       "      <th>RMSE</th>\n",
       "      <th>Acc</th>\n",
       "    </tr>\n",
       "  </thead>\n",
       "  <tbody>\n",
       "    <tr>\n",
       "      <th>1</th>\n",
       "      <td>Random Forest</td>\n",
       "      <td>102100.706189</td>\n",
       "      <td>0.847906</td>\n",
       "    </tr>\n",
       "    <tr>\n",
       "      <th>2</th>\n",
       "      <td>Random Forest (PCA)</td>\n",
       "      <td>92118.562170</td>\n",
       "      <td>0.925805</td>\n",
       "    </tr>\n",
       "    <tr>\n",
       "      <th>3</th>\n",
       "      <td>Random Forest (K-Fold)</td>\n",
       "      <td>86986.410574</td>\n",
       "      <td>0.894496</td>\n",
       "    </tr>\n",
       "    <tr>\n",
       "      <th>4</th>\n",
       "      <td>Random Forest (K-Fold/PCA)</td>\n",
       "      <td>80818.392238</td>\n",
       "      <td>0.905688</td>\n",
       "    </tr>\n",
       "    <tr>\n",
       "      <th>5</th>\n",
       "      <td>Gradient Boosting</td>\n",
       "      <td>57218.906244</td>\n",
       "      <td>0.972440</td>\n",
       "    </tr>\n",
       "    <tr>\n",
       "      <th>6</th>\n",
       "      <td>Gradient Boosting (PCA)</td>\n",
       "      <td>64022.252187</td>\n",
       "      <td>0.949746</td>\n",
       "    </tr>\n",
       "    <tr>\n",
       "      <th>7</th>\n",
       "      <td>Gradient Boosting (K-Fold)</td>\n",
       "      <td>73373.646545</td>\n",
       "      <td>0.926522</td>\n",
       "    </tr>\n",
       "    <tr>\n",
       "      <th>8</th>\n",
       "      <td>Gradient Boosting (K-Fold/PCA)</td>\n",
       "      <td>63930.084863</td>\n",
       "      <td>0.940646</td>\n",
       "    </tr>\n",
       "    <tr>\n",
       "      <th>9</th>\n",
       "      <td>Ada Boosting</td>\n",
       "      <td>105230.127047</td>\n",
       "      <td>0.906147</td>\n",
       "    </tr>\n",
       "    <tr>\n",
       "      <th>10</th>\n",
       "      <td>Ada Boosting (PCA)</td>\n",
       "      <td>100291.788048</td>\n",
       "      <td>0.898991</td>\n",
       "    </tr>\n",
       "    <tr>\n",
       "      <th>11</th>\n",
       "      <td>Ada Boosting (K-Fold)</td>\n",
       "      <td>97189.491497</td>\n",
       "      <td>0.869983</td>\n",
       "    </tr>\n",
       "  </tbody>\n",
       "</table>\n",
       "</div>"
      ],
      "text/plain": [
       "                         Algoritmo           RMSE       Acc\n",
       "1                    Random Forest  102100.706189  0.847906\n",
       "2              Random Forest (PCA)   92118.562170  0.925805\n",
       "3           Random Forest (K-Fold)   86986.410574  0.894496\n",
       "4       Random Forest (K-Fold/PCA)   80818.392238  0.905688\n",
       "5                Gradient Boosting   57218.906244  0.972440\n",
       "6          Gradient Boosting (PCA)   64022.252187  0.949746\n",
       "7       Gradient Boosting (K-Fold)   73373.646545  0.926522\n",
       "8   Gradient Boosting (K-Fold/PCA)   63930.084863  0.940646\n",
       "9                     Ada Boosting  105230.127047  0.906147\n",
       "10              Ada Boosting (PCA)  100291.788048  0.898991\n",
       "11           Ada Boosting (K-Fold)   97189.491497  0.869983"
      ]
     },
     "execution_count": 659,
     "metadata": {},
     "output_type": "execute_result"
    }
   ],
   "source": [
    "AB_KFOLD = pd.DataFrame({'Algoritmo': 'Ada Boosting (K-Fold)', 'RMSE':abs(np.mean(n_scores['test_Error'])), 'Acc': np.mean(n_scores['test_Accuracy'])}, index = {'11'})\n",
    "resultados = pd.concat([resultados,AB_KFOLD])\n",
    "resultados"
   ]
  },
  {
   "cell_type": "markdown",
   "metadata": {},
   "source": [
    "##### Modelo 2"
   ]
  },
  {
   "cell_type": "code",
   "execution_count": 660,
   "metadata": {},
   "outputs": [
    {
     "name": "stdout",
     "output_type": "stream",
     "text": [
      "Formato da base preditora:  (148, 18)\n",
      "Formato da base com o alvo:  (148,)\n"
     ]
    }
   ],
   "source": [
    "# Divisão entre variáveis preditoras e varíavel alvo\n",
    "X = base.drop('faturamento', axis = 1)\n",
    "y = base['faturamento']\n",
    "print(\"Formato da base preditora: \", X.shape)\n",
    "print(\"Formato da base com o alvo: \", y.shape)"
   ]
  },
  {
   "cell_type": "code",
   "execution_count": 661,
   "metadata": {},
   "outputs": [],
   "source": [
    "# Redução de dimensionalidade com o PCA\n",
    "from sklearn.decomposition import PCA\n",
    "pca = PCA(n_components = 9)\n",
    "X = pca.fit_transform(X)"
   ]
  },
  {
   "cell_type": "code",
   "execution_count": 662,
   "metadata": {},
   "outputs": [],
   "source": [
    "modelo2 = AdaBoostRegressor()"
   ]
  },
  {
   "cell_type": "code",
   "execution_count": 663,
   "metadata": {},
   "outputs": [],
   "source": [
    "# Avaliando o modelo\n",
    "from sklearn.model_selection import cross_validate\n",
    "scoring = {'Error':'neg_root_mean_squared_error' ,'Accuracy':'r2'}\n",
    "cv = RepeatedKFold(n_splits=10, n_repeats=3, random_state=1)\n",
    "#n_scores1 = cross_val_score(modelo1, X, y, scoring='neg_root_mean_squared_error', cv=cv, n_jobs=-1, error_score='raise')\n",
    "n_scores = cross_validate(modelo2, X,y, scoring = scoring, cv = cv)"
   ]
  },
  {
   "cell_type": "code",
   "execution_count": 664,
   "metadata": {},
   "outputs": [
    {
     "data": {
      "text/html": [
       "<div>\n",
       "<style scoped>\n",
       "    .dataframe tbody tr th:only-of-type {\n",
       "        vertical-align: middle;\n",
       "    }\n",
       "\n",
       "    .dataframe tbody tr th {\n",
       "        vertical-align: top;\n",
       "    }\n",
       "\n",
       "    .dataframe thead th {\n",
       "        text-align: right;\n",
       "    }\n",
       "</style>\n",
       "<table border=\"1\" class=\"dataframe\">\n",
       "  <thead>\n",
       "    <tr style=\"text-align: right;\">\n",
       "      <th></th>\n",
       "      <th>Algoritmo</th>\n",
       "      <th>RMSE</th>\n",
       "      <th>Acc</th>\n",
       "    </tr>\n",
       "  </thead>\n",
       "  <tbody>\n",
       "    <tr>\n",
       "      <th>1</th>\n",
       "      <td>Random Forest</td>\n",
       "      <td>102100.706189</td>\n",
       "      <td>0.847906</td>\n",
       "    </tr>\n",
       "    <tr>\n",
       "      <th>2</th>\n",
       "      <td>Random Forest (PCA)</td>\n",
       "      <td>92118.562170</td>\n",
       "      <td>0.925805</td>\n",
       "    </tr>\n",
       "    <tr>\n",
       "      <th>3</th>\n",
       "      <td>Random Forest (K-Fold)</td>\n",
       "      <td>86986.410574</td>\n",
       "      <td>0.894496</td>\n",
       "    </tr>\n",
       "    <tr>\n",
       "      <th>4</th>\n",
       "      <td>Random Forest (K-Fold/PCA)</td>\n",
       "      <td>80818.392238</td>\n",
       "      <td>0.905688</td>\n",
       "    </tr>\n",
       "    <tr>\n",
       "      <th>5</th>\n",
       "      <td>Gradient Boosting</td>\n",
       "      <td>57218.906244</td>\n",
       "      <td>0.972440</td>\n",
       "    </tr>\n",
       "    <tr>\n",
       "      <th>6</th>\n",
       "      <td>Gradient Boosting (PCA)</td>\n",
       "      <td>64022.252187</td>\n",
       "      <td>0.949746</td>\n",
       "    </tr>\n",
       "    <tr>\n",
       "      <th>7</th>\n",
       "      <td>Gradient Boosting (K-Fold)</td>\n",
       "      <td>73373.646545</td>\n",
       "      <td>0.926522</td>\n",
       "    </tr>\n",
       "    <tr>\n",
       "      <th>8</th>\n",
       "      <td>Gradient Boosting (K-Fold/PCA)</td>\n",
       "      <td>63930.084863</td>\n",
       "      <td>0.940646</td>\n",
       "    </tr>\n",
       "    <tr>\n",
       "      <th>9</th>\n",
       "      <td>Ada Boosting</td>\n",
       "      <td>105230.127047</td>\n",
       "      <td>0.906147</td>\n",
       "    </tr>\n",
       "    <tr>\n",
       "      <th>10</th>\n",
       "      <td>Ada Boosting (PCA)</td>\n",
       "      <td>100291.788048</td>\n",
       "      <td>0.898991</td>\n",
       "    </tr>\n",
       "    <tr>\n",
       "      <th>11</th>\n",
       "      <td>Ada Boosting (K-Fold)</td>\n",
       "      <td>97189.491497</td>\n",
       "      <td>0.869983</td>\n",
       "    </tr>\n",
       "    <tr>\n",
       "      <th>12</th>\n",
       "      <td>Ada Boosting (K-Fold/PCA)</td>\n",
       "      <td>95222.267164</td>\n",
       "      <td>0.870789</td>\n",
       "    </tr>\n",
       "  </tbody>\n",
       "</table>\n",
       "</div>"
      ],
      "text/plain": [
       "                         Algoritmo           RMSE       Acc\n",
       "1                    Random Forest  102100.706189  0.847906\n",
       "2              Random Forest (PCA)   92118.562170  0.925805\n",
       "3           Random Forest (K-Fold)   86986.410574  0.894496\n",
       "4       Random Forest (K-Fold/PCA)   80818.392238  0.905688\n",
       "5                Gradient Boosting   57218.906244  0.972440\n",
       "6          Gradient Boosting (PCA)   64022.252187  0.949746\n",
       "7       Gradient Boosting (K-Fold)   73373.646545  0.926522\n",
       "8   Gradient Boosting (K-Fold/PCA)   63930.084863  0.940646\n",
       "9                     Ada Boosting  105230.127047  0.906147\n",
       "10              Ada Boosting (PCA)  100291.788048  0.898991\n",
       "11           Ada Boosting (K-Fold)   97189.491497  0.869983\n",
       "12       Ada Boosting (K-Fold/PCA)   95222.267164  0.870789"
      ]
     },
     "execution_count": 664,
     "metadata": {},
     "output_type": "execute_result"
    }
   ],
   "source": [
    "AB_KFOLD_PCA = pd.DataFrame({'Algoritmo': 'Ada Boosting (K-Fold/PCA)', 'RMSE':abs(np.mean(n_scores['test_Error'])), 'Acc': np.mean(n_scores['test_Accuracy'])}, index = {'12'})\n",
    "resultados = pd.concat([resultados, AB_KFOLD_PCA])\n",
    "resultados"
   ]
  },
  {
   "cell_type": "markdown",
   "metadata": {},
   "source": [
    "### XGBoost Regressor"
   ]
  },
  {
   "cell_type": "markdown",
   "metadata": {},
   "source": [
    "#### Divisão em treino e teste"
   ]
  },
  {
   "cell_type": "markdown",
   "metadata": {},
   "source": [
    "##### Modelo 1"
   ]
  },
  {
   "cell_type": "code",
   "execution_count": 665,
   "metadata": {},
   "outputs": [],
   "source": [
    "import xgboost as xgb\n",
    "from xgboost.sklearn import XGBRegressor"
   ]
  },
  {
   "cell_type": "code",
   "execution_count": 666,
   "metadata": {},
   "outputs": [
    {
     "name": "stdout",
     "output_type": "stream",
     "text": [
      "Formato da base preditora:  (148, 18)\n",
      "Formato da base com o alvo:  (148,)\n"
     ]
    }
   ],
   "source": [
    "# Divisão entre variáveis preditoras e varíavel alvo\n",
    "X = base.drop('faturamento', axis = 1)\n",
    "y = base['faturamento']\n",
    "print(\"Formato da base preditora: \", X.shape)\n",
    "print(\"Formato da base com o alvo: \", y.shape)"
   ]
  },
  {
   "cell_type": "code",
   "execution_count": 667,
   "metadata": {},
   "outputs": [],
   "source": [
    "# Divisão entre treino (80% da base) e teste (20% da base)\n",
    "from sklearn.model_selection import train_test_split\n",
    "X_treino, X_teste, y_treino, y_teste = train_test_split(X, y, test_size = 0.2)"
   ]
  },
  {
   "cell_type": "code",
   "execution_count": 668,
   "metadata": {},
   "outputs": [
    {
     "data": {
      "text/plain": [
       "XGBRegressor(base_score=0.5, booster='gbtree', colsample_bylevel=1,\n",
       "             colsample_bynode=1, colsample_bytree=1, gamma=0, gpu_id=-1,\n",
       "             importance_type='gain', interaction_constraints='',\n",
       "             learning_rate=0.300000012, max_delta_step=0, max_depth=6,\n",
       "             min_child_weight=1, missing=nan, monotone_constraints='()',\n",
       "             n_estimators=100, n_jobs=4, num_parallel_tree=1,\n",
       "             objective='reg:squarederror', random_state=0, reg_alpha=0,\n",
       "             reg_lambda=1, scale_pos_weight=1, subsample=1, tree_method='exact',\n",
       "             validate_parameters=1, verbosity=None)"
      ]
     },
     "execution_count": 668,
     "metadata": {},
     "output_type": "execute_result"
    }
   ],
   "source": [
    "# Criação do modelo e ajuste aos dados\n",
    "modelo1 = XGBRegressor()\n",
    "modelo1.fit(X_treino, y_treino)"
   ]
  },
  {
   "cell_type": "code",
   "execution_count": 669,
   "metadata": {},
   "outputs": [],
   "source": [
    "# Previsão\n",
    "y_pred = modelo1.predict(X_teste)"
   ]
  },
  {
   "cell_type": "code",
   "execution_count": 670,
   "metadata": {},
   "outputs": [
    {
     "data": {
      "text/plain": [
       "0.9999999998708052"
      ]
     },
     "execution_count": 670,
     "metadata": {},
     "output_type": "execute_result"
    }
   ],
   "source": [
    "modelo1.score(X_treino, y_treino)"
   ]
  },
  {
   "cell_type": "code",
   "execution_count": 671,
   "metadata": {},
   "outputs": [
    {
     "data": {
      "text/plain": [
       "0.9524238109422879"
      ]
     },
     "execution_count": 671,
     "metadata": {},
     "output_type": "execute_result"
    }
   ],
   "source": [
    "modelo1.score(X_teste, y_teste)"
   ]
  },
  {
   "cell_type": "code",
   "execution_count": 672,
   "metadata": {},
   "outputs": [
    {
     "data": {
      "text/html": [
       "<div>\n",
       "<style scoped>\n",
       "    .dataframe tbody tr th:only-of-type {\n",
       "        vertical-align: middle;\n",
       "    }\n",
       "\n",
       "    .dataframe tbody tr th {\n",
       "        vertical-align: top;\n",
       "    }\n",
       "\n",
       "    .dataframe thead th {\n",
       "        text-align: right;\n",
       "    }\n",
       "</style>\n",
       "<table border=\"1\" class=\"dataframe\">\n",
       "  <thead>\n",
       "    <tr style=\"text-align: right;\">\n",
       "      <th></th>\n",
       "      <th>Real</th>\n",
       "      <th>Previsto</th>\n",
       "    </tr>\n",
       "  </thead>\n",
       "  <tbody>\n",
       "    <tr>\n",
       "      <th>136</th>\n",
       "      <td>689701.0</td>\n",
       "      <td>6.955998e+05</td>\n",
       "    </tr>\n",
       "    <tr>\n",
       "      <th>68</th>\n",
       "      <td>1962438.0</td>\n",
       "      <td>1.981336e+06</td>\n",
       "    </tr>\n",
       "    <tr>\n",
       "      <th>12</th>\n",
       "      <td>662520.0</td>\n",
       "      <td>6.853921e+05</td>\n",
       "    </tr>\n",
       "    <tr>\n",
       "      <th>106</th>\n",
       "      <td>593191.0</td>\n",
       "      <td>5.635835e+05</td>\n",
       "    </tr>\n",
       "    <tr>\n",
       "      <th>81</th>\n",
       "      <td>1762798.0</td>\n",
       "      <td>1.588888e+06</td>\n",
       "    </tr>\n",
       "    <tr>\n",
       "      <th>25</th>\n",
       "      <td>1073403.0</td>\n",
       "      <td>1.121951e+06</td>\n",
       "    </tr>\n",
       "    <tr>\n",
       "      <th>94</th>\n",
       "      <td>978197.0</td>\n",
       "      <td>9.187692e+05</td>\n",
       "    </tr>\n",
       "    <tr>\n",
       "      <th>37</th>\n",
       "      <td>645088.0</td>\n",
       "      <td>6.654932e+05</td>\n",
       "    </tr>\n",
       "    <tr>\n",
       "      <th>133</th>\n",
       "      <td>878830.0</td>\n",
       "      <td>8.748777e+05</td>\n",
       "    </tr>\n",
       "    <tr>\n",
       "      <th>121</th>\n",
       "      <td>720444.0</td>\n",
       "      <td>6.565391e+05</td>\n",
       "    </tr>\n",
       "    <tr>\n",
       "      <th>65</th>\n",
       "      <td>1289705.0</td>\n",
       "      <td>1.197766e+06</td>\n",
       "    </tr>\n",
       "    <tr>\n",
       "      <th>62</th>\n",
       "      <td>69304.0</td>\n",
       "      <td>2.546616e+05</td>\n",
       "    </tr>\n",
       "    <tr>\n",
       "      <th>135</th>\n",
       "      <td>197681.0</td>\n",
       "      <td>2.724037e+05</td>\n",
       "    </tr>\n",
       "    <tr>\n",
       "      <th>1</th>\n",
       "      <td>588833.0</td>\n",
       "      <td>6.099823e+05</td>\n",
       "    </tr>\n",
       "    <tr>\n",
       "      <th>74</th>\n",
       "      <td>795412.0</td>\n",
       "      <td>7.918346e+05</td>\n",
       "    </tr>\n",
       "    <tr>\n",
       "      <th>49</th>\n",
       "      <td>764380.0</td>\n",
       "      <td>7.670416e+05</td>\n",
       "    </tr>\n",
       "    <tr>\n",
       "      <th>131</th>\n",
       "      <td>1330747.0</td>\n",
       "      <td>1.004721e+06</td>\n",
       "    </tr>\n",
       "    <tr>\n",
       "      <th>30</th>\n",
       "      <td>837355.0</td>\n",
       "      <td>8.288162e+05</td>\n",
       "    </tr>\n",
       "    <tr>\n",
       "      <th>138</th>\n",
       "      <td>778067.0</td>\n",
       "      <td>7.630175e+05</td>\n",
       "    </tr>\n",
       "    <tr>\n",
       "      <th>71</th>\n",
       "      <td>822849.0</td>\n",
       "      <td>8.058387e+05</td>\n",
       "    </tr>\n",
       "    <tr>\n",
       "      <th>39</th>\n",
       "      <td>219983.0</td>\n",
       "      <td>2.794493e+05</td>\n",
       "    </tr>\n",
       "    <tr>\n",
       "      <th>0</th>\n",
       "      <td>932515.0</td>\n",
       "      <td>9.156182e+05</td>\n",
       "    </tr>\n",
       "    <tr>\n",
       "      <th>89</th>\n",
       "      <td>1384873.0</td>\n",
       "      <td>1.346564e+06</td>\n",
       "    </tr>\n",
       "    <tr>\n",
       "      <th>153</th>\n",
       "      <td>1100481.0</td>\n",
       "      <td>9.392666e+05</td>\n",
       "    </tr>\n",
       "    <tr>\n",
       "      <th>108</th>\n",
       "      <td>808082.0</td>\n",
       "      <td>8.110709e+05</td>\n",
       "    </tr>\n",
       "    <tr>\n",
       "      <th>16</th>\n",
       "      <td>755073.0</td>\n",
       "      <td>7.548249e+05</td>\n",
       "    </tr>\n",
       "    <tr>\n",
       "      <th>150</th>\n",
       "      <td>738591.0</td>\n",
       "      <td>7.236152e+05</td>\n",
       "    </tr>\n",
       "    <tr>\n",
       "      <th>86</th>\n",
       "      <td>754735.0</td>\n",
       "      <td>7.347762e+05</td>\n",
       "    </tr>\n",
       "    <tr>\n",
       "      <th>5</th>\n",
       "      <td>1204467.0</td>\n",
       "      <td>1.321776e+06</td>\n",
       "    </tr>\n",
       "    <tr>\n",
       "      <th>103</th>\n",
       "      <td>258464.0</td>\n",
       "      <td>2.681854e+05</td>\n",
       "    </tr>\n",
       "  </tbody>\n",
       "</table>\n",
       "</div>"
      ],
      "text/plain": [
       "          Real      Previsto\n",
       "136   689701.0  6.955998e+05\n",
       "68   1962438.0  1.981336e+06\n",
       "12    662520.0  6.853921e+05\n",
       "106   593191.0  5.635835e+05\n",
       "81   1762798.0  1.588888e+06\n",
       "25   1073403.0  1.121951e+06\n",
       "94    978197.0  9.187692e+05\n",
       "37    645088.0  6.654932e+05\n",
       "133   878830.0  8.748777e+05\n",
       "121   720444.0  6.565391e+05\n",
       "65   1289705.0  1.197766e+06\n",
       "62     69304.0  2.546616e+05\n",
       "135   197681.0  2.724037e+05\n",
       "1     588833.0  6.099823e+05\n",
       "74    795412.0  7.918346e+05\n",
       "49    764380.0  7.670416e+05\n",
       "131  1330747.0  1.004721e+06\n",
       "30    837355.0  8.288162e+05\n",
       "138   778067.0  7.630175e+05\n",
       "71    822849.0  8.058387e+05\n",
       "39    219983.0  2.794493e+05\n",
       "0     932515.0  9.156182e+05\n",
       "89   1384873.0  1.346564e+06\n",
       "153  1100481.0  9.392666e+05\n",
       "108   808082.0  8.110709e+05\n",
       "16    755073.0  7.548249e+05\n",
       "150   738591.0  7.236152e+05\n",
       "86    754735.0  7.347762e+05\n",
       "5    1204467.0  1.321776e+06\n",
       "103   258464.0  2.681854e+05"
      ]
     },
     "execution_count": 672,
     "metadata": {},
     "output_type": "execute_result"
    }
   ],
   "source": [
    "# Criação de um dataframe para comparação dos valores\n",
    "comp = pd.DataFrame({\"Real\":y_teste, \"Previsto\":y_pred})\n",
    "comp"
   ]
  },
  {
   "cell_type": "code",
   "execution_count": 673,
   "metadata": {},
   "outputs": [
    {
     "name": "stdout",
     "output_type": "stream",
     "text": [
      "Root Mean Squared Error:  90175.82237735078\n"
     ]
    }
   ],
   "source": [
    "# RMSE do modelo\n",
    "from sklearn import metrics\n",
    "mse = metrics.mean_squared_error(y_teste, y_pred)\n",
    "rmse = np.sqrt(mse)\n",
    "print(\"Root Mean Squared Error: \", rmse)"
   ]
  },
  {
   "cell_type": "code",
   "execution_count": 674,
   "metadata": {},
   "outputs": [
    {
     "data": {
      "text/html": [
       "<div>\n",
       "<style scoped>\n",
       "    .dataframe tbody tr th:only-of-type {\n",
       "        vertical-align: middle;\n",
       "    }\n",
       "\n",
       "    .dataframe tbody tr th {\n",
       "        vertical-align: top;\n",
       "    }\n",
       "\n",
       "    .dataframe thead th {\n",
       "        text-align: right;\n",
       "    }\n",
       "</style>\n",
       "<table border=\"1\" class=\"dataframe\">\n",
       "  <thead>\n",
       "    <tr style=\"text-align: right;\">\n",
       "      <th></th>\n",
       "      <th>Algoritmo</th>\n",
       "      <th>RMSE</th>\n",
       "      <th>Acc</th>\n",
       "    </tr>\n",
       "  </thead>\n",
       "  <tbody>\n",
       "    <tr>\n",
       "      <th>1</th>\n",
       "      <td>Random Forest</td>\n",
       "      <td>102100.706189</td>\n",
       "      <td>0.847906</td>\n",
       "    </tr>\n",
       "    <tr>\n",
       "      <th>2</th>\n",
       "      <td>Random Forest (PCA)</td>\n",
       "      <td>92118.562170</td>\n",
       "      <td>0.925805</td>\n",
       "    </tr>\n",
       "    <tr>\n",
       "      <th>3</th>\n",
       "      <td>Random Forest (K-Fold)</td>\n",
       "      <td>86986.410574</td>\n",
       "      <td>0.894496</td>\n",
       "    </tr>\n",
       "    <tr>\n",
       "      <th>4</th>\n",
       "      <td>Random Forest (K-Fold/PCA)</td>\n",
       "      <td>80818.392238</td>\n",
       "      <td>0.905688</td>\n",
       "    </tr>\n",
       "    <tr>\n",
       "      <th>5</th>\n",
       "      <td>Gradient Boosting</td>\n",
       "      <td>57218.906244</td>\n",
       "      <td>0.972440</td>\n",
       "    </tr>\n",
       "    <tr>\n",
       "      <th>6</th>\n",
       "      <td>Gradient Boosting (PCA)</td>\n",
       "      <td>64022.252187</td>\n",
       "      <td>0.949746</td>\n",
       "    </tr>\n",
       "    <tr>\n",
       "      <th>7</th>\n",
       "      <td>Gradient Boosting (K-Fold)</td>\n",
       "      <td>73373.646545</td>\n",
       "      <td>0.926522</td>\n",
       "    </tr>\n",
       "    <tr>\n",
       "      <th>8</th>\n",
       "      <td>Gradient Boosting (K-Fold/PCA)</td>\n",
       "      <td>63930.084863</td>\n",
       "      <td>0.940646</td>\n",
       "    </tr>\n",
       "    <tr>\n",
       "      <th>9</th>\n",
       "      <td>Ada Boosting</td>\n",
       "      <td>105230.127047</td>\n",
       "      <td>0.906147</td>\n",
       "    </tr>\n",
       "    <tr>\n",
       "      <th>10</th>\n",
       "      <td>Ada Boosting (PCA)</td>\n",
       "      <td>100291.788048</td>\n",
       "      <td>0.898991</td>\n",
       "    </tr>\n",
       "    <tr>\n",
       "      <th>11</th>\n",
       "      <td>Ada Boosting (K-Fold)</td>\n",
       "      <td>97189.491497</td>\n",
       "      <td>0.869983</td>\n",
       "    </tr>\n",
       "    <tr>\n",
       "      <th>12</th>\n",
       "      <td>Ada Boosting (K-Fold/PCA)</td>\n",
       "      <td>95222.267164</td>\n",
       "      <td>0.870789</td>\n",
       "    </tr>\n",
       "    <tr>\n",
       "      <th>13</th>\n",
       "      <td>XG Boost</td>\n",
       "      <td>90175.822377</td>\n",
       "      <td>0.952424</td>\n",
       "    </tr>\n",
       "  </tbody>\n",
       "</table>\n",
       "</div>"
      ],
      "text/plain": [
       "                         Algoritmo           RMSE       Acc\n",
       "1                    Random Forest  102100.706189  0.847906\n",
       "2              Random Forest (PCA)   92118.562170  0.925805\n",
       "3           Random Forest (K-Fold)   86986.410574  0.894496\n",
       "4       Random Forest (K-Fold/PCA)   80818.392238  0.905688\n",
       "5                Gradient Boosting   57218.906244  0.972440\n",
       "6          Gradient Boosting (PCA)   64022.252187  0.949746\n",
       "7       Gradient Boosting (K-Fold)   73373.646545  0.926522\n",
       "8   Gradient Boosting (K-Fold/PCA)   63930.084863  0.940646\n",
       "9                     Ada Boosting  105230.127047  0.906147\n",
       "10              Ada Boosting (PCA)  100291.788048  0.898991\n",
       "11           Ada Boosting (K-Fold)   97189.491497  0.869983\n",
       "12       Ada Boosting (K-Fold/PCA)   95222.267164  0.870789\n",
       "13                        XG Boost   90175.822377  0.952424"
      ]
     },
     "execution_count": 674,
     "metadata": {},
     "output_type": "execute_result"
    }
   ],
   "source": [
    "xgb = pd.DataFrame({'Algoritmo': 'XG Boost', 'RMSE':rmse,'Acc':modelo1.score(X_teste, y_teste)}, index = {'13'})\n",
    "resultados = pd.concat([resultados,xgb])\n",
    "resultados"
   ]
  },
  {
   "cell_type": "markdown",
   "metadata": {},
   "source": [
    "##### Modelo 2"
   ]
  },
  {
   "cell_type": "code",
   "execution_count": 675,
   "metadata": {},
   "outputs": [
    {
     "name": "stdout",
     "output_type": "stream",
     "text": [
      "Formato da base preditora:  (148, 18)\n",
      "Formato da base com o alvo:  (148,)\n"
     ]
    }
   ],
   "source": [
    "# Divisão entre variáveis preditoras e varíavel alvo\n",
    "X = base.drop('faturamento', axis = 1)\n",
    "y = base['faturamento']\n",
    "print(\"Formato da base preditora: \", X.shape)\n",
    "print(\"Formato da base com o alvo: \", y.shape)"
   ]
  },
  {
   "cell_type": "code",
   "execution_count": 676,
   "metadata": {},
   "outputs": [],
   "source": [
    "# Redução de dimensionalidade com o PCA\n",
    "from sklearn.decomposition import PCA\n",
    "pca = PCA(n_components = 9)\n",
    "X = pca.fit_transform(X)"
   ]
  },
  {
   "cell_type": "code",
   "execution_count": 677,
   "metadata": {},
   "outputs": [],
   "source": [
    "# Divisão entre treino (80% da base) e teste (20% da base)\n",
    "from sklearn.model_selection import train_test_split\n",
    "X_treino, X_teste, y_treino, y_teste = train_test_split(X, y, test_size = 0.2)"
   ]
  },
  {
   "cell_type": "code",
   "execution_count": 678,
   "metadata": {},
   "outputs": [
    {
     "data": {
      "text/plain": [
       "XGBRegressor(base_score=0.5, booster='gbtree', colsample_bylevel=1,\n",
       "             colsample_bynode=1, colsample_bytree=1, gamma=0, gpu_id=-1,\n",
       "             importance_type='gain', interaction_constraints='',\n",
       "             learning_rate=0.300000012, max_delta_step=0, max_depth=6,\n",
       "             min_child_weight=1, missing=nan, monotone_constraints='()',\n",
       "             n_estimators=100, n_jobs=4, num_parallel_tree=1,\n",
       "             objective='reg:squarederror', random_state=0, reg_alpha=0,\n",
       "             reg_lambda=1, scale_pos_weight=1, subsample=1, tree_method='exact',\n",
       "             validate_parameters=1, verbosity=None)"
      ]
     },
     "execution_count": 678,
     "metadata": {},
     "output_type": "execute_result"
    }
   ],
   "source": [
    "# Criação do modelo e ajuste aos dados\n",
    "modelo2 = XGBRegressor()\n",
    "modelo2.fit(X_treino, y_treino)"
   ]
  },
  {
   "cell_type": "code",
   "execution_count": 679,
   "metadata": {},
   "outputs": [],
   "source": [
    "# Previsão\n",
    "y_pred = modelo2.predict(X_teste)"
   ]
  },
  {
   "cell_type": "code",
   "execution_count": 680,
   "metadata": {},
   "outputs": [
    {
     "data": {
      "text/plain": [
       "0.9999999999997472"
      ]
     },
     "execution_count": 680,
     "metadata": {},
     "output_type": "execute_result"
    }
   ],
   "source": [
    "modelo2.score(X_treino, y_treino)"
   ]
  },
  {
   "cell_type": "code",
   "execution_count": 681,
   "metadata": {},
   "outputs": [
    {
     "data": {
      "text/plain": [
       "0.9464848858361428"
      ]
     },
     "execution_count": 681,
     "metadata": {},
     "output_type": "execute_result"
    }
   ],
   "source": [
    "modelo2.score(X_teste, y_teste)"
   ]
  },
  {
   "cell_type": "code",
   "execution_count": 682,
   "metadata": {},
   "outputs": [
    {
     "data": {
      "text/html": [
       "<div>\n",
       "<style scoped>\n",
       "    .dataframe tbody tr th:only-of-type {\n",
       "        vertical-align: middle;\n",
       "    }\n",
       "\n",
       "    .dataframe tbody tr th {\n",
       "        vertical-align: top;\n",
       "    }\n",
       "\n",
       "    .dataframe thead th {\n",
       "        text-align: right;\n",
       "    }\n",
       "</style>\n",
       "<table border=\"1\" class=\"dataframe\">\n",
       "  <thead>\n",
       "    <tr style=\"text-align: right;\">\n",
       "      <th></th>\n",
       "      <th>Real</th>\n",
       "      <th>Previsto</th>\n",
       "    </tr>\n",
       "  </thead>\n",
       "  <tbody>\n",
       "    <tr>\n",
       "      <th>10</th>\n",
       "      <td>846531.0</td>\n",
       "      <td>8.336978e+05</td>\n",
       "    </tr>\n",
       "    <tr>\n",
       "      <th>74</th>\n",
       "      <td>795412.0</td>\n",
       "      <td>7.739749e+05</td>\n",
       "    </tr>\n",
       "    <tr>\n",
       "      <th>47</th>\n",
       "      <td>903559.0</td>\n",
       "      <td>9.210348e+05</td>\n",
       "    </tr>\n",
       "    <tr>\n",
       "      <th>102</th>\n",
       "      <td>789315.0</td>\n",
       "      <td>8.209702e+05</td>\n",
       "    </tr>\n",
       "    <tr>\n",
       "      <th>1</th>\n",
       "      <td>588833.0</td>\n",
       "      <td>5.185729e+05</td>\n",
       "    </tr>\n",
       "    <tr>\n",
       "      <th>89</th>\n",
       "      <td>1384873.0</td>\n",
       "      <td>1.207273e+06</td>\n",
       "    </tr>\n",
       "    <tr>\n",
       "      <th>152</th>\n",
       "      <td>623144.0</td>\n",
       "      <td>6.168117e+05</td>\n",
       "    </tr>\n",
       "    <tr>\n",
       "      <th>14</th>\n",
       "      <td>851362.0</td>\n",
       "      <td>8.593513e+05</td>\n",
       "    </tr>\n",
       "    <tr>\n",
       "      <th>77</th>\n",
       "      <td>1448872.0</td>\n",
       "      <td>1.293937e+06</td>\n",
       "    </tr>\n",
       "    <tr>\n",
       "      <th>159</th>\n",
       "      <td>919451.0</td>\n",
       "      <td>8.561960e+05</td>\n",
       "    </tr>\n",
       "    <tr>\n",
       "      <th>25</th>\n",
       "      <td>1073403.0</td>\n",
       "      <td>1.103899e+06</td>\n",
       "    </tr>\n",
       "    <tr>\n",
       "      <th>30</th>\n",
       "      <td>837355.0</td>\n",
       "      <td>7.966528e+05</td>\n",
       "    </tr>\n",
       "    <tr>\n",
       "      <th>33</th>\n",
       "      <td>702967.0</td>\n",
       "      <td>7.513618e+05</td>\n",
       "    </tr>\n",
       "    <tr>\n",
       "      <th>12</th>\n",
       "      <td>662520.0</td>\n",
       "      <td>6.995238e+05</td>\n",
       "    </tr>\n",
       "    <tr>\n",
       "      <th>126</th>\n",
       "      <td>806674.0</td>\n",
       "      <td>8.229519e+05</td>\n",
       "    </tr>\n",
       "    <tr>\n",
       "      <th>99</th>\n",
       "      <td>854818.0</td>\n",
       "      <td>8.029666e+05</td>\n",
       "    </tr>\n",
       "    <tr>\n",
       "      <th>145</th>\n",
       "      <td>1126244.0</td>\n",
       "      <td>1.176258e+06</td>\n",
       "    </tr>\n",
       "    <tr>\n",
       "      <th>101</th>\n",
       "      <td>744303.0</td>\n",
       "      <td>7.677403e+05</td>\n",
       "    </tr>\n",
       "    <tr>\n",
       "      <th>45</th>\n",
       "      <td>818442.0</td>\n",
       "      <td>8.342148e+05</td>\n",
       "    </tr>\n",
       "    <tr>\n",
       "      <th>100</th>\n",
       "      <td>630075.0</td>\n",
       "      <td>6.776882e+05</td>\n",
       "    </tr>\n",
       "    <tr>\n",
       "      <th>62</th>\n",
       "      <td>69304.0</td>\n",
       "      <td>1.378523e+05</td>\n",
       "    </tr>\n",
       "    <tr>\n",
       "      <th>34</th>\n",
       "      <td>621314.0</td>\n",
       "      <td>6.642746e+05</td>\n",
       "    </tr>\n",
       "    <tr>\n",
       "      <th>114</th>\n",
       "      <td>893640.0</td>\n",
       "      <td>8.847641e+05</td>\n",
       "    </tr>\n",
       "    <tr>\n",
       "      <th>94</th>\n",
       "      <td>978197.0</td>\n",
       "      <td>9.499981e+05</td>\n",
       "    </tr>\n",
       "    <tr>\n",
       "      <th>107</th>\n",
       "      <td>908998.0</td>\n",
       "      <td>8.592708e+05</td>\n",
       "    </tr>\n",
       "    <tr>\n",
       "      <th>66</th>\n",
       "      <td>688001.0</td>\n",
       "      <td>6.351252e+05</td>\n",
       "    </tr>\n",
       "    <tr>\n",
       "      <th>93</th>\n",
       "      <td>1626856.0</td>\n",
       "      <td>1.450319e+06</td>\n",
       "    </tr>\n",
       "    <tr>\n",
       "      <th>119</th>\n",
       "      <td>934074.0</td>\n",
       "      <td>9.174257e+05</td>\n",
       "    </tr>\n",
       "    <tr>\n",
       "      <th>92</th>\n",
       "      <td>905395.0</td>\n",
       "      <td>9.044561e+05</td>\n",
       "    </tr>\n",
       "    <tr>\n",
       "      <th>76</th>\n",
       "      <td>795430.0</td>\n",
       "      <td>7.834707e+05</td>\n",
       "    </tr>\n",
       "  </tbody>\n",
       "</table>\n",
       "</div>"
      ],
      "text/plain": [
       "          Real      Previsto\n",
       "10    846531.0  8.336978e+05\n",
       "74    795412.0  7.739749e+05\n",
       "47    903559.0  9.210348e+05\n",
       "102   789315.0  8.209702e+05\n",
       "1     588833.0  5.185729e+05\n",
       "89   1384873.0  1.207273e+06\n",
       "152   623144.0  6.168117e+05\n",
       "14    851362.0  8.593513e+05\n",
       "77   1448872.0  1.293937e+06\n",
       "159   919451.0  8.561960e+05\n",
       "25   1073403.0  1.103899e+06\n",
       "30    837355.0  7.966528e+05\n",
       "33    702967.0  7.513618e+05\n",
       "12    662520.0  6.995238e+05\n",
       "126   806674.0  8.229519e+05\n",
       "99    854818.0  8.029666e+05\n",
       "145  1126244.0  1.176258e+06\n",
       "101   744303.0  7.677403e+05\n",
       "45    818442.0  8.342148e+05\n",
       "100   630075.0  6.776882e+05\n",
       "62     69304.0  1.378523e+05\n",
       "34    621314.0  6.642746e+05\n",
       "114   893640.0  8.847641e+05\n",
       "94    978197.0  9.499981e+05\n",
       "107   908998.0  8.592708e+05\n",
       "66    688001.0  6.351252e+05\n",
       "93   1626856.0  1.450319e+06\n",
       "119   934074.0  9.174257e+05\n",
       "92    905395.0  9.044561e+05\n",
       "76    795430.0  7.834707e+05"
      ]
     },
     "execution_count": 682,
     "metadata": {},
     "output_type": "execute_result"
    }
   ],
   "source": [
    "# Criação de um dataframe para comparação dos valores\n",
    "comp = pd.DataFrame({\"Real\":y_teste, \"Previsto\":y_pred})\n",
    "comp"
   ]
  },
  {
   "cell_type": "code",
   "execution_count": 683,
   "metadata": {},
   "outputs": [
    {
     "name": "stdout",
     "output_type": "stream",
     "text": [
      "Root Mean Squared Error:  64707.347740081976\n"
     ]
    }
   ],
   "source": [
    "# RMSE do modelo\n",
    "from sklearn import metrics\n",
    "mse = metrics.mean_squared_error(y_teste, y_pred)\n",
    "rmse = np.sqrt(mse)\n",
    "print(\"Root Mean Squared Error: \", rmse)"
   ]
  },
  {
   "cell_type": "code",
   "execution_count": 684,
   "metadata": {},
   "outputs": [
    {
     "data": {
      "text/html": [
       "<div>\n",
       "<style scoped>\n",
       "    .dataframe tbody tr th:only-of-type {\n",
       "        vertical-align: middle;\n",
       "    }\n",
       "\n",
       "    .dataframe tbody tr th {\n",
       "        vertical-align: top;\n",
       "    }\n",
       "\n",
       "    .dataframe thead th {\n",
       "        text-align: right;\n",
       "    }\n",
       "</style>\n",
       "<table border=\"1\" class=\"dataframe\">\n",
       "  <thead>\n",
       "    <tr style=\"text-align: right;\">\n",
       "      <th></th>\n",
       "      <th>Algoritmo</th>\n",
       "      <th>RMSE</th>\n",
       "      <th>Acc</th>\n",
       "    </tr>\n",
       "  </thead>\n",
       "  <tbody>\n",
       "    <tr>\n",
       "      <th>1</th>\n",
       "      <td>Random Forest</td>\n",
       "      <td>102100.706189</td>\n",
       "      <td>0.847906</td>\n",
       "    </tr>\n",
       "    <tr>\n",
       "      <th>2</th>\n",
       "      <td>Random Forest (PCA)</td>\n",
       "      <td>92118.562170</td>\n",
       "      <td>0.925805</td>\n",
       "    </tr>\n",
       "    <tr>\n",
       "      <th>3</th>\n",
       "      <td>Random Forest (K-Fold)</td>\n",
       "      <td>86986.410574</td>\n",
       "      <td>0.894496</td>\n",
       "    </tr>\n",
       "    <tr>\n",
       "      <th>4</th>\n",
       "      <td>Random Forest (K-Fold/PCA)</td>\n",
       "      <td>80818.392238</td>\n",
       "      <td>0.905688</td>\n",
       "    </tr>\n",
       "    <tr>\n",
       "      <th>5</th>\n",
       "      <td>Gradient Boosting</td>\n",
       "      <td>57218.906244</td>\n",
       "      <td>0.972440</td>\n",
       "    </tr>\n",
       "    <tr>\n",
       "      <th>6</th>\n",
       "      <td>Gradient Boosting (PCA)</td>\n",
       "      <td>64022.252187</td>\n",
       "      <td>0.949746</td>\n",
       "    </tr>\n",
       "    <tr>\n",
       "      <th>7</th>\n",
       "      <td>Gradient Boosting (K-Fold)</td>\n",
       "      <td>73373.646545</td>\n",
       "      <td>0.926522</td>\n",
       "    </tr>\n",
       "    <tr>\n",
       "      <th>8</th>\n",
       "      <td>Gradient Boosting (K-Fold/PCA)</td>\n",
       "      <td>63930.084863</td>\n",
       "      <td>0.940646</td>\n",
       "    </tr>\n",
       "    <tr>\n",
       "      <th>9</th>\n",
       "      <td>Ada Boosting</td>\n",
       "      <td>105230.127047</td>\n",
       "      <td>0.906147</td>\n",
       "    </tr>\n",
       "    <tr>\n",
       "      <th>10</th>\n",
       "      <td>Ada Boosting (PCA)</td>\n",
       "      <td>100291.788048</td>\n",
       "      <td>0.898991</td>\n",
       "    </tr>\n",
       "    <tr>\n",
       "      <th>11</th>\n",
       "      <td>Ada Boosting (K-Fold)</td>\n",
       "      <td>97189.491497</td>\n",
       "      <td>0.869983</td>\n",
       "    </tr>\n",
       "    <tr>\n",
       "      <th>12</th>\n",
       "      <td>Ada Boosting (K-Fold/PCA)</td>\n",
       "      <td>95222.267164</td>\n",
       "      <td>0.870789</td>\n",
       "    </tr>\n",
       "    <tr>\n",
       "      <th>13</th>\n",
       "      <td>XG Boost</td>\n",
       "      <td>90175.822377</td>\n",
       "      <td>0.952424</td>\n",
       "    </tr>\n",
       "    <tr>\n",
       "      <th>14</th>\n",
       "      <td>XG Boost (PCA)</td>\n",
       "      <td>64707.347740</td>\n",
       "      <td>0.946485</td>\n",
       "    </tr>\n",
       "  </tbody>\n",
       "</table>\n",
       "</div>"
      ],
      "text/plain": [
       "                         Algoritmo           RMSE       Acc\n",
       "1                    Random Forest  102100.706189  0.847906\n",
       "2              Random Forest (PCA)   92118.562170  0.925805\n",
       "3           Random Forest (K-Fold)   86986.410574  0.894496\n",
       "4       Random Forest (K-Fold/PCA)   80818.392238  0.905688\n",
       "5                Gradient Boosting   57218.906244  0.972440\n",
       "6          Gradient Boosting (PCA)   64022.252187  0.949746\n",
       "7       Gradient Boosting (K-Fold)   73373.646545  0.926522\n",
       "8   Gradient Boosting (K-Fold/PCA)   63930.084863  0.940646\n",
       "9                     Ada Boosting  105230.127047  0.906147\n",
       "10              Ada Boosting (PCA)  100291.788048  0.898991\n",
       "11           Ada Boosting (K-Fold)   97189.491497  0.869983\n",
       "12       Ada Boosting (K-Fold/PCA)   95222.267164  0.870789\n",
       "13                        XG Boost   90175.822377  0.952424\n",
       "14                  XG Boost (PCA)   64707.347740  0.946485"
      ]
     },
     "execution_count": 684,
     "metadata": {},
     "output_type": "execute_result"
    }
   ],
   "source": [
    "XGB_PCA = pd.DataFrame({'Algoritmo': 'XG Boost (PCA)', 'RMSE':rmse,'Acc':modelo2.score(X_teste, y_teste)}, index = {'14'})\n",
    "resultados = pd.concat([resultados,XGB_PCA])\n",
    "resultados"
   ]
  },
  {
   "cell_type": "markdown",
   "metadata": {},
   "source": [
    "#### Cross-Validation"
   ]
  },
  {
   "cell_type": "markdown",
   "metadata": {},
   "source": [
    "##### Modelo 1"
   ]
  },
  {
   "cell_type": "code",
   "execution_count": 685,
   "metadata": {},
   "outputs": [
    {
     "name": "stdout",
     "output_type": "stream",
     "text": [
      "Formato da base preditora:  (148, 18)\n",
      "Formato da base com o alvo:  (148,)\n"
     ]
    }
   ],
   "source": [
    "# Divisão entre variáveis preditoras e varíavel alvo\n",
    "X = base.drop('faturamento', axis = 1)\n",
    "y = base['faturamento']\n",
    "print(\"Formato da base preditora: \", X.shape)\n",
    "print(\"Formato da base com o alvo: \", y.shape)"
   ]
  },
  {
   "cell_type": "code",
   "execution_count": 686,
   "metadata": {},
   "outputs": [],
   "source": [
    "modelo1 = XGBRegressor()"
   ]
  },
  {
   "cell_type": "code",
   "execution_count": 687,
   "metadata": {},
   "outputs": [],
   "source": [
    "# Avaliando o modelo\n",
    "from sklearn.model_selection import cross_validate\n",
    "scoring = {'Error':'neg_root_mean_squared_error' ,'Accuracy':'r2'}\n",
    "cv = RepeatedKFold(n_splits=10, n_repeats=3, random_state=1)\n",
    "#n_scores1 = cross_val_score(modelo1, X, y, scoring='neg_root_mean_squared_error', cv=cv, n_jobs=-1, error_score='raise')\n",
    "n_scores = cross_validate(modelo1, X,y, scoring = scoring, cv = cv)"
   ]
  },
  {
   "cell_type": "code",
   "execution_count": 688,
   "metadata": {},
   "outputs": [
    {
     "data": {
      "text/html": [
       "<div>\n",
       "<style scoped>\n",
       "    .dataframe tbody tr th:only-of-type {\n",
       "        vertical-align: middle;\n",
       "    }\n",
       "\n",
       "    .dataframe tbody tr th {\n",
       "        vertical-align: top;\n",
       "    }\n",
       "\n",
       "    .dataframe thead th {\n",
       "        text-align: right;\n",
       "    }\n",
       "</style>\n",
       "<table border=\"1\" class=\"dataframe\">\n",
       "  <thead>\n",
       "    <tr style=\"text-align: right;\">\n",
       "      <th></th>\n",
       "      <th>Algoritmo</th>\n",
       "      <th>RMSE</th>\n",
       "      <th>Acc</th>\n",
       "    </tr>\n",
       "  </thead>\n",
       "  <tbody>\n",
       "    <tr>\n",
       "      <th>1</th>\n",
       "      <td>Random Forest</td>\n",
       "      <td>102100.706189</td>\n",
       "      <td>0.847906</td>\n",
       "    </tr>\n",
       "    <tr>\n",
       "      <th>2</th>\n",
       "      <td>Random Forest (PCA)</td>\n",
       "      <td>92118.562170</td>\n",
       "      <td>0.925805</td>\n",
       "    </tr>\n",
       "    <tr>\n",
       "      <th>3</th>\n",
       "      <td>Random Forest (K-Fold)</td>\n",
       "      <td>86986.410574</td>\n",
       "      <td>0.894496</td>\n",
       "    </tr>\n",
       "    <tr>\n",
       "      <th>4</th>\n",
       "      <td>Random Forest (K-Fold/PCA)</td>\n",
       "      <td>80818.392238</td>\n",
       "      <td>0.905688</td>\n",
       "    </tr>\n",
       "    <tr>\n",
       "      <th>5</th>\n",
       "      <td>Gradient Boosting</td>\n",
       "      <td>57218.906244</td>\n",
       "      <td>0.972440</td>\n",
       "    </tr>\n",
       "    <tr>\n",
       "      <th>6</th>\n",
       "      <td>Gradient Boosting (PCA)</td>\n",
       "      <td>64022.252187</td>\n",
       "      <td>0.949746</td>\n",
       "    </tr>\n",
       "    <tr>\n",
       "      <th>7</th>\n",
       "      <td>Gradient Boosting (K-Fold)</td>\n",
       "      <td>73373.646545</td>\n",
       "      <td>0.926522</td>\n",
       "    </tr>\n",
       "    <tr>\n",
       "      <th>8</th>\n",
       "      <td>Gradient Boosting (K-Fold/PCA)</td>\n",
       "      <td>63930.084863</td>\n",
       "      <td>0.940646</td>\n",
       "    </tr>\n",
       "    <tr>\n",
       "      <th>9</th>\n",
       "      <td>Ada Boosting</td>\n",
       "      <td>105230.127047</td>\n",
       "      <td>0.906147</td>\n",
       "    </tr>\n",
       "    <tr>\n",
       "      <th>10</th>\n",
       "      <td>Ada Boosting (PCA)</td>\n",
       "      <td>100291.788048</td>\n",
       "      <td>0.898991</td>\n",
       "    </tr>\n",
       "    <tr>\n",
       "      <th>11</th>\n",
       "      <td>Ada Boosting (K-Fold)</td>\n",
       "      <td>97189.491497</td>\n",
       "      <td>0.869983</td>\n",
       "    </tr>\n",
       "    <tr>\n",
       "      <th>12</th>\n",
       "      <td>Ada Boosting (K-Fold/PCA)</td>\n",
       "      <td>95222.267164</td>\n",
       "      <td>0.870789</td>\n",
       "    </tr>\n",
       "    <tr>\n",
       "      <th>13</th>\n",
       "      <td>XG Boost</td>\n",
       "      <td>90175.822377</td>\n",
       "      <td>0.952424</td>\n",
       "    </tr>\n",
       "    <tr>\n",
       "      <th>14</th>\n",
       "      <td>XG Boost (PCA)</td>\n",
       "      <td>64707.347740</td>\n",
       "      <td>0.946485</td>\n",
       "    </tr>\n",
       "    <tr>\n",
       "      <th>15</th>\n",
       "      <td>XG Boost (K-Fold)</td>\n",
       "      <td>86035.645234</td>\n",
       "      <td>0.889177</td>\n",
       "    </tr>\n",
       "  </tbody>\n",
       "</table>\n",
       "</div>"
      ],
      "text/plain": [
       "                         Algoritmo           RMSE       Acc\n",
       "1                    Random Forest  102100.706189  0.847906\n",
       "2              Random Forest (PCA)   92118.562170  0.925805\n",
       "3           Random Forest (K-Fold)   86986.410574  0.894496\n",
       "4       Random Forest (K-Fold/PCA)   80818.392238  0.905688\n",
       "5                Gradient Boosting   57218.906244  0.972440\n",
       "6          Gradient Boosting (PCA)   64022.252187  0.949746\n",
       "7       Gradient Boosting (K-Fold)   73373.646545  0.926522\n",
       "8   Gradient Boosting (K-Fold/PCA)   63930.084863  0.940646\n",
       "9                     Ada Boosting  105230.127047  0.906147\n",
       "10              Ada Boosting (PCA)  100291.788048  0.898991\n",
       "11           Ada Boosting (K-Fold)   97189.491497  0.869983\n",
       "12       Ada Boosting (K-Fold/PCA)   95222.267164  0.870789\n",
       "13                        XG Boost   90175.822377  0.952424\n",
       "14                  XG Boost (PCA)   64707.347740  0.946485\n",
       "15               XG Boost (K-Fold)   86035.645234  0.889177"
      ]
     },
     "execution_count": 688,
     "metadata": {},
     "output_type": "execute_result"
    }
   ],
   "source": [
    "XGB_KFOLD = pd.DataFrame({'Algoritmo': 'XG Boost (K-Fold)', 'RMSE':abs(np.mean(n_scores['test_Error'])), 'Acc': np.mean(n_scores['test_Accuracy'])}, index = {'15'})\n",
    "resultados = pd.concat([resultados,XGB_KFOLD])\n",
    "resultados"
   ]
  },
  {
   "cell_type": "markdown",
   "metadata": {},
   "source": [
    "##### Modelo 2"
   ]
  },
  {
   "cell_type": "code",
   "execution_count": 689,
   "metadata": {},
   "outputs": [
    {
     "name": "stdout",
     "output_type": "stream",
     "text": [
      "Formato da base preditora:  (148, 18)\n",
      "Formato da base com o alvo:  (148,)\n"
     ]
    }
   ],
   "source": [
    "# Divisão entre variáveis preditoras e varíavel alvo\n",
    "X = base.drop('faturamento', axis = 1)\n",
    "y = base['faturamento']\n",
    "print(\"Formato da base preditora: \", X.shape)\n",
    "print(\"Formato da base com o alvo: \", y.shape)"
   ]
  },
  {
   "cell_type": "code",
   "execution_count": 690,
   "metadata": {},
   "outputs": [],
   "source": [
    "# Redução de dimensionalidade com o PCA\n",
    "from sklearn.decomposition import PCA\n",
    "pca = PCA(n_components = 9)\n",
    "X = pca.fit_transform(X)"
   ]
  },
  {
   "cell_type": "code",
   "execution_count": 691,
   "metadata": {},
   "outputs": [],
   "source": [
    "modelo2 = XGBRegressor()"
   ]
  },
  {
   "cell_type": "code",
   "execution_count": 692,
   "metadata": {},
   "outputs": [],
   "source": [
    "# Avaliando o modelo\n",
    "from sklearn.model_selection import cross_validate\n",
    "scoring = {'Error':'neg_root_mean_squared_error' ,'Accuracy':'r2'}\n",
    "cv = RepeatedKFold(n_splits=10, n_repeats=3, random_state=1)\n",
    "#n_scores1 = cross_val_score(modelo1, X, y, scoring='neg_root_mean_squared_error', cv=cv, n_jobs=-1, error_score='raise')\n",
    "n_scores = cross_validate(modelo2, X,y, scoring = scoring, cv = cv)"
   ]
  },
  {
   "cell_type": "code",
   "execution_count": 693,
   "metadata": {},
   "outputs": [
    {
     "data": {
      "text/html": [
       "<div>\n",
       "<style scoped>\n",
       "    .dataframe tbody tr th:only-of-type {\n",
       "        vertical-align: middle;\n",
       "    }\n",
       "\n",
       "    .dataframe tbody tr th {\n",
       "        vertical-align: top;\n",
       "    }\n",
       "\n",
       "    .dataframe thead th {\n",
       "        text-align: right;\n",
       "    }\n",
       "</style>\n",
       "<table border=\"1\" class=\"dataframe\">\n",
       "  <thead>\n",
       "    <tr style=\"text-align: right;\">\n",
       "      <th></th>\n",
       "      <th>Algoritmo</th>\n",
       "      <th>RMSE</th>\n",
       "      <th>Acc</th>\n",
       "    </tr>\n",
       "  </thead>\n",
       "  <tbody>\n",
       "    <tr>\n",
       "      <th>1</th>\n",
       "      <td>Random Forest</td>\n",
       "      <td>102100.706189</td>\n",
       "      <td>0.847906</td>\n",
       "    </tr>\n",
       "    <tr>\n",
       "      <th>2</th>\n",
       "      <td>Random Forest (PCA)</td>\n",
       "      <td>92118.562170</td>\n",
       "      <td>0.925805</td>\n",
       "    </tr>\n",
       "    <tr>\n",
       "      <th>3</th>\n",
       "      <td>Random Forest (K-Fold)</td>\n",
       "      <td>86986.410574</td>\n",
       "      <td>0.894496</td>\n",
       "    </tr>\n",
       "    <tr>\n",
       "      <th>4</th>\n",
       "      <td>Random Forest (K-Fold/PCA)</td>\n",
       "      <td>80818.392238</td>\n",
       "      <td>0.905688</td>\n",
       "    </tr>\n",
       "    <tr>\n",
       "      <th>5</th>\n",
       "      <td>Gradient Boosting</td>\n",
       "      <td>57218.906244</td>\n",
       "      <td>0.972440</td>\n",
       "    </tr>\n",
       "    <tr>\n",
       "      <th>6</th>\n",
       "      <td>Gradient Boosting (PCA)</td>\n",
       "      <td>64022.252187</td>\n",
       "      <td>0.949746</td>\n",
       "    </tr>\n",
       "    <tr>\n",
       "      <th>7</th>\n",
       "      <td>Gradient Boosting (K-Fold)</td>\n",
       "      <td>73373.646545</td>\n",
       "      <td>0.926522</td>\n",
       "    </tr>\n",
       "    <tr>\n",
       "      <th>8</th>\n",
       "      <td>Gradient Boosting (K-Fold/PCA)</td>\n",
       "      <td>63930.084863</td>\n",
       "      <td>0.940646</td>\n",
       "    </tr>\n",
       "    <tr>\n",
       "      <th>9</th>\n",
       "      <td>Ada Boosting</td>\n",
       "      <td>105230.127047</td>\n",
       "      <td>0.906147</td>\n",
       "    </tr>\n",
       "    <tr>\n",
       "      <th>10</th>\n",
       "      <td>Ada Boosting (PCA)</td>\n",
       "      <td>100291.788048</td>\n",
       "      <td>0.898991</td>\n",
       "    </tr>\n",
       "    <tr>\n",
       "      <th>11</th>\n",
       "      <td>Ada Boosting (K-Fold)</td>\n",
       "      <td>97189.491497</td>\n",
       "      <td>0.869983</td>\n",
       "    </tr>\n",
       "    <tr>\n",
       "      <th>12</th>\n",
       "      <td>Ada Boosting (K-Fold/PCA)</td>\n",
       "      <td>95222.267164</td>\n",
       "      <td>0.870789</td>\n",
       "    </tr>\n",
       "    <tr>\n",
       "      <th>13</th>\n",
       "      <td>XG Boost</td>\n",
       "      <td>90175.822377</td>\n",
       "      <td>0.952424</td>\n",
       "    </tr>\n",
       "    <tr>\n",
       "      <th>14</th>\n",
       "      <td>XG Boost (PCA)</td>\n",
       "      <td>64707.347740</td>\n",
       "      <td>0.946485</td>\n",
       "    </tr>\n",
       "    <tr>\n",
       "      <th>15</th>\n",
       "      <td>XG Boost (K-Fold)</td>\n",
       "      <td>86035.645234</td>\n",
       "      <td>0.889177</td>\n",
       "    </tr>\n",
       "    <tr>\n",
       "      <th>16</th>\n",
       "      <td>XG Boost (K-Fold/PCA)</td>\n",
       "      <td>72019.851585</td>\n",
       "      <td>0.927934</td>\n",
       "    </tr>\n",
       "  </tbody>\n",
       "</table>\n",
       "</div>"
      ],
      "text/plain": [
       "                         Algoritmo           RMSE       Acc\n",
       "1                    Random Forest  102100.706189  0.847906\n",
       "2              Random Forest (PCA)   92118.562170  0.925805\n",
       "3           Random Forest (K-Fold)   86986.410574  0.894496\n",
       "4       Random Forest (K-Fold/PCA)   80818.392238  0.905688\n",
       "5                Gradient Boosting   57218.906244  0.972440\n",
       "6          Gradient Boosting (PCA)   64022.252187  0.949746\n",
       "7       Gradient Boosting (K-Fold)   73373.646545  0.926522\n",
       "8   Gradient Boosting (K-Fold/PCA)   63930.084863  0.940646\n",
       "9                     Ada Boosting  105230.127047  0.906147\n",
       "10              Ada Boosting (PCA)  100291.788048  0.898991\n",
       "11           Ada Boosting (K-Fold)   97189.491497  0.869983\n",
       "12       Ada Boosting (K-Fold/PCA)   95222.267164  0.870789\n",
       "13                        XG Boost   90175.822377  0.952424\n",
       "14                  XG Boost (PCA)   64707.347740  0.946485\n",
       "15               XG Boost (K-Fold)   86035.645234  0.889177\n",
       "16           XG Boost (K-Fold/PCA)   72019.851585  0.927934"
      ]
     },
     "execution_count": 693,
     "metadata": {},
     "output_type": "execute_result"
    }
   ],
   "source": [
    "XGB_KFOLD_PCA = pd.DataFrame({'Algoritmo': 'XG Boost (K-Fold/PCA)', 'RMSE':abs(np.mean(n_scores['test_Error'])), 'Acc': np.mean(n_scores['test_Accuracy'])}, index = {'16'})\n",
    "resultados = pd.concat([resultados,XGB_KFOLD_PCA])\n",
    "resultados"
   ]
  },
  {
   "cell_type": "markdown",
   "metadata": {},
   "source": [
    "### Melhores algoritmos\n",
    "\n",
    "Pelos resultados acima, os melhores algoritmos foram em média o Gradient Boosting e o XG Boost. Obviamente os resultados acima podem alterar se o código for rodado novamente. Mas a tendência é que esses algoritmos se mantenham nas primeiras colocações de performance. \n",
    "\n",
    "A seguir estão mais algumas análise a fim de tentar melhorar o resultado conseguido com o Gradient Boosting"
   ]
  },
  {
   "cell_type": "markdown",
   "metadata": {},
   "source": [
    "#### Seleção de atributos\n",
    "\n",
    "O algoritmo será treinado usando os K melhores atributos, onde o valor de K será variado. A técnica para o cálculo da importância será primeiramente o \"mutual_info_regression\"."
   ]
  },
  {
   "cell_type": "markdown",
   "metadata": {},
   "source": [
    "##### Abordagem 1"
   ]
  },
  {
   "cell_type": "code",
   "execution_count": 713,
   "metadata": {},
   "outputs": [],
   "source": [
    "from sklearn.feature_selection import SelectKBest\n",
    "from sklearn.feature_selection import mutual_info_regression\n",
    "from sklearn.pipeline import Pipeline\n",
    "from sklearn.feature_selection import f_regression\n",
    "from sklearn.model_selection import GridSearchCV"
   ]
  },
  {
   "cell_type": "code",
   "execution_count": 696,
   "metadata": {},
   "outputs": [
    {
     "name": "stdout",
     "output_type": "stream",
     "text": [
      "Formato da base preditora:  (148, 18)\n",
      "Formato da base com o alvo:  (148,)\n"
     ]
    }
   ],
   "source": [
    "# Divisão entre variáveis preditoras e varíavel alvo\n",
    "X = base.drop('faturamento', axis = 1)\n",
    "y = base['faturamento']\n",
    "print(\"Formato da base preditora: \", X.shape)\n",
    "print(\"Formato da base com o alvo: \", y.shape)"
   ]
  },
  {
   "cell_type": "code",
   "execution_count": 697,
   "metadata": {},
   "outputs": [],
   "source": [
    "# Definindo o método e o modelo\n",
    "cv = RepeatedKFold(n_splits=10, n_repeats=3, random_state=1)\n",
    "modelo = GradientBoostingRegressor()"
   ]
  },
  {
   "cell_type": "code",
   "execution_count": 719,
   "metadata": {},
   "outputs": [],
   "source": [
    "# Utilização de pipeline\n",
    "fs = SelectKBest(score_func=mutual_info_regression)\n",
    "pipeline = Pipeline(steps=[('sel',fs), ('gb', modelo)])"
   ]
  },
  {
   "cell_type": "code",
   "execution_count": 720,
   "metadata": {},
   "outputs": [],
   "source": [
    "# Definindo o buscador \n",
    "grid = dict()\n",
    "grid['sel__k'] = [i for i in range(X.shape[1]-18, X.shape[1]+1)]"
   ]
  },
  {
   "cell_type": "code",
   "execution_count": 721,
   "metadata": {},
   "outputs": [],
   "source": [
    "procura = GridSearchCV(pipeline, grid, scoring='neg_root_mean_squared_error', n_jobs=-1, cv=cv)"
   ]
  },
  {
   "cell_type": "code",
   "execution_count": 722,
   "metadata": {},
   "outputs": [],
   "source": [
    "resultados = procura.fit(X, y)"
   ]
  },
  {
   "cell_type": "code",
   "execution_count": 723,
   "metadata": {},
   "outputs": [
    {
     "name": "stdout",
     "output_type": "stream",
     "text": [
      "Melhor RMSE: -73726.634\n",
      "Melhor conjunto: {'sel__k': 17}\n",
      ">nan with: {'sel__k': 0}\n",
      ">-244509.780 with: {'sel__k': 1}\n",
      ">-167096.421 with: {'sel__k': 2}\n",
      ">-96019.434 with: {'sel__k': 3}\n",
      ">-83992.282 with: {'sel__k': 4}\n",
      ">-80095.069 with: {'sel__k': 5}\n",
      ">-78808.503 with: {'sel__k': 6}\n",
      ">-79087.415 with: {'sel__k': 7}\n",
      ">-76510.995 with: {'sel__k': 8}\n",
      ">-78253.332 with: {'sel__k': 9}\n",
      ">-78232.859 with: {'sel__k': 10}\n",
      ">-77944.944 with: {'sel__k': 11}\n",
      ">-77666.809 with: {'sel__k': 12}\n",
      ">-77717.332 with: {'sel__k': 13}\n",
      ">-77197.784 with: {'sel__k': 14}\n",
      ">-76002.442 with: {'sel__k': 15}\n",
      ">-75345.946 with: {'sel__k': 16}\n",
      ">-73726.634 with: {'sel__k': 17}\n",
      ">-73759.966 with: {'sel__k': 18}\n"
     ]
    }
   ],
   "source": [
    "# Sumarizando os resultados\n",
    "\n",
    "print('Melhor RMSE: %.3f' % resultados.best_score_)\n",
    "print('Melhor conjunto: %s' % resultados.best_params_)\n",
    "medias = resultados.cv_results_['mean_test_score']\n",
    "params = resultados.cv_results_['params']\n",
    "for medias, params in zip(medias, params):\n",
    "    print(\">%.3f with: %r\" % (medias, params))"
   ]
  },
  {
   "cell_type": "markdown",
   "metadata": {},
   "source": [
    "##### Abordagem 2\n",
    "\n",
    "Um termo comum em Machine Learning é o Grid Search, onde vários parâmetros são testados em vista de se atingir os melhores resutados. Alguns parâmetros que serão testados são:\n",
    "\n",
    "\n",
    "* n_estimators = 10, 50, 100, 500, 1000\n",
    "* learning_rate = 0.0001, 0.001, 0.01, 0.1, 1.0\n",
    "* subsample = 0.5, 0.7, 1.0\n",
    "* max_depth = 3, 7, 9\n",
    "\n",
    "O grid search será realizado com o Cross - Validation, mas os melhores parâmetros também podem ser usados para a abordagem com a divisão em treino e teste."
   ]
  },
  {
   "cell_type": "code",
   "execution_count": null,
   "metadata": {},
   "outputs": [],
   "source": [
    "# Definindo o método e o modelo\n",
    "cv = RepeatedKFold(n_splits=10, n_repeats=3, random_state=1)\n",
    "modelo = GradientBoostingRegressor()"
   ]
  },
  {
   "cell_type": "code",
   "execution_count": 724,
   "metadata": {},
   "outputs": [],
   "source": [
    "# Definindo os parâmetros de busca\n",
    "grid = dict()\n",
    "grid['n_estimators'] = [10, 50, 100, 500,1000]\n",
    "grid['learning_rate'] = [0.0001, 0.001, 0.01, 0.1, 1.0]\n",
    "grid['subsample'] = [0.5, 0.7, 1.0]\n",
    "grid['max_depth'] = [3, 7, 9]"
   ]
  },
  {
   "cell_type": "code",
   "execution_count": 727,
   "metadata": {},
   "outputs": [],
   "source": [
    "# Definindo o processo de busca\n",
    "grid_busca = GridSearchCV(estimator=modelo, param_grid=grid, n_jobs=-1, cv=cv, scoring='neg_root_mean_squared_error')\n",
    "# execute the grid search\n",
    "grid_resultados = grid_busca.fit(X, y)"
   ]
  },
  {
   "cell_type": "code",
   "execution_count": 728,
   "metadata": {},
   "outputs": [
    {
     "name": "stdout",
     "output_type": "stream",
     "text": [
      "Melhor: -63436.945519 usando {'learning_rate': 0.1, 'max_depth': 3, 'n_estimators': 500, 'subsample': 0.5}\n",
      "-301095.369703 (81510.466573) with: {'learning_rate': 0.0001, 'max_depth': 3, 'n_estimators': 10, 'subsample': 0.5}\n",
      "-301085.911436 (81510.712198) with: {'learning_rate': 0.0001, 'max_depth': 3, 'n_estimators': 10, 'subsample': 0.7}\n",
      "-301093.508817 (81514.844632) with: {'learning_rate': 0.0001, 'max_depth': 3, 'n_estimators': 10, 'subsample': 1.0}\n",
      "-300125.768300 (81244.869676) with: {'learning_rate': 0.0001, 'max_depth': 3, 'n_estimators': 50, 'subsample': 0.5}\n",
      "-300095.742952 (81222.264783) with: {'learning_rate': 0.0001, 'max_depth': 3, 'n_estimators': 50, 'subsample': 0.7}\n",
      "-300112.396981 (81224.222031) with: {'learning_rate': 0.0001, 'max_depth': 3, 'n_estimators': 50, 'subsample': 1.0}\n",
      "-298917.509375 (80895.617661) with: {'learning_rate': 0.0001, 'max_depth': 3, 'n_estimators': 100, 'subsample': 0.5}\n",
      "-298863.166976 (80873.527187) with: {'learning_rate': 0.0001, 'max_depth': 3, 'n_estimators': 100, 'subsample': 0.7}\n",
      "-298875.220433 (80865.068972) with: {'learning_rate': 0.0001, 'max_depth': 3, 'n_estimators': 100, 'subsample': 1.0}\n",
      "-289536.292519 (78175.495551) with: {'learning_rate': 0.0001, 'max_depth': 3, 'n_estimators': 500, 'subsample': 0.5}\n",
      "-289183.570839 (78004.419287) with: {'learning_rate': 0.0001, 'max_depth': 3, 'n_estimators': 500, 'subsample': 0.7}\n",
      "-289162.064235 (78124.817931) with: {'learning_rate': 0.0001, 'max_depth': 3, 'n_estimators': 500, 'subsample': 1.0}\n",
      "-278226.442959 (74949.918911) with: {'learning_rate': 0.0001, 'max_depth': 3, 'n_estimators': 1000, 'subsample': 0.5}\n",
      "-277638.932831 (74643.251339) with: {'learning_rate': 0.0001, 'max_depth': 3, 'n_estimators': 1000, 'subsample': 0.7}\n",
      "-277496.292291 (74759.967884) with: {'learning_rate': 0.0001, 'max_depth': 3, 'n_estimators': 1000, 'subsample': 1.0}\n",
      "-301083.809554 (81515.322917) with: {'learning_rate': 0.0001, 'max_depth': 7, 'n_estimators': 10, 'subsample': 0.5}\n",
      "-301072.921233 (81509.487207) with: {'learning_rate': 0.0001, 'max_depth': 7, 'n_estimators': 10, 'subsample': 0.7}\n",
      "-301072.670513 (81511.019588) with: {'learning_rate': 0.0001, 'max_depth': 7, 'n_estimators': 10, 'subsample': 1.0}\n",
      "-300049.008135 (81236.206035) with: {'learning_rate': 0.0001, 'max_depth': 7, 'n_estimators': 50, 'subsample': 0.5}\n",
      "-300006.728886 (81229.639650) with: {'learning_rate': 0.0001, 'max_depth': 7, 'n_estimators': 50, 'subsample': 0.7}\n",
      "-300000.922581 (81221.658871) with: {'learning_rate': 0.0001, 'max_depth': 7, 'n_estimators': 50, 'subsample': 1.0}\n",
      "-298767.639172 (80910.104907) with: {'learning_rate': 0.0001, 'max_depth': 7, 'n_estimators': 100, 'subsample': 0.5}\n",
      "-298702.598928 (80873.165397) with: {'learning_rate': 0.0001, 'max_depth': 7, 'n_estimators': 100, 'subsample': 0.7}\n",
      "-298670.386102 (80863.721575) with: {'learning_rate': 0.0001, 'max_depth': 7, 'n_estimators': 100, 'subsample': 1.0}\n",
      "-288786.258285 (78333.343094) with: {'learning_rate': 0.0001, 'max_depth': 7, 'n_estimators': 500, 'subsample': 0.5}\n",
      "-288416.206875 (78148.395602) with: {'learning_rate': 0.0001, 'max_depth': 7, 'n_estimators': 500, 'subsample': 0.7}\n",
      "-288275.156119 (78048.536444) with: {'learning_rate': 0.0001, 'max_depth': 7, 'n_estimators': 500, 'subsample': 1.0}\n",
      "-276778.395927 (75265.998501) with: {'learning_rate': 0.0001, 'max_depth': 7, 'n_estimators': 1000, 'subsample': 0.5}\n",
      "-276255.620241 (74895.187272) with: {'learning_rate': 0.0001, 'max_depth': 7, 'n_estimators': 1000, 'subsample': 0.7}\n",
      "-275967.166935 (74730.534387) with: {'learning_rate': 0.0001, 'max_depth': 7, 'n_estimators': 1000, 'subsample': 1.0}\n",
      "-301085.523538 (81515.578544) with: {'learning_rate': 0.0001, 'max_depth': 9, 'n_estimators': 10, 'subsample': 0.5}\n",
      "-301073.239201 (81510.712307) with: {'learning_rate': 0.0001, 'max_depth': 9, 'n_estimators': 10, 'subsample': 0.7}\n",
      "-301069.662596 (81508.684753) with: {'learning_rate': 0.0001, 'max_depth': 9, 'n_estimators': 10, 'subsample': 1.0}\n",
      "-300051.885390 (81247.869273) with: {'learning_rate': 0.0001, 'max_depth': 9, 'n_estimators': 50, 'subsample': 0.5}\n",
      "-300019.606345 (81224.916988) with: {'learning_rate': 0.0001, 'max_depth': 9, 'n_estimators': 50, 'subsample': 0.7}\n",
      "-299997.859528 (81219.162994) with: {'learning_rate': 0.0001, 'max_depth': 9, 'n_estimators': 50, 'subsample': 1.0}\n",
      "-298763.993568 (80910.515872) with: {'learning_rate': 0.0001, 'max_depth': 9, 'n_estimators': 100, 'subsample': 0.5}\n",
      "-298692.031521 (80895.480286) with: {'learning_rate': 0.0001, 'max_depth': 9, 'n_estimators': 100, 'subsample': 0.7}\n",
      "-298665.175781 (80853.373875) with: {'learning_rate': 0.0001, 'max_depth': 9, 'n_estimators': 100, 'subsample': 1.0}\n",
      "-288721.377244 (78363.457844) with: {'learning_rate': 0.0001, 'max_depth': 9, 'n_estimators': 500, 'subsample': 0.5}\n",
      "-288381.174495 (78171.344582) with: {'learning_rate': 0.0001, 'max_depth': 9, 'n_estimators': 500, 'subsample': 0.7}\n",
      "-288267.013358 (78020.475229) with: {'learning_rate': 0.0001, 'max_depth': 9, 'n_estimators': 500, 'subsample': 1.0}\n",
      "-276775.014643 (75233.939992) with: {'learning_rate': 0.0001, 'max_depth': 9, 'n_estimators': 1000, 'subsample': 0.5}\n",
      "-276142.449179 (74907.428601) with: {'learning_rate': 0.0001, 'max_depth': 9, 'n_estimators': 1000, 'subsample': 0.7}\n",
      "-275857.593060 (74669.251737) with: {'learning_rate': 0.0001, 'max_depth': 9, 'n_estimators': 1000, 'subsample': 1.0}\n",
      "-298964.717863 (80923.702307) with: {'learning_rate': 0.001, 'max_depth': 3, 'n_estimators': 10, 'subsample': 0.5}\n",
      "-298838.723750 (80837.127068) with: {'learning_rate': 0.001, 'max_depth': 3, 'n_estimators': 10, 'subsample': 0.7}\n",
      "-298885.612016 (80851.697503) with: {'learning_rate': 0.001, 'max_depth': 3, 'n_estimators': 10, 'subsample': 1.0}\n",
      "-289495.986455 (78268.058329) with: {'learning_rate': 0.001, 'max_depth': 3, 'n_estimators': 50, 'subsample': 0.5}\n",
      "-289282.916835 (78081.931309) with: {'learning_rate': 0.001, 'max_depth': 3, 'n_estimators': 50, 'subsample': 0.7}\n",
      "-289144.087182 (78110.773529) with: {'learning_rate': 0.001, 'max_depth': 3, 'n_estimators': 50, 'subsample': 1.0}\n",
      "-278272.954927 (75006.849995) with: {'learning_rate': 0.001, 'max_depth': 3, 'n_estimators': 100, 'subsample': 0.5}\n",
      "-277629.152971 (74675.699503) with: {'learning_rate': 0.001, 'max_depth': 3, 'n_estimators': 100, 'subsample': 0.7}\n",
      "-277532.140961 (74777.442190) with: {'learning_rate': 0.001, 'max_depth': 3, 'n_estimators': 100, 'subsample': 1.0}\n",
      "-206094.784705 (54389.690853) with: {'learning_rate': 0.001, 'max_depth': 3, 'n_estimators': 500, 'subsample': 0.5}\n",
      "-204265.588032 (53472.802088) with: {'learning_rate': 0.001, 'max_depth': 3, 'n_estimators': 500, 'subsample': 0.7}\n",
      "-202057.101306 (53068.598226) with: {'learning_rate': 0.001, 'max_depth': 3, 'n_estimators': 500, 'subsample': 1.0}\n",
      "-150424.776341 (38931.521146) with: {'learning_rate': 0.001, 'max_depth': 3, 'n_estimators': 1000, 'subsample': 0.5}\n",
      "-147977.033473 (38126.766908) with: {'learning_rate': 0.001, 'max_depth': 3, 'n_estimators': 1000, 'subsample': 0.7}\n",
      "-146051.895230 (38979.487743) with: {'learning_rate': 0.001, 'max_depth': 3, 'n_estimators': 1000, 'subsample': 1.0}\n",
      "-298754.707041 (80899.932948) with: {'learning_rate': 0.001, 'max_depth': 7, 'n_estimators': 10, 'subsample': 0.5}\n",
      "-298613.015711 (80898.676352) with: {'learning_rate': 0.001, 'max_depth': 7, 'n_estimators': 10, 'subsample': 0.7}\n",
      "-298660.280876 (80855.298015) with: {'learning_rate': 0.001, 'max_depth': 7, 'n_estimators': 10, 'subsample': 1.0}\n",
      "-288746.413680 (78322.226879) with: {'learning_rate': 0.001, 'max_depth': 7, 'n_estimators': 50, 'subsample': 0.5}\n",
      "-288463.451487 (78128.495959) with: {'learning_rate': 0.001, 'max_depth': 7, 'n_estimators': 50, 'subsample': 0.7}\n",
      "-288243.162752 (78005.560724) with: {'learning_rate': 0.001, 'max_depth': 7, 'n_estimators': 50, 'subsample': 1.0}\n",
      "-276967.568289 (75289.639923) with: {'learning_rate': 0.001, 'max_depth': 7, 'n_estimators': 100, 'subsample': 0.5}\n",
      "-276234.457852 (75046.715031) with: {'learning_rate': 0.001, 'max_depth': 7, 'n_estimators': 100, 'subsample': 0.7}\n",
      "-275981.377943 (74770.700199) with: {'learning_rate': 0.001, 'max_depth': 7, 'n_estimators': 100, 'subsample': 1.0}\n",
      "-200721.025534 (55076.458639) with: {'learning_rate': 0.001, 'max_depth': 7, 'n_estimators': 500, 'subsample': 0.5}\n",
      "-199184.931463 (54762.401846) with: {'learning_rate': 0.001, 'max_depth': 7, 'n_estimators': 500, 'subsample': 0.7}\n",
      "-200560.066094 (54449.746650) with: {'learning_rate': 0.001, 'max_depth': 7, 'n_estimators': 500, 'subsample': 1.0}\n",
      "-142299.870089 (39978.671136) with: {'learning_rate': 0.001, 'max_depth': 7, 'n_estimators': 1000, 'subsample': 0.5}\n",
      "-140762.644688 (39271.492705) with: {'learning_rate': 0.001, 'max_depth': 7, 'n_estimators': 1000, 'subsample': 0.7}\n",
      "-146944.053612 (42366.698681) with: {'learning_rate': 0.001, 'max_depth': 7, 'n_estimators': 1000, 'subsample': 1.0}\n",
      "-298749.485400 (80901.398600) with: {'learning_rate': 0.001, 'max_depth': 9, 'n_estimators': 10, 'subsample': 0.5}\n",
      "-298694.246746 (80901.043682) with: {'learning_rate': 0.001, 'max_depth': 9, 'n_estimators': 10, 'subsample': 0.7}\n",
      "-298646.260814 (80879.808484) with: {'learning_rate': 0.001, 'max_depth': 9, 'n_estimators': 10, 'subsample': 1.0}\n",
      "-288654.021642 (78253.795836) with: {'learning_rate': 0.001, 'max_depth': 9, 'n_estimators': 50, 'subsample': 0.5}\n",
      "-288376.624339 (78097.803942) with: {'learning_rate': 0.001, 'max_depth': 9, 'n_estimators': 50, 'subsample': 0.7}\n",
      "-288231.299530 (78008.911924) with: {'learning_rate': 0.001, 'max_depth': 9, 'n_estimators': 50, 'subsample': 1.0}\n",
      "-276622.162603 (75132.551059) with: {'learning_rate': 0.001, 'max_depth': 9, 'n_estimators': 100, 'subsample': 0.5}\n",
      "-276145.729984 (74895.245224) with: {'learning_rate': 0.001, 'max_depth': 9, 'n_estimators': 100, 'subsample': 0.7}\n",
      "-275859.483111 (74711.790547) with: {'learning_rate': 0.001, 'max_depth': 9, 'n_estimators': 100, 'subsample': 1.0}\n",
      "-200399.729670 (55252.797439) with: {'learning_rate': 0.001, 'max_depth': 9, 'n_estimators': 500, 'subsample': 0.5}\n",
      "-198618.352358 (54565.947904) with: {'learning_rate': 0.001, 'max_depth': 9, 'n_estimators': 500, 'subsample': 0.7}\n",
      "-200717.279176 (54203.424854) with: {'learning_rate': 0.001, 'max_depth': 9, 'n_estimators': 500, 'subsample': 1.0}\n",
      "-141907.028638 (40182.241486) with: {'learning_rate': 0.001, 'max_depth': 9, 'n_estimators': 1000, 'subsample': 0.5}\n",
      "-140953.261685 (39714.213795) with: {'learning_rate': 0.001, 'max_depth': 9, 'n_estimators': 1000, 'subsample': 0.7}\n",
      "-150537.493232 (42801.676121) with: {'learning_rate': 0.001, 'max_depth': 9, 'n_estimators': 1000, 'subsample': 1.0}\n",
      "-278442.046280 (75283.756481) with: {'learning_rate': 0.01, 'max_depth': 3, 'n_estimators': 10, 'subsample': 0.5}\n",
      "-277775.673186 (74315.002768) with: {'learning_rate': 0.01, 'max_depth': 3, 'n_estimators': 10, 'subsample': 0.7}\n",
      "-277507.227322 (74590.644442) with: {'learning_rate': 0.01, 'max_depth': 3, 'n_estimators': 10, 'subsample': 1.0}\n",
      "-205189.905178 (54175.706003) with: {'learning_rate': 0.01, 'max_depth': 3, 'n_estimators': 50, 'subsample': 0.5}\n",
      "-204289.751636 (53803.503873) with: {'learning_rate': 0.01, 'max_depth': 3, 'n_estimators': 50, 'subsample': 0.7}\n",
      "-201692.709621 (52914.182854) with: {'learning_rate': 0.01, 'max_depth': 3, 'n_estimators': 50, 'subsample': 1.0}\n",
      "-150320.713089 (38699.935738) with: {'learning_rate': 0.01, 'max_depth': 3, 'n_estimators': 100, 'subsample': 0.5}\n",
      "-148280.076957 (38448.599935) with: {'learning_rate': 0.01, 'max_depth': 3, 'n_estimators': 100, 'subsample': 0.7}\n",
      "-145673.936653 (39108.322438) with: {'learning_rate': 0.01, 'max_depth': 3, 'n_estimators': 100, 'subsample': 1.0}\n",
      "-70355.073794 (22310.107767) with: {'learning_rate': 0.01, 'max_depth': 3, 'n_estimators': 500, 'subsample': 0.5}\n",
      "-72640.595991 (23223.031059) with: {'learning_rate': 0.01, 'max_depth': 3, 'n_estimators': 500, 'subsample': 0.7}\n",
      "-76948.823889 (27043.044935) with: {'learning_rate': 0.01, 'max_depth': 3, 'n_estimators': 500, 'subsample': 1.0}\n",
      "-63496.683523 (20634.469428) with: {'learning_rate': 0.01, 'max_depth': 3, 'n_estimators': 1000, 'subsample': 0.5}\n",
      "-67013.140585 (23845.731861) with: {'learning_rate': 0.01, 'max_depth': 3, 'n_estimators': 1000, 'subsample': 0.7}\n",
      "-72707.777721 (26008.009042) with: {'learning_rate': 0.01, 'max_depth': 3, 'n_estimators': 1000, 'subsample': 1.0}\n",
      "-276639.118986 (75134.568399) with: {'learning_rate': 0.01, 'max_depth': 7, 'n_estimators': 10, 'subsample': 0.5}\n",
      "-275968.223701 (74497.890768) with: {'learning_rate': 0.01, 'max_depth': 7, 'n_estimators': 10, 'subsample': 0.7}\n",
      "-275807.549780 (74496.630579) with: {'learning_rate': 0.01, 'max_depth': 7, 'n_estimators': 10, 'subsample': 1.0}\n",
      "-200208.325154 (55074.395461) with: {'learning_rate': 0.01, 'max_depth': 7, 'n_estimators': 50, 'subsample': 0.5}\n",
      "-198282.505186 (53837.687899) with: {'learning_rate': 0.01, 'max_depth': 7, 'n_estimators': 50, 'subsample': 0.7}\n",
      "-200537.578397 (54711.357290) with: {'learning_rate': 0.01, 'max_depth': 7, 'n_estimators': 50, 'subsample': 1.0}\n",
      "-141195.707658 (40015.967662) with: {'learning_rate': 0.01, 'max_depth': 7, 'n_estimators': 100, 'subsample': 0.5}\n",
      "-140075.177031 (39582.556257) with: {'learning_rate': 0.01, 'max_depth': 7, 'n_estimators': 100, 'subsample': 0.7}\n",
      "-146621.151748 (42417.805680) with: {'learning_rate': 0.01, 'max_depth': 7, 'n_estimators': 100, 'subsample': 1.0}\n",
      "-69123.612464 (23752.784776) with: {'learning_rate': 0.01, 'max_depth': 7, 'n_estimators': 500, 'subsample': 0.5}\n",
      "-77238.244536 (24206.351537) with: {'learning_rate': 0.01, 'max_depth': 7, 'n_estimators': 500, 'subsample': 0.7}\n",
      "-101496.510564 (40401.062518) with: {'learning_rate': 0.01, 'max_depth': 7, 'n_estimators': 500, 'subsample': 1.0}\n",
      "-66632.627585 (23339.834891) with: {'learning_rate': 0.01, 'max_depth': 7, 'n_estimators': 1000, 'subsample': 0.5}\n",
      "-76139.165767 (23600.718340) with: {'learning_rate': 0.01, 'max_depth': 7, 'n_estimators': 1000, 'subsample': 0.7}\n",
      "-101562.495239 (40466.564821) with: {'learning_rate': 0.01, 'max_depth': 7, 'n_estimators': 1000, 'subsample': 1.0}\n",
      "-276820.848866 (75152.226107) with: {'learning_rate': 0.01, 'max_depth': 9, 'n_estimators': 10, 'subsample': 0.5}\n",
      "-276402.891604 (75181.958019) with: {'learning_rate': 0.01, 'max_depth': 9, 'n_estimators': 10, 'subsample': 0.7}\n",
      "-276105.219960 (74639.412342) with: {'learning_rate': 0.01, 'max_depth': 9, 'n_estimators': 10, 'subsample': 1.0}\n",
      "-200727.921919 (53696.955639) with: {'learning_rate': 0.01, 'max_depth': 9, 'n_estimators': 50, 'subsample': 0.5}\n",
      "-198487.814716 (54515.343148) with: {'learning_rate': 0.01, 'max_depth': 9, 'n_estimators': 50, 'subsample': 0.7}\n",
      "-200803.029627 (54107.277234) with: {'learning_rate': 0.01, 'max_depth': 9, 'n_estimators': 50, 'subsample': 1.0}\n",
      "-141777.292244 (41029.480461) with: {'learning_rate': 0.01, 'max_depth': 9, 'n_estimators': 100, 'subsample': 0.5}\n",
      "-141196.147417 (39390.543872) with: {'learning_rate': 0.01, 'max_depth': 9, 'n_estimators': 100, 'subsample': 0.7}\n",
      "-150492.459031 (42541.371952) with: {'learning_rate': 0.01, 'max_depth': 9, 'n_estimators': 100, 'subsample': 1.0}\n",
      "-69723.899175 (23488.851273) with: {'learning_rate': 0.01, 'max_depth': 9, 'n_estimators': 500, 'subsample': 0.5}\n",
      "-78788.548538 (24844.106226) with: {'learning_rate': 0.01, 'max_depth': 9, 'n_estimators': 500, 'subsample': 0.7}\n",
      "-117184.538599 (46839.079944) with: {'learning_rate': 0.01, 'max_depth': 9, 'n_estimators': 500, 'subsample': 1.0}\n",
      "-66724.459073 (22775.368576) with: {'learning_rate': 0.01, 'max_depth': 9, 'n_estimators': 1000, 'subsample': 0.5}\n",
      "-78096.644834 (24715.420589) with: {'learning_rate': 0.01, 'max_depth': 9, 'n_estimators': 1000, 'subsample': 0.7}\n",
      "-116807.143108 (46926.769293) with: {'learning_rate': 0.01, 'max_depth': 9, 'n_estimators': 1000, 'subsample': 1.0}\n",
      "-150512.084264 (35809.285290) with: {'learning_rate': 0.1, 'max_depth': 3, 'n_estimators': 10, 'subsample': 0.5}\n",
      "-143659.230127 (37675.376481) with: {'learning_rate': 0.1, 'max_depth': 3, 'n_estimators': 10, 'subsample': 0.7}\n",
      "-143331.780453 (37511.696165) with: {'learning_rate': 0.1, 'max_depth': 3, 'n_estimators': 10, 'subsample': 1.0}\n",
      "-71999.048209 (22474.260765) with: {'learning_rate': 0.1, 'max_depth': 3, 'n_estimators': 50, 'subsample': 0.5}\n",
      "-75339.475019 (25164.760825) with: {'learning_rate': 0.1, 'max_depth': 3, 'n_estimators': 50, 'subsample': 0.7}\n",
      "-77673.135629 (26041.589191) with: {'learning_rate': 0.1, 'max_depth': 3, 'n_estimators': 50, 'subsample': 1.0}\n",
      "-67587.127439 (17620.974147) with: {'learning_rate': 0.1, 'max_depth': 3, 'n_estimators': 100, 'subsample': 0.5}\n",
      "-68603.194874 (23073.009421) with: {'learning_rate': 0.1, 'max_depth': 3, 'n_estimators': 100, 'subsample': 0.7}\n",
      "-72405.221763 (26236.243931) with: {'learning_rate': 0.1, 'max_depth': 3, 'n_estimators': 100, 'subsample': 1.0}\n",
      "-63436.945519 (20419.438100) with: {'learning_rate': 0.1, 'max_depth': 3, 'n_estimators': 500, 'subsample': 0.5}\n",
      "-66953.787039 (22023.294027) with: {'learning_rate': 0.1, 'max_depth': 3, 'n_estimators': 500, 'subsample': 0.7}\n",
      "-71959.233612 (25650.798760) with: {'learning_rate': 0.1, 'max_depth': 3, 'n_estimators': 500, 'subsample': 1.0}\n",
      "-65009.658961 (18775.335673) with: {'learning_rate': 0.1, 'max_depth': 3, 'n_estimators': 1000, 'subsample': 0.5}\n",
      "-66768.763566 (23147.732703) with: {'learning_rate': 0.1, 'max_depth': 3, 'n_estimators': 1000, 'subsample': 0.7}\n",
      "-71273.383690 (26006.871434) with: {'learning_rate': 0.1, 'max_depth': 3, 'n_estimators': 1000, 'subsample': 1.0}\n",
      "-139214.334706 (38973.849273) with: {'learning_rate': 0.1, 'max_depth': 7, 'n_estimators': 10, 'subsample': 0.5}\n",
      "-135496.034317 (39509.394484) with: {'learning_rate': 0.1, 'max_depth': 7, 'n_estimators': 10, 'subsample': 0.7}\n",
      "-142277.061718 (41996.586963) with: {'learning_rate': 0.1, 'max_depth': 7, 'n_estimators': 10, 'subsample': 1.0}\n",
      "-72282.412311 (23725.022471) with: {'learning_rate': 0.1, 'max_depth': 7, 'n_estimators': 50, 'subsample': 0.5}\n",
      "-77650.255602 (24246.603836) with: {'learning_rate': 0.1, 'max_depth': 7, 'n_estimators': 50, 'subsample': 0.7}\n",
      "-102254.454642 (40089.797637) with: {'learning_rate': 0.1, 'max_depth': 7, 'n_estimators': 50, 'subsample': 1.0}\n",
      "-72589.769506 (22204.703161) with: {'learning_rate': 0.1, 'max_depth': 7, 'n_estimators': 100, 'subsample': 0.5}\n",
      "-78529.645539 (23614.012273) with: {'learning_rate': 0.1, 'max_depth': 7, 'n_estimators': 100, 'subsample': 0.7}\n",
      "-102223.271182 (40145.429424) with: {'learning_rate': 0.1, 'max_depth': 7, 'n_estimators': 100, 'subsample': 1.0}\n",
      "-69391.653653 (22122.698800) with: {'learning_rate': 0.1, 'max_depth': 7, 'n_estimators': 500, 'subsample': 0.5}\n",
      "-80684.233679 (24859.246686) with: {'learning_rate': 0.1, 'max_depth': 7, 'n_estimators': 500, 'subsample': 0.7}\n",
      "-102896.876756 (40944.498949) with: {'learning_rate': 0.1, 'max_depth': 7, 'n_estimators': 500, 'subsample': 1.0}\n",
      "-68768.395966 (22963.882957) with: {'learning_rate': 0.1, 'max_depth': 7, 'n_estimators': 1000, 'subsample': 0.5}\n",
      "-77610.720191 (24297.462033) with: {'learning_rate': 0.1, 'max_depth': 7, 'n_estimators': 1000, 'subsample': 0.7}\n",
      "-102033.587535 (39583.395872) with: {'learning_rate': 0.1, 'max_depth': 7, 'n_estimators': 1000, 'subsample': 1.0}\n",
      "-140529.871610 (36566.052197) with: {'learning_rate': 0.1, 'max_depth': 9, 'n_estimators': 10, 'subsample': 0.5}\n",
      "-138649.917129 (39049.850105) with: {'learning_rate': 0.1, 'max_depth': 9, 'n_estimators': 10, 'subsample': 0.7}\n",
      "-145983.183740 (42109.415153) with: {'learning_rate': 0.1, 'max_depth': 9, 'n_estimators': 10, 'subsample': 1.0}\n",
      "-73941.383579 (23898.582529) with: {'learning_rate': 0.1, 'max_depth': 9, 'n_estimators': 50, 'subsample': 0.5}\n",
      "-83543.627964 (25736.637492) with: {'learning_rate': 0.1, 'max_depth': 9, 'n_estimators': 50, 'subsample': 0.7}\n",
      "-117620.651137 (44627.183911) with: {'learning_rate': 0.1, 'max_depth': 9, 'n_estimators': 50, 'subsample': 1.0}\n",
      "-72125.508616 (22485.825753) with: {'learning_rate': 0.1, 'max_depth': 9, 'n_estimators': 100, 'subsample': 0.5}\n",
      "-78245.892101 (24179.624019) with: {'learning_rate': 0.1, 'max_depth': 9, 'n_estimators': 100, 'subsample': 0.7}\n",
      "-116954.171950 (45547.339262) with: {'learning_rate': 0.1, 'max_depth': 9, 'n_estimators': 100, 'subsample': 1.0}\n",
      "-70433.704004 (25921.680737) with: {'learning_rate': 0.1, 'max_depth': 9, 'n_estimators': 500, 'subsample': 0.5}\n",
      "-83018.066869 (24580.936095) with: {'learning_rate': 0.1, 'max_depth': 9, 'n_estimators': 500, 'subsample': 0.7}\n",
      "-117433.854415 (46481.707552) with: {'learning_rate': 0.1, 'max_depth': 9, 'n_estimators': 500, 'subsample': 1.0}\n",
      "-69658.436327 (24308.962620) with: {'learning_rate': 0.1, 'max_depth': 9, 'n_estimators': 1000, 'subsample': 0.5}\n",
      "-78088.808577 (25157.798524) with: {'learning_rate': 0.1, 'max_depth': 9, 'n_estimators': 1000, 'subsample': 0.7}\n",
      "-115904.117681 (45646.312369) with: {'learning_rate': 0.1, 'max_depth': 9, 'n_estimators': 1000, 'subsample': 1.0}\n",
      "-179549.917177 (81518.062547) with: {'learning_rate': 1.0, 'max_depth': 3, 'n_estimators': 10, 'subsample': 0.5}\n",
      "-146979.505327 (53643.278212) with: {'learning_rate': 1.0, 'max_depth': 3, 'n_estimators': 10, 'subsample': 0.7}\n",
      "-126384.585114 (44816.828296) with: {'learning_rate': 1.0, 'max_depth': 3, 'n_estimators': 10, 'subsample': 1.0}\n",
      "-230122.912769 (80075.667545) with: {'learning_rate': 1.0, 'max_depth': 3, 'n_estimators': 50, 'subsample': 0.5}\n",
      "-152732.391094 (40428.700322) with: {'learning_rate': 1.0, 'max_depth': 3, 'n_estimators': 50, 'subsample': 0.7}\n",
      "-129034.385402 (45592.895742) with: {'learning_rate': 1.0, 'max_depth': 3, 'n_estimators': 50, 'subsample': 1.0}\n",
      "-250488.567221 (226739.721447) with: {'learning_rate': 1.0, 'max_depth': 3, 'n_estimators': 100, 'subsample': 0.5}\n",
      "-148611.038250 (46517.152434) with: {'learning_rate': 1.0, 'max_depth': 3, 'n_estimators': 100, 'subsample': 0.7}\n",
      "-123941.607380 (35298.987451) with: {'learning_rate': 1.0, 'max_depth': 3, 'n_estimators': 100, 'subsample': 1.0}\n",
      "-235013.511322 (109988.674384) with: {'learning_rate': 1.0, 'max_depth': 3, 'n_estimators': 500, 'subsample': 0.5}\n",
      "-149528.115877 (56793.116304) with: {'learning_rate': 1.0, 'max_depth': 3, 'n_estimators': 500, 'subsample': 0.7}\n",
      "-126577.119451 (39637.339276) with: {'learning_rate': 1.0, 'max_depth': 3, 'n_estimators': 500, 'subsample': 1.0}\n",
      "-266208.517372 (134617.754863) with: {'learning_rate': 1.0, 'max_depth': 3, 'n_estimators': 1000, 'subsample': 0.5}\n",
      "-171048.710893 (68888.151035) with: {'learning_rate': 1.0, 'max_depth': 3, 'n_estimators': 1000, 'subsample': 0.7}\n",
      "-128927.135151 (44906.737911) with: {'learning_rate': 1.0, 'max_depth': 3, 'n_estimators': 1000, 'subsample': 1.0}\n",
      "-199939.739653 (65487.722237) with: {'learning_rate': 1.0, 'max_depth': 7, 'n_estimators': 10, 'subsample': 0.5}\n",
      "-159203.513680 (56268.916940) with: {'learning_rate': 1.0, 'max_depth': 7, 'n_estimators': 10, 'subsample': 0.7}\n",
      "-132321.395275 (40184.710143) with: {'learning_rate': 1.0, 'max_depth': 7, 'n_estimators': 10, 'subsample': 1.0}\n",
      "-266817.744456 (127786.535877) with: {'learning_rate': 1.0, 'max_depth': 7, 'n_estimators': 50, 'subsample': 0.5}\n",
      "-139266.354316 (51734.106802) with: {'learning_rate': 1.0, 'max_depth': 7, 'n_estimators': 50, 'subsample': 0.7}\n",
      "-128997.571917 (48437.455601) with: {'learning_rate': 1.0, 'max_depth': 7, 'n_estimators': 50, 'subsample': 1.0}\n",
      "-231089.700011 (79712.917493) with: {'learning_rate': 1.0, 'max_depth': 7, 'n_estimators': 100, 'subsample': 0.5}\n",
      "-146170.201137 (39992.786983) with: {'learning_rate': 1.0, 'max_depth': 7, 'n_estimators': 100, 'subsample': 0.7}\n",
      "-137081.350233 (44036.228214) with: {'learning_rate': 1.0, 'max_depth': 7, 'n_estimators': 100, 'subsample': 1.0}\n",
      "-237096.773870 (185620.921011) with: {'learning_rate': 1.0, 'max_depth': 7, 'n_estimators': 500, 'subsample': 0.5}\n",
      "-149732.591699 (59732.432113) with: {'learning_rate': 1.0, 'max_depth': 7, 'n_estimators': 500, 'subsample': 0.7}\n",
      "-132852.294672 (47986.467951) with: {'learning_rate': 1.0, 'max_depth': 7, 'n_estimators': 500, 'subsample': 1.0}\n",
      "-238072.921975 (85948.530019) with: {'learning_rate': 1.0, 'max_depth': 7, 'n_estimators': 1000, 'subsample': 0.5}\n",
      "-163002.828556 (58348.310378) with: {'learning_rate': 1.0, 'max_depth': 7, 'n_estimators': 1000, 'subsample': 0.7}\n",
      "-136871.906530 (48489.669405) with: {'learning_rate': 1.0, 'max_depth': 7, 'n_estimators': 1000, 'subsample': 1.0}\n",
      "-211987.023277 (77794.599077) with: {'learning_rate': 1.0, 'max_depth': 9, 'n_estimators': 10, 'subsample': 0.5}\n",
      "-142388.185179 (51020.735605) with: {'learning_rate': 1.0, 'max_depth': 9, 'n_estimators': 10, 'subsample': 0.7}\n",
      "-132045.141065 (48907.892319) with: {'learning_rate': 1.0, 'max_depth': 9, 'n_estimators': 10, 'subsample': 1.0}\n",
      "-226299.274669 (93522.599037) with: {'learning_rate': 1.0, 'max_depth': 9, 'n_estimators': 50, 'subsample': 0.5}\n",
      "-150044.599926 (39026.843879) with: {'learning_rate': 1.0, 'max_depth': 9, 'n_estimators': 50, 'subsample': 0.7}\n",
      "-129086.040196 (47013.477125) with: {'learning_rate': 1.0, 'max_depth': 9, 'n_estimators': 50, 'subsample': 1.0}\n",
      "-230601.006950 (82841.361131) with: {'learning_rate': 1.0, 'max_depth': 9, 'n_estimators': 100, 'subsample': 0.5}\n",
      "-145562.951467 (54886.716655) with: {'learning_rate': 1.0, 'max_depth': 9, 'n_estimators': 100, 'subsample': 0.7}\n",
      "-130365.342302 (46884.001047) with: {'learning_rate': 1.0, 'max_depth': 9, 'n_estimators': 100, 'subsample': 1.0}\n",
      "-245586.464152 (78515.706355) with: {'learning_rate': 1.0, 'max_depth': 9, 'n_estimators': 500, 'subsample': 0.5}\n",
      "-150671.230538 (51116.513448) with: {'learning_rate': 1.0, 'max_depth': 9, 'n_estimators': 500, 'subsample': 0.7}\n",
      "-131929.678193 (50647.282875) with: {'learning_rate': 1.0, 'max_depth': 9, 'n_estimators': 500, 'subsample': 1.0}\n",
      "-257623.624997 (112431.573231) with: {'learning_rate': 1.0, 'max_depth': 9, 'n_estimators': 1000, 'subsample': 0.5}\n",
      "-158473.193454 (82514.931627) with: {'learning_rate': 1.0, 'max_depth': 9, 'n_estimators': 1000, 'subsample': 0.7}\n",
      "-128723.841245 (44489.745656) with: {'learning_rate': 1.0, 'max_depth': 9, 'n_estimators': 1000, 'subsample': 1.0}\n"
     ]
    }
   ],
   "source": [
    "# Sumarizando os resultados\n",
    "\n",
    "print(\"Melhor: %f usando %s\" % (grid_resultados.best_score_, grid_resultados.best_params_))\n",
    "\n",
    "medias = grid_resultados.cv_results_['mean_test_score']\n",
    "stds = grid_resultados.cv_results_['std_test_score']\n",
    "params = grid_resultados.cv_results_['params']\n",
    "for media, stdev, param in zip(medias, stds, params):\n",
    "    print(\"%f (%f) with: %r\" % (media, stdev, param))"
   ]
  },
  {
   "cell_type": "markdown",
   "metadata": {},
   "source": [
    "#### Treinando o modelo com os parâmetros ajustados\n",
    "\n",
    "* 'learning_rate': 0.1, 'max_depth': 3, 'n_estimators': 500, 'subsample': 0.5"
   ]
  },
  {
   "cell_type": "code",
   "execution_count": 729,
   "metadata": {},
   "outputs": [
    {
     "name": "stdout",
     "output_type": "stream",
     "text": [
      "Formato da base preditora:  (148, 18)\n",
      "Formato da base com o alvo:  (148,)\n"
     ]
    }
   ],
   "source": [
    "# Divisão entre variáveis preditoras e varíavel alvo\n",
    "X = base.drop('faturamento', axis = 1)\n",
    "y = base['faturamento']\n",
    "print(\"Formato da base preditora: \", X.shape)\n",
    "print(\"Formato da base com o alvo: \", y.shape)"
   ]
  },
  {
   "cell_type": "code",
   "execution_count": 730,
   "metadata": {},
   "outputs": [],
   "source": [
    "# Divisão entre treino (80% da base) e teste (20% da base)\n",
    "from sklearn.model_selection import train_test_split\n",
    "X_treino, X_teste, y_treino, y_teste = train_test_split(X, y, test_size = 0.2)"
   ]
  },
  {
   "cell_type": "code",
   "execution_count": 732,
   "metadata": {},
   "outputs": [
    {
     "data": {
      "text/plain": [
       "GradientBoostingRegressor(alpha=0.9, ccp_alpha=0.0, criterion='friedman_mse',\n",
       "                          init=None, learning_rate=0.1, loss='ls', max_depth=3,\n",
       "                          max_features=None, max_leaf_nodes=None,\n",
       "                          min_impurity_decrease=0.0, min_impurity_split=None,\n",
       "                          min_samples_leaf=1, min_samples_split=2,\n",
       "                          min_weight_fraction_leaf=0.0, n_estimators=500,\n",
       "                          n_iter_no_change=None, presort='deprecated',\n",
       "                          random_state=None, subsample=0.5, tol=0.0001,\n",
       "                          validation_fraction=0.1, verbose=0, warm_start=False)"
      ]
     },
     "execution_count": 732,
     "metadata": {},
     "output_type": "execute_result"
    }
   ],
   "source": [
    "# Criação do modelo e ajuste aos dados\n",
    "modelo = GradientBoostingRegressor(learning_rate = 0.1, max_depth = 3, n_estimators = 500, subsample = 0.5)\n",
    "modelo.fit(X_treino, y_treino)"
   ]
  },
  {
   "cell_type": "code",
   "execution_count": 733,
   "metadata": {},
   "outputs": [],
   "source": [
    "# Previsão\n",
    "y_pred = modelo.predict(X_teste)"
   ]
  },
  {
   "cell_type": "code",
   "execution_count": 734,
   "metadata": {},
   "outputs": [
    {
     "data": {
      "text/plain": [
       "0.999999711571235"
      ]
     },
     "execution_count": 734,
     "metadata": {},
     "output_type": "execute_result"
    }
   ],
   "source": [
    "# Acurácia do modelo com os dados de treino\n",
    "modelo.score(X_treino, y_treino)"
   ]
  },
  {
   "cell_type": "code",
   "execution_count": 735,
   "metadata": {},
   "outputs": [
    {
     "data": {
      "text/plain": [
       "0.97083069634902"
      ]
     },
     "execution_count": 735,
     "metadata": {},
     "output_type": "execute_result"
    }
   ],
   "source": [
    "# Acurácia do modelo com os dados de teste\n",
    "modelo.score(X_teste, y_teste)"
   ]
  },
  {
   "cell_type": "code",
   "execution_count": 736,
   "metadata": {},
   "outputs": [
    {
     "data": {
      "text/html": [
       "<div>\n",
       "<style scoped>\n",
       "    .dataframe tbody tr th:only-of-type {\n",
       "        vertical-align: middle;\n",
       "    }\n",
       "\n",
       "    .dataframe tbody tr th {\n",
       "        vertical-align: top;\n",
       "    }\n",
       "\n",
       "    .dataframe thead th {\n",
       "        text-align: right;\n",
       "    }\n",
       "</style>\n",
       "<table border=\"1\" class=\"dataframe\">\n",
       "  <thead>\n",
       "    <tr style=\"text-align: right;\">\n",
       "      <th></th>\n",
       "      <th>Real</th>\n",
       "      <th>Previsto</th>\n",
       "    </tr>\n",
       "  </thead>\n",
       "  <tbody>\n",
       "    <tr>\n",
       "      <th>92</th>\n",
       "      <td>905395.0</td>\n",
       "      <td>9.235735e+05</td>\n",
       "    </tr>\n",
       "    <tr>\n",
       "      <th>65</th>\n",
       "      <td>1289705.0</td>\n",
       "      <td>1.298336e+06</td>\n",
       "    </tr>\n",
       "    <tr>\n",
       "      <th>58</th>\n",
       "      <td>1004569.0</td>\n",
       "      <td>9.623397e+05</td>\n",
       "    </tr>\n",
       "    <tr>\n",
       "      <th>41</th>\n",
       "      <td>748387.0</td>\n",
       "      <td>7.874015e+05</td>\n",
       "    </tr>\n",
       "    <tr>\n",
       "      <th>4</th>\n",
       "      <td>553020.0</td>\n",
       "      <td>5.003449e+05</td>\n",
       "    </tr>\n",
       "    <tr>\n",
       "      <th>98</th>\n",
       "      <td>629794.0</td>\n",
       "      <td>5.498452e+05</td>\n",
       "    </tr>\n",
       "    <tr>\n",
       "      <th>66</th>\n",
       "      <td>688001.0</td>\n",
       "      <td>5.901047e+05</td>\n",
       "    </tr>\n",
       "    <tr>\n",
       "      <th>113</th>\n",
       "      <td>848230.0</td>\n",
       "      <td>7.471150e+05</td>\n",
       "    </tr>\n",
       "    <tr>\n",
       "      <th>119</th>\n",
       "      <td>934074.0</td>\n",
       "      <td>9.301037e+05</td>\n",
       "    </tr>\n",
       "    <tr>\n",
       "      <th>48</th>\n",
       "      <td>932007.0</td>\n",
       "      <td>9.342668e+05</td>\n",
       "    </tr>\n",
       "    <tr>\n",
       "      <th>12</th>\n",
       "      <td>662520.0</td>\n",
       "      <td>6.486201e+05</td>\n",
       "    </tr>\n",
       "    <tr>\n",
       "      <th>135</th>\n",
       "      <td>197681.0</td>\n",
       "      <td>1.868554e+05</td>\n",
       "    </tr>\n",
       "    <tr>\n",
       "      <th>147</th>\n",
       "      <td>560631.0</td>\n",
       "      <td>6.556211e+05</td>\n",
       "    </tr>\n",
       "    <tr>\n",
       "      <th>76</th>\n",
       "      <td>795430.0</td>\n",
       "      <td>7.788676e+05</td>\n",
       "    </tr>\n",
       "    <tr>\n",
       "      <th>139</th>\n",
       "      <td>1014058.0</td>\n",
       "      <td>1.035788e+06</td>\n",
       "    </tr>\n",
       "    <tr>\n",
       "      <th>59</th>\n",
       "      <td>1409134.0</td>\n",
       "      <td>1.403657e+06</td>\n",
       "    </tr>\n",
       "    <tr>\n",
       "      <th>50</th>\n",
       "      <td>1981817.0</td>\n",
       "      <td>1.808375e+06</td>\n",
       "    </tr>\n",
       "    <tr>\n",
       "      <th>69</th>\n",
       "      <td>1030856.0</td>\n",
       "      <td>9.551546e+05</td>\n",
       "    </tr>\n",
       "    <tr>\n",
       "      <th>46</th>\n",
       "      <td>805559.0</td>\n",
       "      <td>7.809603e+05</td>\n",
       "    </tr>\n",
       "    <tr>\n",
       "      <th>110</th>\n",
       "      <td>810599.0</td>\n",
       "      <td>7.983375e+05</td>\n",
       "    </tr>\n",
       "    <tr>\n",
       "      <th>102</th>\n",
       "      <td>789315.0</td>\n",
       "      <td>8.055215e+05</td>\n",
       "    </tr>\n",
       "    <tr>\n",
       "      <th>138</th>\n",
       "      <td>778067.0</td>\n",
       "      <td>7.674464e+05</td>\n",
       "    </tr>\n",
       "    <tr>\n",
       "      <th>143</th>\n",
       "      <td>722040.0</td>\n",
       "      <td>7.359602e+05</td>\n",
       "    </tr>\n",
       "    <tr>\n",
       "      <th>134</th>\n",
       "      <td>828677.0</td>\n",
       "      <td>8.225573e+05</td>\n",
       "    </tr>\n",
       "    <tr>\n",
       "      <th>84</th>\n",
       "      <td>932622.0</td>\n",
       "      <td>8.964844e+05</td>\n",
       "    </tr>\n",
       "    <tr>\n",
       "      <th>42</th>\n",
       "      <td>846146.0</td>\n",
       "      <td>7.926436e+05</td>\n",
       "    </tr>\n",
       "    <tr>\n",
       "      <th>77</th>\n",
       "      <td>1448872.0</td>\n",
       "      <td>1.487098e+06</td>\n",
       "    </tr>\n",
       "    <tr>\n",
       "      <th>45</th>\n",
       "      <td>818442.0</td>\n",
       "      <td>8.329704e+05</td>\n",
       "    </tr>\n",
       "    <tr>\n",
       "      <th>157</th>\n",
       "      <td>1127042.0</td>\n",
       "      <td>1.169072e+06</td>\n",
       "    </tr>\n",
       "    <tr>\n",
       "      <th>155</th>\n",
       "      <td>901446.0</td>\n",
       "      <td>9.142197e+05</td>\n",
       "    </tr>\n",
       "  </tbody>\n",
       "</table>\n",
       "</div>"
      ],
      "text/plain": [
       "          Real      Previsto\n",
       "92    905395.0  9.235735e+05\n",
       "65   1289705.0  1.298336e+06\n",
       "58   1004569.0  9.623397e+05\n",
       "41    748387.0  7.874015e+05\n",
       "4     553020.0  5.003449e+05\n",
       "98    629794.0  5.498452e+05\n",
       "66    688001.0  5.901047e+05\n",
       "113   848230.0  7.471150e+05\n",
       "119   934074.0  9.301037e+05\n",
       "48    932007.0  9.342668e+05\n",
       "12    662520.0  6.486201e+05\n",
       "135   197681.0  1.868554e+05\n",
       "147   560631.0  6.556211e+05\n",
       "76    795430.0  7.788676e+05\n",
       "139  1014058.0  1.035788e+06\n",
       "59   1409134.0  1.403657e+06\n",
       "50   1981817.0  1.808375e+06\n",
       "69   1030856.0  9.551546e+05\n",
       "46    805559.0  7.809603e+05\n",
       "110   810599.0  7.983375e+05\n",
       "102   789315.0  8.055215e+05\n",
       "138   778067.0  7.674464e+05\n",
       "143   722040.0  7.359602e+05\n",
       "134   828677.0  8.225573e+05\n",
       "84    932622.0  8.964844e+05\n",
       "42    846146.0  7.926436e+05\n",
       "77   1448872.0  1.487098e+06\n",
       "45    818442.0  8.329704e+05\n",
       "157  1127042.0  1.169072e+06\n",
       "155   901446.0  9.142197e+05"
      ]
     },
     "execution_count": 736,
     "metadata": {},
     "output_type": "execute_result"
    }
   ],
   "source": [
    "# Criação de um dataframe para comparação dos valores\n",
    "comp = pd.DataFrame({\"Real\":y_teste, \"Previsto\":y_pred})\n",
    "comp"
   ]
  },
  {
   "cell_type": "code",
   "execution_count": 838,
   "metadata": {},
   "outputs": [
    {
     "data": {
      "text/plain": [
       "população        49419.0\n",
       "popAte9           5878.0\n",
       "popDe10a14        2837.0\n",
       "popDe15a19        3799.0\n",
       "popDe20a24        3699.0\n",
       "popDe25a34        7139.0\n",
       "popDe35a49       10280.0\n",
       "popDe50a59        6634.0\n",
       "popMaisDe60       9153.0\n",
       "domiciliosA1         0.0\n",
       "domiciliosA2       117.0\n",
       "domiciliosB1      1515.0\n",
       "domiciliosB2      2985.0\n",
       "domiciliosC1      4678.0\n",
       "domiciliosC2      4447.0\n",
       "domiciliosD        931.0\n",
       "domiciliosE       2281.0\n",
       "rendaMedia        1675.0\n",
       "faturamento     726430.0\n",
       "Name: 91, dtype: float64"
      ]
     },
     "execution_count": 838,
     "metadata": {},
     "output_type": "execute_result"
    }
   ],
   "source": [
    "base.loc[91]"
   ]
  },
  {
   "cell_type": "code",
   "execution_count": 737,
   "metadata": {},
   "outputs": [
    {
     "name": "stdout",
     "output_type": "stream",
     "text": [
      "Root Mean Squared Error:  54086.704320611556\n"
     ]
    }
   ],
   "source": [
    "# RMSE do modelo\n",
    "from sklearn import metrics\n",
    "mse = metrics.mean_squared_error(y_teste, y_pred)\n",
    "rmse = np.sqrt(mse)\n",
    "print(\"Root Mean Squared Error: \", rmse)"
   ]
  },
  {
   "cell_type": "code",
   "execution_count": 749,
   "metadata": {},
   "outputs": [
    {
     "data": {
      "text/plain": [
       "<Figure size 1600x1600 with 0 Axes>"
      ]
     },
     "metadata": {},
     "output_type": "display_data"
    },
    {
     "data": {
      "image/png": "[encoded data removed]",
      "text/plain": [
       "<Figure size 1440x720 with 1 Axes>"
      ]
     },
     "metadata": {
      "needs_background": "light"
     },
     "output_type": "display_data"
    }
   ],
   "source": [
    "# Visualização das comparações\n",
    "\n",
    "y_teste = np.asarray(y_teste)\n",
    "y_pred = np.asarray(y_pred)\n",
    "df1 = pd.DataFrame({'Real': y_teste.flatten(), 'Predito': y_pred.flatten()})\n",
    "\n",
    "df1.plot(kind='bar')\n",
    "plt.grid(which='major', linestyle='-', linewidth='0.5', color='green')\n",
    "plt.grid(which='minor', linestyle=':', linewidth='0.5', color='black')\n",
    "plt.gcf().set_size_inches(20, 10)"
   ]
  },
  {
   "cell_type": "markdown",
   "metadata": {},
   "source": [
    "### Prevendo o faturamento de um novo registro\n",
    "\n",
    "Aqui será possível que sejam feitos alguns testes com valores novos para o modelo. Será utilizado a biblioteca \"ipywidgets\" que permite uma certa interatividade na escolha dos valores"
   ]
  },
  {
   "cell_type": "code",
   "execution_count": 14,
   "metadata": {},
   "outputs": [],
   "source": [
    "from ipywidgets import widgets, interact, interact_manual, FloatSlider"
   ]
  },
  {
   "cell_type": "markdown",
   "metadata": {},
   "source": [
    "##### Entrando com o nome do bairro"
   ]
  },
  {
   "cell_type": "code",
   "execution_count": 15,
   "metadata": {},
   "outputs": [
    {
     "data": {
      "application/vnd.jupyter.widget-view+json": {
       "model_id": "f611eb9858ed468f8e26a242ae69f5b0",
       "version_major": 2,
       "version_minor": 0
      },
      "text/plain": [
       "Text(value='')"
      ]
     },
     "metadata": {},
     "output_type": "display_data"
    }
   ],
   "source": [
    "# Criando a caixa\n",
    "nome = widgets.Text()\n",
    "input_text = widgets.Text()\n",
    "\n",
    "input_text"
   ]
  },
  {
   "cell_type": "code",
   "execution_count": 16,
   "metadata": {},
   "outputs": [
    {
     "name": "stdout",
     "output_type": "stream",
     "text": [
      "O nome do novo bairro é:  Bairro do Limoeiro\n"
     ]
    }
   ],
   "source": [
    "# Passando pra variáves\n",
    "nome = input_text.value\n",
    "\n",
    "print(\"O nome do novo bairro é: \", nome)"
   ]
  },
  {
   "cell_type": "markdown",
   "metadata": {},
   "source": [
    "##### Entrando com as informações"
   ]
  },
  {
   "cell_type": "code",
   "execution_count": 17,
   "metadata": {},
   "outputs": [
    {
     "data": {
      "application/vnd.jupyter.widget-view+json": {
       "model_id": "01b97e980c83458f93fbe23131422160",
       "version_major": 2,
       "version_minor": 0
      },
      "text/plain": [
       "Accordion(children=(FloatSlider(value=0.0, max=100000.0, step=100.0), FloatSlider(value=0.0, max=100000.0, ste…"
      ]
     },
     "metadata": {},
     "output_type": "display_data"
    }
   ],
   "source": [
    "# Definindo os campos e os sliders para preenchimento\n",
    "accordion = widgets.Accordion(children=[widgets.FloatSlider(min = 0, max = 100000,step = 100), \n",
    "                                        widgets.FloatSlider(min = 0, max = 100000,step = 100),\n",
    "                                        widgets.FloatSlider(min = 0, max = 100000,step = 100),\n",
    "                                        widgets.FloatSlider(min = 0, max = 100000,step = 100),\n",
    "                                        widgets.FloatSlider(min = 0, max = 100000,step = 100),\n",
    "                                        widgets.FloatSlider(min = 0, max = 100000,step = 100),\n",
    "                                        widgets.FloatSlider(min = 0, max = 100000,step = 100),\n",
    "                                        widgets.FloatSlider(min = 0, max = 100000,step = 100),\n",
    "                                        widgets.FloatSlider(min = 0, max = 100000,step = 100),\n",
    "                                        widgets.FloatSlider(min = 0, max = 100000,step = 100),\n",
    "                                        widgets.FloatSlider(min = 0, max = 100000,step = 100),\n",
    "                                        widgets.FloatSlider(min = 0, max = 100000,step = 100),\n",
    "                                        widgets.FloatSlider(min = 0, max = 100000,step = 100),\n",
    "                                        widgets.FloatSlider(min = 0, max = 100000,step = 100),\n",
    "                                        widgets.FloatSlider(min = 0, max = 100000,step = 100),\n",
    "                                        widgets.FloatSlider(min = 0, max = 100000,step = 100),\n",
    "                                        widgets.FloatSlider(min = 0, max = 100000,step = 100),\n",
    "                                        widgets.FloatSlider(min = 0, max = 1000000,step = 100)])\n",
    "\n",
    "# Definindo os títulos\n",
    "accordion.set_title(0,'População')\n",
    "accordion.set_title(1,'População até 9 anos')\n",
    "accordion.set_title(2,'População de 10 a 14 anos')\n",
    "accordion.set_title(3,'População de 15 a 19 anos')\n",
    "accordion.set_title(4,'População de 20 a 24 anos')\n",
    "accordion.set_title(5,'População de 25 a 34 anos')\n",
    "accordion.set_title(6,'População de 35 a 49 anos')\n",
    "accordion.set_title(7,'População de 50 a 59 anos')\n",
    "accordion.set_title(8,'População de mais de 60 anos')\n",
    "accordion.set_title(9,'Domicílios Renda A1')\n",
    "accordion.set_title(10,'Domicílios Renda A2')\n",
    "accordion.set_title(11,'Domicílios Renda B1')\n",
    "accordion.set_title(12,'Domicílios Renda B2')\n",
    "accordion.set_title(13,'Domicílios Renda C1')\n",
    "accordion.set_title(14,'Domicílios Renda C2')\n",
    "accordion.set_title(15,'Domicílios Renda D')\n",
    "accordion.set_title(16,'Domicílios Renda E')\n",
    "accordion.set_title(17,'Renda Média')\n",
    "\n",
    "\n",
    "                                     \n",
    "\n",
    "accordion"
   ]
  },
  {
   "cell_type": "code",
   "execution_count": 839,
   "metadata": {},
   "outputs": [
    {
     "data": {
      "text/plain": [
       "[49800.0,\n",
       " 5000.0,\n",
       " 2700.0,\n",
       " 3600.0,\n",
       " 3600.0,\n",
       " 7400.0,\n",
       " 10000.0,\n",
       " 6400.0,\n",
       " 9300.0,\n",
       " 0.0,\n",
       " 700.0,\n",
       " 900.0,\n",
       " 2100.0,\n",
       " 4400.0,\n",
       " 4900.0,\n",
       " 700.0,\n",
       " 2500.0,\n",
       " 1900.0]"
      ]
     },
     "execution_count": 839,
     "metadata": {},
     "output_type": "execute_result"
    }
   ],
   "source": [
    "# Colocando os valores em uma lista \n",
    "var = []\n",
    "for i in range(len(accordion.children)):\n",
    "    var.append(accordion.children[i].value)\n",
    "var"
   ]
  },
  {
   "cell_type": "code",
   "execution_count": 840,
   "metadata": {},
   "outputs": [
    {
     "data": {
      "text/html": [
       "<div>\n",
       "<style scoped>\n",
       "    .dataframe tbody tr th:only-of-type {\n",
       "        vertical-align: middle;\n",
       "    }\n",
       "\n",
       "    .dataframe tbody tr th {\n",
       "        vertical-align: top;\n",
       "    }\n",
       "\n",
       "    .dataframe thead th {\n",
       "        text-align: right;\n",
       "    }\n",
       "</style>\n",
       "<table border=\"1\" class=\"dataframe\">\n",
       "  <thead>\n",
       "    <tr style=\"text-align: right;\">\n",
       "      <th></th>\n",
       "      <th>0</th>\n",
       "      <th>1</th>\n",
       "      <th>2</th>\n",
       "      <th>3</th>\n",
       "      <th>4</th>\n",
       "      <th>5</th>\n",
       "      <th>6</th>\n",
       "      <th>7</th>\n",
       "      <th>8</th>\n",
       "      <th>9</th>\n",
       "      <th>10</th>\n",
       "      <th>11</th>\n",
       "      <th>12</th>\n",
       "      <th>13</th>\n",
       "      <th>14</th>\n",
       "      <th>15</th>\n",
       "      <th>16</th>\n",
       "      <th>17</th>\n",
       "    </tr>\n",
       "  </thead>\n",
       "  <tbody>\n",
       "    <tr>\n",
       "      <th>0</th>\n",
       "      <td>49800.0</td>\n",
       "      <td>5000.0</td>\n",
       "      <td>2700.0</td>\n",
       "      <td>3600.0</td>\n",
       "      <td>3600.0</td>\n",
       "      <td>7400.0</td>\n",
       "      <td>10000.0</td>\n",
       "      <td>6400.0</td>\n",
       "      <td>9300.0</td>\n",
       "      <td>0.0</td>\n",
       "      <td>700.0</td>\n",
       "      <td>900.0</td>\n",
       "      <td>2100.0</td>\n",
       "      <td>4400.0</td>\n",
       "      <td>4900.0</td>\n",
       "      <td>700.0</td>\n",
       "      <td>2500.0</td>\n",
       "      <td>1900.0</td>\n",
       "    </tr>\n",
       "  </tbody>\n",
       "</table>\n",
       "</div>"
      ],
      "text/plain": [
       "        0       1       2       3       4       5        6       7       8   \\\n",
       "0  49800.0  5000.0  2700.0  3600.0  3600.0  7400.0  10000.0  6400.0  9300.0   \n",
       "\n",
       "    9      10     11      12      13      14     15      16      17  \n",
       "0  0.0  700.0  900.0  2100.0  4400.0  4900.0  700.0  2500.0  1900.0  "
      ]
     },
     "execution_count": 840,
     "metadata": {},
     "output_type": "execute_result"
    }
   ],
   "source": [
    "# Passando para o formato de dataframe e fazendo a transposição\n",
    "var = pd.DataFrame(var)\n",
    "var = var.T\n",
    "var"
   ]
  },
  {
   "cell_type": "code",
   "execution_count": 841,
   "metadata": {},
   "outputs": [
    {
     "data": {
      "text/plain": [
       "(1, 18)"
      ]
     },
     "execution_count": 841,
     "metadata": {},
     "output_type": "execute_result"
    }
   ],
   "source": [
    "# Formato do registro\n",
    "var.shape"
   ]
  },
  {
   "cell_type": "code",
   "execution_count": 858,
   "metadata": {},
   "outputs": [
    {
     "name": "stdout",
     "output_type": "stream",
     "text": [
      "A previsão de faturamento para o Bairro do Limoeiro é de 1019596.0 reais\n"
     ]
    }
   ],
   "source": [
    "# Fazendo a previsão \n",
    "\n",
    "previsao = modelo.predict(var)\n",
    "print(\"A previsão de faturamento para o \" + nome + \" é de \"+ str(np.round(previsao[0],2)) + \" reais\")"
   ]
  },
  {
   "cell_type": "markdown",
   "metadata": {},
   "source": [
    "### Observações finais\n",
    "\n",
    "* Outros algoritmos poderiam ter sido utilizados, é claro, como as Redes Neurais Artificiais, com chance inclusive de terem alcançado resultados melhores. Escolhi utilizar esses por geralmente apresentarem resultados satisfatórios por serem do tipo \"ensemble\", isto é, combinarem a utilização de vários algoritmos a fim de fazerem os melhores ajustes possíveis para a diminuição das perdas. \n",
    "\n",
    "* Algumas células se encontram com a numeração fora de ordem pois, ao final, carreguei a base novamente para realizar outros testes, que acabei optando por não colocar na versão final (como a utilização do Pandas Profiling por exemplo).\n",
    "\n",
    "* Caso nas células com os widgets apareça algum erro, favor rodas as células novamente que funcionará normalmente. \n",
    "\n",
    "* Outras ferrmamentas poderiam ter sido utilizadas como a linguagem R, por exemplo. Preferi fazer tudo em Python pois acho a interface do Jupyter Notebook mais amigável para a apresentação dos resultados. \n",
    "\n",
    "\n",
    "Obrigado pelo seu tempo! "
   ]
  },
  {
   "cell_type": "markdown",
   "metadata": {},
   "source": [
    "# Fim"
   ]
  }
 ],
 "metadata": {
  "kernelspec": {
   "display_name": "Python 3",
   "language": "python",
   "name": "python3"
  },
  "language_info": {
   "codemirror_mode": {
    "name": "ipython",
    "version": 3
   },
   "file_extension": ".py",
   "mimetype": "text/x-python",
   "name": "python",
   "nbconvert_exporter": "python",
   "pygments_lexer": "ipython3",
   "version": "3.6.5"
  }
 },
 "nbformat": 4,
 "nbformat_minor": 4
}
